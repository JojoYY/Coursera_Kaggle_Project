{
 "cells": [
  {
   "cell_type": "code",
   "execution_count": 1,
   "metadata": {},
   "outputs": [],
   "source": [
    "import numpy as np\n",
    "import pandas as pd\n",
    "import matplotlib.pyplot as plt\n",
    "%matplotlib inline\n",
    "\n",
    "import seaborn as sns\n",
    "import lightgbm as lgb\n",
    "\n",
    "import coursera_competition_udfs as udf\n",
    "import gc\n",
    "from scipy.stats import percentileofscore\n",
    "from sklearn.preprocessing import StandardScaler, LabelEncoder, OneHotEncoder\n",
    "from sklearn.linear_model import LinearRegression, Lasso\n",
    "from sklearn.metrics import r2_score, mean_squared_error, confusion_matrix, recall_score\n",
    "from sklearn.ensemble import RandomForestRegressor"
   ]
  },
  {
   "cell_type": "markdown",
   "metadata": {},
   "source": [
    "# Load data"
   ]
  },
  {
   "cell_type": "markdown",
   "metadata": {},
   "source": [
    "- First, we aggregate sales data by month, where for each month we create a grid of all the shops and items that have sales in that month. (Note that all other combinations would yield rows or columns of zeroes, but this introduces survivor bias). We then stack monthly time series data for all such shop-item pairs.\n",
    "- Then we created lagged sales of the 3 types of sales data: previous monthly sales of the shop_item pair, and previous monthly sales of the shop, and item, for different lag periods\n",
    "- Finally we merge lagged sales data with other information, such as seasonality features\n",
    "- Note that train and test data are concatenated and features generated altogether (ok for Kaggle and more convenient)"
   ]
  },
  {
   "cell_type": "code",
   "execution_count": 2,
   "metadata": {},
   "outputs": [
    {
     "name": "stdout",
     "output_type": "stream",
     "text": [
      "column added: target\n",
      "column added: target_shop\n",
      "column added: target_item\n",
      "Calculating shift by 1 periods\n",
      "Calculating shift by 2 periods\n",
      "Calculating shift by 3 periods\n",
      "Calculating shift by 6 periods\n",
      "Calculating shift by 12 periods\n",
      "Deleting date_block_num < 12 from data\n"
     ]
    }
   ],
   "source": [
    "all_sales = udf.load_all_monthly_sales()"
   ]
  },
  {
   "cell_type": "code",
   "execution_count": 3,
   "metadata": {},
   "outputs": [],
   "source": [
    "# pkl_name = './' + 'monthly_sales_grid_lag_1_2_3_6_12_seasonality_items_shops' + '.pkl'\n",
    "\n",
    "# all_sales = pd.read_pickle(pkl_name)"
   ]
  },
  {
   "cell_type": "code",
   "execution_count": 4,
   "metadata": {},
   "outputs": [
    {
     "name": "stdout",
     "output_type": "stream",
     "text": [
      "<class 'pandas.core.frame.DataFrame'>\n",
      "Int64Index: 6639294 entries, 0 to 6639293\n",
      "Data columns (total 29 columns):\n",
      "date_block_num             int64\n",
      "item_id                    int64\n",
      "shop_id                    int64\n",
      "target                     float64\n",
      "target_lag_1               int64\n",
      "target_item_lag_1          int64\n",
      "target_shop_lag_1          int64\n",
      "target_lag_2               int64\n",
      "target_item_lag_2          int64\n",
      "target_shop_lag_2          int64\n",
      "target_lag_3               int64\n",
      "target_item_lag_3          int64\n",
      "target_shop_lag_3          int64\n",
      "target_lag_6               int64\n",
      "target_item_lag_6          int64\n",
      "target_shop_lag_6          int64\n",
      "target_lag_12              int64\n",
      "target_item_lag_12         int64\n",
      "target_shop_lag_12         int64\n",
      "target_shop_zero           bool\n",
      "target_item_zero           bool\n",
      "target_shop_recent_zero    bool\n",
      "target_item_recent_zero    bool\n",
      "december                   bool\n",
      "Q1                         bool\n",
      "Q4                         bool\n",
      "item_category_id           int64\n",
      "item_category_group        object\n",
      "shop_city                  object\n",
      "dtypes: bool(7), float64(1), int64(19), object(2)\n",
      "memory usage: 1.2+ GB\n"
     ]
    }
   ],
   "source": [
    "all_sales.info()"
   ]
  },
  {
   "cell_type": "code",
   "execution_count": 5,
   "metadata": {},
   "outputs": [
    {
     "data": {
      "text/plain": [
       "target    214200\n",
       "dtype: int64"
      ]
     },
     "execution_count": 5,
     "metadata": {},
     "output_type": "execute_result"
    }
   ],
   "source": [
    "# sanity check: no missing attributes other than test set label\n",
    "nul_cols = all_sales.isnull().sum()\n",
    "nul_cols[nul_cols>0]"
   ]
  },
  {
   "cell_type": "markdown",
   "metadata": {},
   "source": [
    "# Prepare data for model training"
   ]
  },
  {
   "cell_type": "code",
   "execution_count": 6,
   "metadata": {},
   "outputs": [
    {
     "name": "stdout",
     "output_type": "stream",
     "text": [
      "label encoding item_id and saving to enc_item_id.pickle\n",
      "label encoding shop_id and saving to enc_shop_id.pickle\n",
      "label encoding item_category_id and saving to enc_item_category_id.pickle\n",
      "label encoding item_category_group and saving to enc_item_category_group.pickle\n",
      "label encoding shop_city and saving to enc_shop_city.pickle\n"
     ]
    }
   ],
   "source": [
    "# encode categorical cols\n",
    "categ_cols = ['item_id', 'shop_id', 'item_category_id', 'item_category_group', 'shop_city']\n",
    "all_sales = udf.label_encode_categ_cols(all_sales, categ_cols)"
   ]
  },
  {
   "cell_type": "code",
   "execution_count": 7,
   "metadata": {},
   "outputs": [
    {
     "name": "stdout",
     "output_type": "stream",
     "text": [
      "Train data: date_block_num [12 13 14 15 16 17 18 19 20 21 22 23 24 25 26 27 28 29 30 31 32]\n",
      "Test data: date_block_num [33]\n",
      "target values in train data are clipped to [0, 20]\n",
      "target values in test data are clipped to [0, 20]\n"
     ]
    },
    {
     "name": "stderr",
     "output_type": "stream",
     "text": [
      "/home/johanna/Dropbox/Code/Coursera_Kaggle_Project/coursera_competition_udfs.py:423: SettingWithCopyWarning: \n",
      "A value is trying to be set on a copy of a slice from a DataFrame.\n",
      "Try using .loc[row_indexer,col_indexer] = value instead\n",
      "\n",
      "See the caveats in the documentation: http://pandas.pydata.org/pandas-docs/stable/indexing.html#indexing-view-versus-copy\n",
      "  df_train[label] = df_train[label].clip(0, 20)\n",
      "/home/johanna/Dropbox/Code/Coursera_Kaggle_Project/coursera_competition_udfs.py:427: SettingWithCopyWarning: \n",
      "A value is trying to be set on a copy of a slice from a DataFrame.\n",
      "Try using .loc[row_indexer,col_indexer] = value instead\n",
      "\n",
      "See the caveats in the documentation: http://pandas.pydata.org/pandas-docs/stable/indexing.html#indexing-view-versus-copy\n",
      "  df_test[label] = df_test[label].clip(0, 20)\n"
     ]
    },
    {
     "name": "stdout",
     "output_type": "stream",
     "text": [
      "Number of observations in train: 6186922\n",
      "Number of observations in test: 238172\n",
      "Number of attributes: 28\n"
     ]
    }
   ],
   "source": [
    "# training and validation data, with all possible features\n",
    "X_train, X_val, y_train_clip, y_val_clip = udf.train_test_split_by_month(all_sales, clip_train=True, clip_test=True)"
   ]
  },
  {
   "cell_type": "code",
   "execution_count": 8,
   "metadata": {},
   "outputs": [],
   "source": [
    "# # training and validation data, with all possible features\n",
    "# X_train, X_val, y_train, y_val = udf.train_test_split_by_month(all_sales)"
   ]
  },
  {
   "cell_type": "markdown",
   "metadata": {},
   "source": [
    "# Model selection"
   ]
  },
  {
   "cell_type": "markdown",
   "metadata": {},
   "source": [
    "## LGBM"
   ]
  },
  {
   "cell_type": "markdown",
   "metadata": {},
   "source": [
    "### Training lgbm with original target values"
   ]
  },
  {
   "cell_type": "code",
   "execution_count": 8,
   "metadata": {},
   "outputs": [
    {
     "name": "stderr",
     "output_type": "stream",
     "text": [
      "/home/johanna/anaconda3/lib/python3.6/site-packages/lightgbm/basic.py:1188: UserWarning: categorical_feature in Dataset is overridden.\n",
      "New categorical_feature is ['item_category_group', 'item_category_id', 'item_id', 'shop_city', 'shop_id']\n",
      "  'New categorical_feature is {}'.format(sorted(list(categorical_feature))))\n",
      "/home/johanna/anaconda3/lib/python3.6/site-packages/lightgbm/basic.py:1188: UserWarning: categorical_feature in Dataset is overridden.\n",
      "New categorical_feature is ['item_category_group', 'item_category_id', 'item_id', 'shop_city', 'shop_id']\n",
      "  'New categorical_feature is {}'.format(sorted(list(categorical_feature))))\n",
      "/home/johanna/anaconda3/lib/python3.6/site-packages/lightgbm/basic.py:742: UserWarning: categorical_feature in param dict is overridden.\n",
      "  warnings.warn('categorical_feature in param dict is overridden.')\n"
     ]
    },
    {
     "name": "stdout",
     "output_type": "stream",
     "text": [
      "Training until validation scores don't improve for 20 rounds.\n",
      "[20]\ttraining's rmse: 3.39001\tvalid_1's rmse: 5.25785\n",
      "[40]\ttraining's rmse: 3.28162\tvalid_1's rmse: 5.19789\n",
      "[60]\ttraining's rmse: 3.19793\tvalid_1's rmse: 5.15259\n",
      "[80]\ttraining's rmse: 3.13252\tvalid_1's rmse: 5.11646\n",
      "[100]\ttraining's rmse: 3.08078\tvalid_1's rmse: 5.09349\n",
      "[120]\ttraining's rmse: 3.03903\tvalid_1's rmse: 5.07404\n",
      "[140]\ttraining's rmse: 3.00536\tvalid_1's rmse: 5.05462\n",
      "[160]\ttraining's rmse: 2.9773\tvalid_1's rmse: 5.04352\n",
      "[180]\ttraining's rmse: 2.95395\tvalid_1's rmse: 5.03237\n",
      "[200]\ttraining's rmse: 2.9361\tvalid_1's rmse: 5.02252\n",
      "[220]\ttraining's rmse: 2.92077\tvalid_1's rmse: 5.0132\n",
      "[240]\ttraining's rmse: 2.90779\tvalid_1's rmse: 5.00557\n",
      "[260]\ttraining's rmse: 2.89704\tvalid_1's rmse: 4.9989\n",
      "[280]\ttraining's rmse: 2.88718\tvalid_1's rmse: 4.99323\n",
      "[300]\ttraining's rmse: 2.87922\tvalid_1's rmse: 4.98794\n",
      "[320]\ttraining's rmse: 2.87201\tvalid_1's rmse: 4.98491\n",
      "[340]\ttraining's rmse: 2.86585\tvalid_1's rmse: 4.98097\n",
      "[360]\ttraining's rmse: 2.86065\tvalid_1's rmse: 4.97738\n",
      "[380]\ttraining's rmse: 2.85539\tvalid_1's rmse: 4.97419\n",
      "[400]\ttraining's rmse: 2.85087\tvalid_1's rmse: 4.97133\n",
      "[420]\ttraining's rmse: 2.84669\tvalid_1's rmse: 4.97005\n",
      "[440]\ttraining's rmse: 2.84333\tvalid_1's rmse: 4.9679\n",
      "[460]\ttraining's rmse: 2.83914\tvalid_1's rmse: 4.96493\n",
      "[480]\ttraining's rmse: 2.83543\tvalid_1's rmse: 4.96384\n",
      "[500]\ttraining's rmse: 2.83145\tvalid_1's rmse: 4.9622\n",
      "[520]\ttraining's rmse: 2.82821\tvalid_1's rmse: 4.96052\n",
      "[540]\ttraining's rmse: 2.82446\tvalid_1's rmse: 4.95804\n",
      "[560]\ttraining's rmse: 2.8206\tvalid_1's rmse: 4.95445\n",
      "[580]\ttraining's rmse: 2.81649\tvalid_1's rmse: 4.95253\n",
      "[600]\ttraining's rmse: 2.81278\tvalid_1's rmse: 4.95\n",
      "[620]\ttraining's rmse: 2.80824\tvalid_1's rmse: 4.94654\n",
      "[640]\ttraining's rmse: 2.80555\tvalid_1's rmse: 4.94571\n",
      "[660]\ttraining's rmse: 2.80193\tvalid_1's rmse: 4.94317\n",
      "[680]\ttraining's rmse: 2.79783\tvalid_1's rmse: 4.94078\n",
      "[700]\ttraining's rmse: 2.79038\tvalid_1's rmse: 4.93614\n",
      "[720]\ttraining's rmse: 2.78541\tvalid_1's rmse: 4.93232\n",
      "[740]\ttraining's rmse: 2.78155\tvalid_1's rmse: 4.93139\n",
      "[760]\ttraining's rmse: 2.77865\tvalid_1's rmse: 4.92954\n",
      "[780]\ttraining's rmse: 2.77345\tvalid_1's rmse: 4.92647\n",
      "[800]\ttraining's rmse: 2.7677\tvalid_1's rmse: 4.92245\n",
      "[820]\ttraining's rmse: 2.76176\tvalid_1's rmse: 4.91821\n",
      "[840]\ttraining's rmse: 2.75768\tvalid_1's rmse: 4.91617\n",
      "[860]\ttraining's rmse: 2.75156\tvalid_1's rmse: 4.91303\n",
      "[880]\ttraining's rmse: 2.74809\tvalid_1's rmse: 4.91043\n",
      "[900]\ttraining's rmse: 2.74552\tvalid_1's rmse: 4.90879\n",
      "[920]\ttraining's rmse: 2.74309\tvalid_1's rmse: 4.90751\n",
      "[940]\ttraining's rmse: 2.73999\tvalid_1's rmse: 4.9053\n",
      "[960]\ttraining's rmse: 2.73622\tvalid_1's rmse: 4.90316\n",
      "[980]\ttraining's rmse: 2.73355\tvalid_1's rmse: 4.90117\n",
      "[1000]\ttraining's rmse: 2.72899\tvalid_1's rmse: 4.89874\n",
      "[1020]\ttraining's rmse: 2.72377\tvalid_1's rmse: 4.89569\n",
      "[1040]\ttraining's rmse: 2.72123\tvalid_1's rmse: 4.89385\n",
      "[1060]\ttraining's rmse: 2.71853\tvalid_1's rmse: 4.89264\n",
      "[1080]\ttraining's rmse: 2.7154\tvalid_1's rmse: 4.89063\n",
      "[1100]\ttraining's rmse: 2.71332\tvalid_1's rmse: 4.88909\n",
      "[1120]\ttraining's rmse: 2.71105\tvalid_1's rmse: 4.88789\n",
      "[1140]\ttraining's rmse: 2.70867\tvalid_1's rmse: 4.88657\n",
      "[1160]\ttraining's rmse: 2.70562\tvalid_1's rmse: 4.88326\n",
      "[1180]\ttraining's rmse: 2.70383\tvalid_1's rmse: 4.88299\n",
      "[1200]\ttraining's rmse: 2.70116\tvalid_1's rmse: 4.88082\n",
      "[1220]\ttraining's rmse: 2.69913\tvalid_1's rmse: 4.87948\n",
      "[1240]\ttraining's rmse: 2.69602\tvalid_1's rmse: 4.8778\n",
      "[1260]\ttraining's rmse: 2.6935\tvalid_1's rmse: 4.8762\n",
      "[1280]\ttraining's rmse: 2.68985\tvalid_1's rmse: 4.87426\n",
      "[1300]\ttraining's rmse: 2.686\tvalid_1's rmse: 4.87134\n",
      "[1320]\ttraining's rmse: 2.68422\tvalid_1's rmse: 4.87011\n",
      "[1340]\ttraining's rmse: 2.68199\tvalid_1's rmse: 4.86929\n",
      "[1360]\ttraining's rmse: 2.67981\tvalid_1's rmse: 4.86828\n",
      "[1380]\ttraining's rmse: 2.6775\tvalid_1's rmse: 4.86655\n",
      "[1400]\ttraining's rmse: 2.6746\tvalid_1's rmse: 4.86516\n",
      "[1420]\ttraining's rmse: 2.67139\tvalid_1's rmse: 4.86218\n",
      "[1440]\ttraining's rmse: 2.669\tvalid_1's rmse: 4.86139\n",
      "[1460]\ttraining's rmse: 2.66627\tvalid_1's rmse: 4.86044\n",
      "[1480]\ttraining's rmse: 2.66258\tvalid_1's rmse: 4.85799\n",
      "[1500]\ttraining's rmse: 2.65884\tvalid_1's rmse: 4.85661\n",
      "[1520]\ttraining's rmse: 2.65691\tvalid_1's rmse: 4.85591\n",
      "[1540]\ttraining's rmse: 2.65401\tvalid_1's rmse: 4.85398\n",
      "[1560]\ttraining's rmse: 2.65169\tvalid_1's rmse: 4.85312\n",
      "[1580]\ttraining's rmse: 2.65051\tvalid_1's rmse: 4.85223\n",
      "[1600]\ttraining's rmse: 2.64842\tvalid_1's rmse: 4.85143\n",
      "[1620]\ttraining's rmse: 2.647\tvalid_1's rmse: 4.85116\n",
      "[1640]\ttraining's rmse: 2.64462\tvalid_1's rmse: 4.84925\n",
      "[1660]\ttraining's rmse: 2.64218\tvalid_1's rmse: 4.84755\n",
      "[1680]\ttraining's rmse: 2.6397\tvalid_1's rmse: 4.84539\n",
      "[1700]\ttraining's rmse: 2.63721\tvalid_1's rmse: 4.84308\n",
      "[1720]\ttraining's rmse: 2.63437\tvalid_1's rmse: 4.84135\n",
      "[1740]\ttraining's rmse: 2.63237\tvalid_1's rmse: 4.84005\n",
      "[1760]\ttraining's rmse: 2.63121\tvalid_1's rmse: 4.83973\n",
      "[1780]\ttraining's rmse: 2.6292\tvalid_1's rmse: 4.83874\n",
      "[1800]\ttraining's rmse: 2.62753\tvalid_1's rmse: 4.83698\n",
      "[1820]\ttraining's rmse: 2.62438\tvalid_1's rmse: 4.83599\n",
      "[1840]\ttraining's rmse: 2.62213\tvalid_1's rmse: 4.83479\n",
      "[1860]\ttraining's rmse: 2.62081\tvalid_1's rmse: 4.83399\n",
      "[1880]\ttraining's rmse: 2.61901\tvalid_1's rmse: 4.83306\n",
      "[1900]\ttraining's rmse: 2.61756\tvalid_1's rmse: 4.83188\n",
      "[1920]\ttraining's rmse: 2.61565\tvalid_1's rmse: 4.83088\n",
      "[1940]\ttraining's rmse: 2.61341\tvalid_1's rmse: 4.83024\n",
      "[1960]\ttraining's rmse: 2.61157\tvalid_1's rmse: 4.82914\n",
      "[1980]\ttraining's rmse: 2.60885\tvalid_1's rmse: 4.82783\n",
      "[2000]\ttraining's rmse: 2.6069\tvalid_1's rmse: 4.82656\n",
      "[2020]\ttraining's rmse: 2.60526\tvalid_1's rmse: 4.8254\n",
      "[2040]\ttraining's rmse: 2.60318\tvalid_1's rmse: 4.82463\n",
      "[2060]\ttraining's rmse: 2.60131\tvalid_1's rmse: 4.82331\n",
      "[2080]\ttraining's rmse: 2.59923\tvalid_1's rmse: 4.82176\n",
      "[2100]\ttraining's rmse: 2.59635\tvalid_1's rmse: 4.81969\n",
      "[2120]\ttraining's rmse: 2.59491\tvalid_1's rmse: 4.81851\n",
      "[2140]\ttraining's rmse: 2.59255\tvalid_1's rmse: 4.81755\n",
      "[2160]\ttraining's rmse: 2.58915\tvalid_1's rmse: 4.81552\n",
      "[2180]\ttraining's rmse: 2.58618\tvalid_1's rmse: 4.81376\n",
      "[2200]\ttraining's rmse: 2.58425\tvalid_1's rmse: 4.81305\n",
      "[2220]\ttraining's rmse: 2.58292\tvalid_1's rmse: 4.81208\n",
      "[2240]\ttraining's rmse: 2.58095\tvalid_1's rmse: 4.8109\n",
      "[2260]\ttraining's rmse: 2.57863\tvalid_1's rmse: 4.80984\n",
      "[2280]\ttraining's rmse: 2.57771\tvalid_1's rmse: 4.8092\n",
      "Early stopping, best iteration is:\n",
      "[2277]\ttraining's rmse: 2.57782\tvalid_1's rmse: 4.80909\n"
     ]
    }
   ],
   "source": [
    "# model training with early stopping\n",
    "lgb_params = {\n",
    "               'max_depth': 8,  # reduce to increase regularization\n",
    "               'bagging_fraction': 0.6, \n",
    "               'feature_fraction': 0.7, # reduce to increase regularization\n",
    "               'min_data_in_leaf': 1000, \n",
    "               'learning_rate': 0.01, \n",
    "               'bagging_freq':1,\n",
    "                'objective': 'regression', \n",
    "                'metric': 'rmse',\n",
    "               'nthread':4, # parallel computation\n",
    "               'verbose':0\n",
    "              }\n",
    "num_rounds = 2500\n",
    "\n",
    "lgb_train = lgb.Dataset(X_train, label=y_train)\n",
    "lgb_val = lgb.Dataset(X_val, label=y_val, reference=lgb_train)\n",
    "evals_result = {}  # to record eval results for plotting\n",
    "\n",
    "bst = lgb.train(lgb_params, lgb_train, num_rounds, valid_sets=[lgb_train, lgb_val],\n",
    "                early_stopping_rounds=20,\n",
    "                keep_training_booster=True,\n",
    "                categorical_feature=['item_id', 'shop_id', 'item_category_id', 'item_category_group', 'shop_city'],\n",
    "                evals_result=evals_result, verbose_eval=20)"
   ]
  },
  {
   "cell_type": "markdown",
   "metadata": {},
   "source": [
    "Previously result with 'max_depth': 8\n",
    "Early stopping, best iteration is:\n",
    "[2075]\ttraining's rmse: 2.857\tvalid_1's rmse: 4.82957\n",
    "\n",
    "with 'max_depth':7: \n",
    "Early stopping, best iteration is:\n",
    "[1698]\ttraining's rmse: 2.60707\tvalid_1's rmse: 4.81151\n",
    "\n",
    "However, final result after clipping is worse with 7"
   ]
  },
  {
   "cell_type": "code",
   "execution_count": 9,
   "metadata": {},
   "outputs": [
    {
     "name": "stdout",
     "output_type": "stream",
     "text": [
      "Plotting metrics recorded during training...\n"
     ]
    },
    {
     "data": {
      "image/png": "[encoded data removed]",
      "text/plain": [
       "<Figure size 432x288 with 1 Axes>"
      ]
     },
     "metadata": {},
     "output_type": "display_data"
    }
   ],
   "source": [
    "print('Plotting metrics recorded during training...')\n",
    "ax = lgb.plot_metric(evals_result)\n",
    "plt.show()"
   ]
  },
  {
   "cell_type": "code",
   "execution_count": 16,
   "metadata": {},
   "outputs": [
    {
     "name": "stdout",
     "output_type": "stream",
     "text": [
      "Plotting feature importances...\n"
     ]
    },
    {
     "data": {
      "image/png": "[encoded data removed]",
      "text/plain": [
       "<Figure size 432x288 with 1 Axes>"
      ]
     },
     "metadata": {},
     "output_type": "display_data"
    }
   ],
   "source": [
    "print('Plotting feature importances...')\n",
    "ax = lgb.plot_importance(bst, max_num_features=10)\n",
    "plt.show()"
   ]
  },
  {
   "cell_type": "code",
   "execution_count": 10,
   "metadata": {},
   "outputs": [],
   "source": [
    "# extract predictions of the best model for further analysis\n",
    "pred_train = bst._Booster__inner_predict(data_idx=0)\n",
    "pred_val = bst._Booster__inner_predict(data_idx=1)"
   ]
  },
  {
   "cell_type": "code",
   "execution_count": 13,
   "metadata": {},
   "outputs": [
    {
     "data": {
      "text/html": [
       "<div>\n",
       "<style scoped>\n",
       "    .dataframe tbody tr th:only-of-type {\n",
       "        vertical-align: middle;\n",
       "    }\n",
       "\n",
       "    .dataframe tbody tr th {\n",
       "        vertical-align: top;\n",
       "    }\n",
       "\n",
       "    .dataframe thead th {\n",
       "        text-align: right;\n",
       "    }\n",
       "</style>\n",
       "<table border=\"1\" class=\"dataframe\">\n",
       "  <thead>\n",
       "    <tr style=\"text-align: right;\">\n",
       "      <th></th>\n",
       "      <th>R-squared</th>\n",
       "      <th>RMSE</th>\n",
       "    </tr>\n",
       "  </thead>\n",
       "  <tbody>\n",
       "    <tr>\n",
       "      <th>train</th>\n",
       "      <td>0.468</td>\n",
       "      <td>2.577</td>\n",
       "    </tr>\n",
       "    <tr>\n",
       "      <th>val</th>\n",
       "      <td>0.190</td>\n",
       "      <td>4.809</td>\n",
       "    </tr>\n",
       "  </tbody>\n",
       "</table>\n",
       "</div>"
      ],
      "text/plain": [
       "       R-squared   RMSE\n",
       "train      0.468  2.577\n",
       "val        0.190  4.809"
      ]
     },
     "execution_count": 13,
     "metadata": {},
     "output_type": "execute_result"
    }
   ],
   "source": [
    "# evaluate train vs val performance, no truncating in either\n",
    "udf.train_val_metrics(y_train, pred_train, y_val, pred_val)"
   ]
  },
  {
   "cell_type": "code",
   "execution_count": 14,
   "metadata": {},
   "outputs": [
    {
     "data": {
      "text/html": [
       "<div>\n",
       "<style scoped>\n",
       "    .dataframe tbody tr th:only-of-type {\n",
       "        vertical-align: middle;\n",
       "    }\n",
       "\n",
       "    .dataframe tbody tr th {\n",
       "        vertical-align: top;\n",
       "    }\n",
       "\n",
       "    .dataframe thead th {\n",
       "        text-align: right;\n",
       "    }\n",
       "</style>\n",
       "<table border=\"1\" class=\"dataframe\">\n",
       "  <thead>\n",
       "    <tr style=\"text-align: right;\">\n",
       "      <th></th>\n",
       "      <th>R-squared</th>\n",
       "      <th>RMSE</th>\n",
       "    </tr>\n",
       "  </thead>\n",
       "  <tbody>\n",
       "    <tr>\n",
       "      <th>train</th>\n",
       "      <td>0.468</td>\n",
       "      <td>2.577</td>\n",
       "    </tr>\n",
       "    <tr>\n",
       "      <th>val</th>\n",
       "      <td>0.075</td>\n",
       "      <td>1.093</td>\n",
       "    </tr>\n",
       "  </tbody>\n",
       "</table>\n",
       "</div>"
      ],
      "text/plain": [
       "       R-squared   RMSE\n",
       "train      0.468  2.577\n",
       "val        0.075  1.093"
      ]
     },
     "execution_count": 14,
     "metadata": {},
     "output_type": "execute_result"
    }
   ],
   "source": [
    "# truncate val, not train (old comparison)\n",
    "udf.train_val_metrics(y_train, pred_train, y_val, pred_val, clip_y_val=True, clip_pred_val=True)"
   ]
  },
  {
   "cell_type": "code",
   "execution_count": 15,
   "metadata": {},
   "outputs": [
    {
     "data": {
      "text/html": [
       "<div>\n",
       "<style scoped>\n",
       "    .dataframe tbody tr th:only-of-type {\n",
       "        vertical-align: middle;\n",
       "    }\n",
       "\n",
       "    .dataframe tbody tr th {\n",
       "        vertical-align: top;\n",
       "    }\n",
       "\n",
       "    .dataframe thead th {\n",
       "        text-align: right;\n",
       "    }\n",
       "</style>\n",
       "<table border=\"1\" class=\"dataframe\">\n",
       "  <thead>\n",
       "    <tr style=\"text-align: right;\">\n",
       "      <th></th>\n",
       "      <th>R-squared</th>\n",
       "      <th>RMSE</th>\n",
       "    </tr>\n",
       "  </thead>\n",
       "  <tbody>\n",
       "    <tr>\n",
       "      <th>train</th>\n",
       "      <td>0.501</td>\n",
       "      <td>0.839</td>\n",
       "    </tr>\n",
       "    <tr>\n",
       "      <th>val</th>\n",
       "      <td>0.075</td>\n",
       "      <td>1.093</td>\n",
       "    </tr>\n",
       "  </tbody>\n",
       "</table>\n",
       "</div>"
      ],
      "text/plain": [
       "       R-squared   RMSE\n",
       "train      0.501  0.839\n",
       "val        0.075  1.093"
      ]
     },
     "execution_count": 15,
     "metadata": {},
     "output_type": "execute_result"
    }
   ],
   "source": [
    "# truncate both train and val for fair comparison of final score\n",
    "udf.train_val_metrics(y_train, pred_train, y_val, pred_val,\n",
    "                      clip_y_val=True, clip_pred_val=True, clip_y_train=True, clip_pred_train=True)"
   ]
  },
  {
   "cell_type": "markdown",
   "metadata": {},
   "source": [
    "### Train lgbm on clipped target values"
   ]
  },
  {
   "cell_type": "code",
   "execution_count": 9,
   "metadata": {},
   "outputs": [
    {
     "name": "stderr",
     "output_type": "stream",
     "text": [
      "/home/johanna/anaconda3/lib/python3.6/site-packages/lightgbm/basic.py:1188: UserWarning: categorical_feature in Dataset is overridden.\n",
      "New categorical_feature is ['item_category_group', 'item_category_id', 'item_id', 'shop_city', 'shop_id']\n",
      "  'New categorical_feature is {}'.format(sorted(list(categorical_feature))))\n",
      "/home/johanna/anaconda3/lib/python3.6/site-packages/lightgbm/basic.py:1188: UserWarning: categorical_feature in Dataset is overridden.\n",
      "New categorical_feature is ['item_category_group', 'item_category_id', 'item_id', 'shop_city', 'shop_id']\n",
      "  'New categorical_feature is {}'.format(sorted(list(categorical_feature))))\n",
      "/home/johanna/anaconda3/lib/python3.6/site-packages/lightgbm/basic.py:742: UserWarning: categorical_feature in param dict is overridden.\n",
      "  warnings.warn('categorical_feature in param dict is overridden.')\n"
     ]
    },
    {
     "name": "stdout",
     "output_type": "stream",
     "text": [
      "Training until validation scores don't improve for 20 rounds.\n",
      "[20]\ttraining's rmse: 1.10297\tvalid_1's rmse: 1.08283\n",
      "[40]\ttraining's rmse: 1.03631\tvalid_1's rmse: 1.04726\n",
      "[60]\ttraining's rmse: 0.985781\tvalid_1's rmse: 1.02199\n",
      "[80]\ttraining's rmse: 0.946998\tvalid_1's rmse: 1.0022\n",
      "[100]\ttraining's rmse: 0.916617\tvalid_1's rmse: 0.990864\n",
      "[120]\ttraining's rmse: 0.892262\tvalid_1's rmse: 0.984559\n",
      "[140]\ttraining's rmse: 0.87362\tvalid_1's rmse: 0.976728\n",
      "[160]\ttraining's rmse: 0.858167\tvalid_1's rmse: 0.974476\n",
      "[180]\ttraining's rmse: 0.845889\tvalid_1's rmse: 0.972324\n",
      "[200]\ttraining's rmse: 0.836237\tvalid_1's rmse: 0.970468\n",
      "[220]\ttraining's rmse: 0.827845\tvalid_1's rmse: 0.968952\n",
      "[240]\ttraining's rmse: 0.821347\tvalid_1's rmse: 0.96825\n",
      "[260]\ttraining's rmse: 0.815877\tvalid_1's rmse: 0.967424\n",
      "Early stopping, best iteration is:\n",
      "[257]\ttraining's rmse: 0.816609\tvalid_1's rmse: 0.967257\n"
     ]
    }
   ],
   "source": [
    "# model training with early stopping\n",
    "lgb_params = {\n",
    "               'max_depth': 8,  # reduce to increase regularization\n",
    "               'bagging_fraction': 0.6, \n",
    "               'feature_fraction': 0.7, # reduce to increase regularization\n",
    "               'min_data_in_leaf': 1000, \n",
    "               'learning_rate': 0.01, \n",
    "               'bagging_freq':1,\n",
    "                'objective': 'regression', \n",
    "                'metric': 'rmse',\n",
    "               'nthread':4, # parallel computation\n",
    "               'verbose':0\n",
    "              }\n",
    "num_rounds = 2500\n",
    "\n",
    "lgb_train_clip = lgb.Dataset(X_train, label=y_train_clip)\n",
    "lgb_val_clip = lgb.Dataset(X_val, label=y_val_clip, reference=lgb_train_clip)\n",
    "evals_result_clip = {}  # to record eval results for plotting\n",
    "\n",
    "bst_clip = lgb.train(lgb_params, lgb_train_clip, num_rounds, valid_sets=[lgb_train_clip, lgb_val_clip],\n",
    "                early_stopping_rounds=20,\n",
    "                keep_training_booster=True,\n",
    "                categorical_feature=['item_id', 'shop_id', 'item_category_id', 'item_category_group', 'shop_city'],\n",
    "                evals_result=evals_result_clip,\n",
    "                verbose_eval=20)"
   ]
  },
  {
   "cell_type": "code",
   "execution_count": 10,
   "metadata": {},
   "outputs": [
    {
     "data": {
      "text/plain": [
       "<lightgbm.basic.Booster at 0x7f065c60eda0>"
      ]
     },
     "execution_count": 10,
     "metadata": {},
     "output_type": "execute_result"
    }
   ],
   "source": [
    "bst_clip.save_model('lgbm_bst_model_clip.txt', num_iteration=bst_clip.best_iteration)"
   ]
  },
  {
   "cell_type": "code",
   "execution_count": 11,
   "metadata": {},
   "outputs": [
    {
     "name": "stdout",
     "output_type": "stream",
     "text": [
      "Plotting metrics recorded during training...\n"
     ]
    },
    {
     "data": {
      "image/png": "[encoded data removed]",
      "text/plain": [
       "<Figure size 432x288 with 1 Axes>"
      ]
     },
     "metadata": {},
     "output_type": "display_data"
    }
   ],
   "source": [
    "print('Plotting metrics recorded during training...')\n",
    "ax = lgb.plot_metric(evals_result_clip)\n",
    "plt.show()"
   ]
  },
  {
   "cell_type": "code",
   "execution_count": 13,
   "metadata": {},
   "outputs": [
    {
     "name": "stdout",
     "output_type": "stream",
     "text": [
      "Plotting feature importances...\n"
     ]
    },
    {
     "data": {
      "image/png": "[encoded data removed]",
      "text/plain": [
       "<Figure size 432x288 with 1 Axes>"
      ]
     },
     "metadata": {},
     "output_type": "display_data"
    }
   ],
   "source": [
    "print('Plotting feature importances...')\n",
    "ax = lgb.plot_importance(bst_clip, max_num_features=10)\n",
    "plt.show()"
   ]
  },
  {
   "cell_type": "code",
   "execution_count": 11,
   "metadata": {},
   "outputs": [
    {
     "name": "stdout",
     "output_type": "stream",
     "text": [
      "Evaluation on original target values:\n",
      "        R-squared   RMSE\n",
      "train      0.533  0.812\n",
      "val        0.275  0.968\n",
      "\n",
      "Evaluation on clipped target values:\n",
      "        R-squared   RMSE\n",
      "train      0.533  0.812\n",
      "val        0.275  0.968\n"
     ]
    }
   ],
   "source": [
    "# extract predictions of the best model for further analysis\n",
    "pred_train = bst_clip._Booster__inner_predict(data_idx=0)\n",
    "pred_val = bst_clip._Booster__inner_predict(data_idx=1)\n",
    "\n",
    "# evaluate train vs val performance, no truncating in either\n",
    "print('Evaluation on original target values:\\n',\n",
    "      udf.train_test_metrics(y_train_clip, pred_train, y_val_clip, pred_val)\n",
    "     )\n",
    "\n",
    "# truncate both train and val for fair comparison of final score\n",
    "print('\\nEvaluation on clipped target values:\\n', \n",
    "      udf.train_test_metrics(y_train_clip, pred_train, y_val_clip, pred_val,\n",
    "                      clip_train=True, clip_test=True)\n",
    "     )"
   ]
  },
  {
   "cell_type": "markdown",
   "metadata": {},
   "source": [
    "## Analyze errors"
   ]
  },
  {
   "cell_type": "code",
   "execution_count": 243,
   "metadata": {},
   "outputs": [],
   "source": [
    "val_err = pd.DataFrame({\n",
    "    'y_val': y_val,\n",
    "    'pred_val': pred_val,\n",
    "    'e_val': y_val - pred_val,\n",
    "    'true_zero': y_val==0,\n",
    "    'pred_zero': pred_val==0}).reset_index()"
   ]
  },
  {
   "cell_type": "code",
   "execution_count": 244,
   "metadata": {},
   "outputs": [
    {
     "data": {
      "text/html": [
       "<div>\n",
       "<style scoped>\n",
       "    .dataframe tbody tr th:only-of-type {\n",
       "        vertical-align: middle;\n",
       "    }\n",
       "\n",
       "    .dataframe tbody tr th {\n",
       "        vertical-align: top;\n",
       "    }\n",
       "\n",
       "    .dataframe thead th {\n",
       "        text-align: right;\n",
       "    }\n",
       "</style>\n",
       "<table border=\"1\" class=\"dataframe\">\n",
       "  <thead>\n",
       "    <tr style=\"text-align: right;\">\n",
       "      <th></th>\n",
       "      <th>index</th>\n",
       "      <th>y_val</th>\n",
       "      <th>pred_val</th>\n",
       "      <th>e_val</th>\n",
       "      <th>true_zero</th>\n",
       "      <th>pred_zero</th>\n",
       "    </tr>\n",
       "  </thead>\n",
       "  <tbody>\n",
       "    <tr>\n",
       "      <th>0</th>\n",
       "      <td>6186922</td>\n",
       "      <td>1.0</td>\n",
       "      <td>0.233144</td>\n",
       "      <td>0.766856</td>\n",
       "      <td>False</td>\n",
       "      <td>False</td>\n",
       "    </tr>\n",
       "    <tr>\n",
       "      <th>1</th>\n",
       "      <td>6186923</td>\n",
       "      <td>1.0</td>\n",
       "      <td>0.531189</td>\n",
       "      <td>0.468811</td>\n",
       "      <td>False</td>\n",
       "      <td>False</td>\n",
       "    </tr>\n",
       "    <tr>\n",
       "      <th>2</th>\n",
       "      <td>6186924</td>\n",
       "      <td>2.0</td>\n",
       "      <td>0.411870</td>\n",
       "      <td>1.588130</td>\n",
       "      <td>False</td>\n",
       "      <td>False</td>\n",
       "    </tr>\n",
       "    <tr>\n",
       "      <th>3</th>\n",
       "      <td>6186925</td>\n",
       "      <td>1.0</td>\n",
       "      <td>0.256927</td>\n",
       "      <td>0.743073</td>\n",
       "      <td>False</td>\n",
       "      <td>False</td>\n",
       "    </tr>\n",
       "    <tr>\n",
       "      <th>4</th>\n",
       "      <td>6186926</td>\n",
       "      <td>1.0</td>\n",
       "      <td>0.407339</td>\n",
       "      <td>0.592661</td>\n",
       "      <td>False</td>\n",
       "      <td>False</td>\n",
       "    </tr>\n",
       "  </tbody>\n",
       "</table>\n",
       "</div>"
      ],
      "text/plain": [
       "     index  y_val  pred_val     e_val  true_zero  pred_zero\n",
       "0  6186922    1.0  0.233144  0.766856      False      False\n",
       "1  6186923    1.0  0.531189  0.468811      False      False\n",
       "2  6186924    2.0  0.411870  1.588130      False      False\n",
       "3  6186925    1.0  0.256927  0.743073      False      False\n",
       "4  6186926    1.0  0.407339  0.592661      False      False"
      ]
     },
     "execution_count": 244,
     "metadata": {},
     "output_type": "execute_result"
    }
   ],
   "source": [
    "val_err.head()"
   ]
  },
  {
   "cell_type": "code",
   "execution_count": 196,
   "metadata": {},
   "outputs": [
    {
     "data": {
      "image/png": "[encoded data removed]",
      "text/plain": [
       "<Figure size 432x288 with 1 Axes>"
      ]
     },
     "metadata": {},
     "output_type": "display_data"
    }
   ],
   "source": [
    "val_err['y_val'].value_counts(normalize=True).plot(kind='bar');"
   ]
  },
  {
   "cell_type": "code",
   "execution_count": 207,
   "metadata": {},
   "outputs": [
    {
     "data": {
      "text/plain": [
       "<matplotlib.axes._subplots.AxesSubplot at 0x7f0635c389b0>"
      ]
     },
     "execution_count": 207,
     "metadata": {},
     "output_type": "execute_result"
    },
    {
     "data": {
      "image/png": "[encoded data removed]",
      "text/plain": [
       "<Figure size 432x288 with 1 Axes>"
      ]
     },
     "metadata": {},
     "output_type": "display_data"
    }
   ],
   "source": [
    "val_err['post_val'].hist(bins=40)"
   ]
  },
  {
   "cell_type": "code",
   "execution_count": 198,
   "metadata": {},
   "outputs": [
    {
     "data": {
      "text/plain": [
       "0.9374443679357775"
      ]
     },
     "execution_count": 198,
     "metadata": {},
     "output_type": "execute_result"
    }
   ],
   "source": [
    "sum(val_err['post_val']<1)/val_err.shape[0]"
   ]
  },
  {
   "cell_type": "code",
   "execution_count": 199,
   "metadata": {},
   "outputs": [
    {
     "data": {
      "text/plain": [
       "0.8678644005172732"
      ]
     },
     "execution_count": 199,
     "metadata": {},
     "output_type": "execute_result"
    }
   ],
   "source": [
    "sum(val_err['y_val']<1)/val_err.shape[0]"
   ]
  },
  {
   "cell_type": "code",
   "execution_count": 201,
   "metadata": {},
   "outputs": [
    {
     "data": {
      "text/plain": [
       "count    238172.000000\n",
       "mean          0.258565\n",
       "std           1.136157\n",
       "min           0.000000\n",
       "25%           0.000000\n",
       "50%           0.000000\n",
       "75%           0.000000\n",
       "max          20.000000\n",
       "Name: y_val, dtype: float64"
      ]
     },
     "execution_count": 201,
     "metadata": {},
     "output_type": "execute_result"
    }
   ],
   "source": [
    "val_err['y_val'].describe()"
   ]
  },
  {
   "cell_type": "code",
   "execution_count": 202,
   "metadata": {},
   "outputs": [
    {
     "data": {
      "text/plain": [
       "count    238172.000000\n",
       "mean          0.076168\n",
       "std           0.421836\n",
       "min           0.000000\n",
       "25%           0.000000\n",
       "50%           0.000000\n",
       "75%           0.000000\n",
       "max          20.000000\n",
       "Name: post_val, dtype: float64"
      ]
     },
     "execution_count": 202,
     "metadata": {},
     "output_type": "execute_result"
    }
   ],
   "source": [
    "val_err['post_val'].describe()"
   ]
  },
  {
   "cell_type": "code",
   "execution_count": 203,
   "metadata": {},
   "outputs": [
    {
     "data": {
      "image/png": "[encoded data removed]",
      "text/plain": [
       "<Figure size 432x288 with 1 Axes>"
      ]
     },
     "metadata": {},
     "output_type": "display_data"
    }
   ],
   "source": [
    "val_err.groupby('y_val')['e_val'].mean().plot(kind='bar');"
   ]
  },
  {
   "cell_type": "code",
   "execution_count": 204,
   "metadata": {},
   "outputs": [
    {
     "data": {
      "image/png": "[encoded data removed]",
      "text/plain": [
       "<Figure size 432x288 with 1 Axes>"
      ]
     },
     "metadata": {},
     "output_type": "display_data"
    }
   ],
   "source": [
    "val_err.groupby('y_val')['e_val'].mean().plot(kind='bar');"
   ]
  },
  {
   "cell_type": "code",
   "execution_count": 205,
   "metadata": {},
   "outputs": [
    {
     "data": {
      "image/png": "[encoded data removed]",
      "text/plain": [
       "<Figure size 576x288 with 1 Axes>"
      ]
     },
     "metadata": {},
     "output_type": "display_data"
    }
   ],
   "source": [
    "val_err.boxplot(column='e_val', by='y_val', figsize=(8,4));"
   ]
  },
  {
   "cell_type": "code",
   "execution_count": 206,
   "metadata": {},
   "outputs": [
    {
     "data": {
      "text/plain": [
       "array([[  7618,  23853],\n",
       "       [  7281, 199420]])"
      ]
     },
     "execution_count": 206,
     "metadata": {},
     "output_type": "execute_result"
    }
   ],
   "source": [
    "confusion_matrix(val_err['true_zero'], val_err['pred_zero'])"
   ]
  },
  {
   "cell_type": "markdown",
   "metadata": {},
   "source": [
    "### Where does mse come from"
   ]
  },
  {
   "cell_type": "code",
   "execution_count": 325,
   "metadata": {},
   "outputs": [],
   "source": [
    "def make_df_residuals(y_true, y_pred, bins=None):\n",
    "    ssr = y_true\n",
    "    df = pd.DataFrame({'y_true': y_true, 'y_pred': y_pred}).reset_index(drop=True)\n",
    "\n",
    "    df['res'] = df['y_true'] - df['y_pred']\n",
    "    df['sq_res'] = df['res']**2\n",
    "\n",
    "    df['true_zero'] = (df['y_true']==0)\n",
    "    df['pred_zero'] = (df['y_pred']==0)\n",
    "\n",
    "    if bins is None:\n",
    "        bins = np.arange(21)\n",
    "        if df['y_pred'].min()<0:\n",
    "            bins = np.insert(bins, 0, df['y_pred'].min())        \n",
    "        if df['y_pred'].max()>20:\n",
    "            bins = np.append(bins, df['y_pred'].max())\n",
    "    df['pred_bin'] = pd.cut(df['y_pred'], bins, right=False, duplicates='drop')\n",
    "    return df"
   ]
  },
  {
   "cell_type": "code",
   "execution_count": 326,
   "metadata": {},
   "outputs": [],
   "source": [
    "err_post = make_df_residuals(y_val, post_val)"
   ]
  },
  {
   "cell_type": "code",
   "execution_count": 327,
   "metadata": {},
   "outputs": [],
   "source": [
    "err_pred = make_df_residuals(y_val, pred_val)"
   ]
  },
  {
   "cell_type": "code",
   "execution_count": 328,
   "metadata": {},
   "outputs": [
    {
     "data": {
      "text/html": [
       "<div>\n",
       "<style scoped>\n",
       "    .dataframe tbody tr th:only-of-type {\n",
       "        vertical-align: middle;\n",
       "    }\n",
       "\n",
       "    .dataframe tbody tr th {\n",
       "        vertical-align: top;\n",
       "    }\n",
       "\n",
       "    .dataframe thead th {\n",
       "        text-align: right;\n",
       "    }\n",
       "</style>\n",
       "<table border=\"1\" class=\"dataframe\">\n",
       "  <thead>\n",
       "    <tr style=\"text-align: right;\">\n",
       "      <th></th>\n",
       "      <th>y_true</th>\n",
       "      <th>y_pred</th>\n",
       "      <th>res</th>\n",
       "      <th>sq_res</th>\n",
       "      <th>true_zero</th>\n",
       "      <th>pred_zero</th>\n",
       "      <th>pred_bin</th>\n",
       "    </tr>\n",
       "  </thead>\n",
       "  <tbody>\n",
       "    <tr>\n",
       "      <th>0</th>\n",
       "      <td>1.0</td>\n",
       "      <td>0.233144</td>\n",
       "      <td>0.766856</td>\n",
       "      <td>0.588068</td>\n",
       "      <td>False</td>\n",
       "      <td>False</td>\n",
       "      <td>[0.0, 1.0)</td>\n",
       "    </tr>\n",
       "    <tr>\n",
       "      <th>1</th>\n",
       "      <td>1.0</td>\n",
       "      <td>0.531189</td>\n",
       "      <td>0.468811</td>\n",
       "      <td>0.219784</td>\n",
       "      <td>False</td>\n",
       "      <td>False</td>\n",
       "      <td>[0.0, 1.0)</td>\n",
       "    </tr>\n",
       "    <tr>\n",
       "      <th>2</th>\n",
       "      <td>2.0</td>\n",
       "      <td>0.411870</td>\n",
       "      <td>1.588130</td>\n",
       "      <td>2.522157</td>\n",
       "      <td>False</td>\n",
       "      <td>False</td>\n",
       "      <td>[0.0, 1.0)</td>\n",
       "    </tr>\n",
       "    <tr>\n",
       "      <th>3</th>\n",
       "      <td>1.0</td>\n",
       "      <td>0.256927</td>\n",
       "      <td>0.743073</td>\n",
       "      <td>0.552157</td>\n",
       "      <td>False</td>\n",
       "      <td>False</td>\n",
       "      <td>[0.0, 1.0)</td>\n",
       "    </tr>\n",
       "    <tr>\n",
       "      <th>4</th>\n",
       "      <td>1.0</td>\n",
       "      <td>0.407339</td>\n",
       "      <td>0.592661</td>\n",
       "      <td>0.351248</td>\n",
       "      <td>False</td>\n",
       "      <td>False</td>\n",
       "      <td>[0.0, 1.0)</td>\n",
       "    </tr>\n",
       "  </tbody>\n",
       "</table>\n",
       "</div>"
      ],
      "text/plain": [
       "   y_true    y_pred       res    sq_res  true_zero  pred_zero    pred_bin\n",
       "0     1.0  0.233144  0.766856  0.588068      False      False  [0.0, 1.0)\n",
       "1     1.0  0.531189  0.468811  0.219784      False      False  [0.0, 1.0)\n",
       "2     2.0  0.411870  1.588130  2.522157      False      False  [0.0, 1.0)\n",
       "3     1.0  0.256927  0.743073  0.552157      False      False  [0.0, 1.0)\n",
       "4     1.0  0.407339  0.592661  0.351248      False      False  [0.0, 1.0)"
      ]
     },
     "execution_count": 328,
     "metadata": {},
     "output_type": "execute_result"
    }
   ],
   "source": [
    "err_pred.head()"
   ]
  },
  {
   "cell_type": "code",
   "execution_count": 331,
   "metadata": {},
   "outputs": [],
   "source": [
    "bins_pred = [pred_val.min(), 0.5, 1, 2, 5, 10, 20, pred_val.max()]\n",
    "\n",
    "err_pred = make_df_residuals(y_val, pred_val, bins_pred)"
   ]
  },
  {
   "cell_type": "code",
   "execution_count": 335,
   "metadata": {},
   "outputs": [
    {
     "data": {
      "image/png": "[encoded data removed]",
      "text/plain": [
       "<Figure size 432x288 with 1 Axes>"
      ]
     },
     "metadata": {},
     "output_type": "display_data"
    }
   ],
   "source": [
    "err_pred.loc[err_pred['y_true']==0, 'pred_bin'].value_counts(normalize=True).sort_index().plot(kind='bar');"
   ]
  },
  {
   "cell_type": "code",
   "execution_count": 336,
   "metadata": {},
   "outputs": [
    {
     "data": {
      "image/png": "[encoded data removed]",
      "text/plain": [
       "<Figure size 432x288 with 1 Axes>"
      ]
     },
     "metadata": {},
     "output_type": "display_data"
    }
   ],
   "source": [
    "err_pred.loc[err_pred['y_true']==1, 'pred_bin'].value_counts(normalize=True).sort_index().plot(kind='bar');"
   ]
  },
  {
   "cell_type": "code",
   "execution_count": 350,
   "metadata": {},
   "outputs": [
    {
     "data": {
      "text/plain": [
       "0.8678644005172732"
      ]
     },
     "execution_count": 350,
     "metadata": {},
     "output_type": "execute_result"
    }
   ],
   "source": [
    "sum(y_val==0)/len(y_val)"
   ]
  },
  {
   "cell_type": "code",
   "execution_count": null,
   "metadata": {},
   "outputs": [],
   "source": []
  },
  {
   "cell_type": "code",
   "execution_count": 354,
   "metadata": {},
   "outputs": [
    {
     "data": {
      "text/plain": [
       "0.3504645948549393"
      ]
     },
     "execution_count": 354,
     "metadata": {},
     "output_type": "execute_result"
    }
   ],
   "source": [
    "err_pred['y_pred'].quantile(0.868)"
   ]
  },
  {
   "cell_type": "code",
   "execution_count": 353,
   "metadata": {},
   "outputs": [
    {
     "data": {
      "text/plain": [
       "count    238172.000000\n",
       "mean          0.315517\n",
       "std           0.478106\n",
       "min           0.227658\n",
       "25%           0.229639\n",
       "50%           0.260337\n",
       "75%           0.301444\n",
       "max          36.108089\n",
       "Name: y_pred, dtype: float64"
      ]
     },
     "execution_count": 353,
     "metadata": {},
     "output_type": "execute_result"
    }
   ],
   "source": [
    "err_pred['y_pred'].describe()"
   ]
  },
  {
   "cell_type": "code",
   "execution_count": null,
   "metadata": {},
   "outputs": [],
   "source": []
  },
  {
   "cell_type": "code",
   "execution_count": 340,
   "metadata": {},
   "outputs": [
    {
     "data": {
      "text/plain": [
       "[[0.228, 0.5), [0.5, 1.0), [1.0, 2.0), [5.0, 10.0), [2.0, 5.0), [20.0, 36.108), NaN, [10.0, 20.0)]\n",
       "Categories (7, interval[float64]): [[0.228, 0.5) < [0.5, 1.0) < [1.0, 2.0) < [2.0, 5.0) < [5.0, 10.0) < [10.0, 20.0) < [20.0, 36.108)]"
      ]
     },
     "execution_count": 340,
     "metadata": {},
     "output_type": "execute_result"
    }
   ],
   "source": [
    "err_pred.pred_bin.unique()"
   ]
  },
  {
   "cell_type": "code",
   "execution_count": 347,
   "metadata": {},
   "outputs": [
    {
     "data": {
      "text/plain": [
       "Interval(0.228, 0.5, closed='left')"
      ]
     },
     "execution_count": 347,
     "metadata": {},
     "output_type": "execute_result"
    }
   ],
   "source": [
    "err_pred['pred_bin'][0]"
   ]
  },
  {
   "cell_type": "code",
   "execution_count": 348,
   "metadata": {},
   "outputs": [
    {
     "ename": "NameError",
     "evalue": "name 'Interval' is not defined",
     "output_type": "error",
     "traceback": [
      "\u001b[0;31m------------------------------------------\u001b[0m",
      "\u001b[0;31mNameError\u001b[0mTraceback (most recent call last)",
      "\u001b[0;32m<ipython-input-348-7c3493767251>\u001b[0m in \u001b[0;36m<module>\u001b[0;34m()\u001b[0m\n\u001b[0;32m----> 1\u001b[0;31m \u001b[0merr_pred\u001b[0m\u001b[0;34m.\u001b[0m\u001b[0mloc\u001b[0m\u001b[0;34m[\u001b[0m\u001b[0merr_pred\u001b[0m\u001b[0;34m[\u001b[0m\u001b[0;34m'pred_bin'\u001b[0m\u001b[0;34m]\u001b[0m\u001b[0;34m==\u001b[0m\u001b[0mInterval\u001b[0m\u001b[0;34m(\u001b[0m\u001b[0;36m0.228\u001b[0m\u001b[0;34m,\u001b[0m \u001b[0;36m0.5\u001b[0m\u001b[0;34m,\u001b[0m \u001b[0mclosed\u001b[0m\u001b[0;34m=\u001b[0m\u001b[0;34m'left'\u001b[0m\u001b[0;34m)\u001b[0m\u001b[0;34m,\u001b[0m \u001b[0;34m'y_true'\u001b[0m\u001b[0;34m]\u001b[0m\u001b[0;34m\u001b[0m\u001b[0m\n\u001b[0m",
      "\u001b[0;31mNameError\u001b[0m: name 'Interval' is not defined"
     ]
    }
   ],
   "source": [
    "err_pred.loc[err_pred['pred_bin']==Interval(0.228, 0.5, closed='left'), 'y_true']"
   ]
  },
  {
   "cell_type": "code",
   "execution_count": 322,
   "metadata": {},
   "outputs": [
    {
     "data": {
      "image/png": "[encoded data removed]",
      "text/plain": [
       "<Figure size 432x288 with 1 Axes>"
      ]
     },
     "metadata": {},
     "output_type": "display_data"
    }
   ],
   "source": [
    "err_pred.loc[err_pred['y_true']==0, 'pred_bin'].value_counts(normalize=True).sort_index().plot(kind='bar');"
   ]
  },
  {
   "cell_type": "code",
   "execution_count": 269,
   "metadata": {},
   "outputs": [
    {
     "data": {
      "image/png": "[encoded data removed]",
      "text/plain": [
       "<Figure size 432x288 with 1 Axes>"
      ]
     },
     "metadata": {},
     "output_type": "display_data"
    }
   ],
   "source": [
    "(100*err_post.groupby('y_true')['sq_res'].sum()/err_post['sq_res'].sum()).plot(kind='bar');"
   ]
  },
  {
   "cell_type": "code",
   "execution_count": 270,
   "metadata": {},
   "outputs": [
    {
     "data": {
      "image/png": "[encoded data removed]",
      "text/plain": [
       "<Figure size 432x288 with 1 Axes>"
      ]
     },
     "metadata": {},
     "output_type": "display_data"
    }
   ],
   "source": [
    "(100*err_pred.groupby('y_true')['sq_res'].sum()/err_pred['sq_res'].sum()).plot(kind='bar');"
   ]
  },
  {
   "cell_type": "code",
   "execution_count": 275,
   "metadata": {},
   "outputs": [
    {
     "data": {
      "text/plain": [
       "count    206701.000000\n",
       "mean          0.283115\n",
       "std           0.125323\n",
       "min           0.227658\n",
       "25%           0.229639\n",
       "50%           0.251268\n",
       "75%           0.294597\n",
       "max          23.336065\n",
       "Name: y_pred, dtype: float64"
      ]
     },
     "execution_count": 275,
     "metadata": {},
     "output_type": "execute_result"
    }
   ],
   "source": [
    "err_pred.loc[err_pred['y_true']==0, 'y_pred'].describe()"
   ]
  },
  {
   "cell_type": "code",
   "execution_count": 274,
   "metadata": {},
   "outputs": [
    {
     "data": {
      "image/png": "[encoded data removed]",
      "text/plain": [
       "<Figure size 432x288 with 1 Axes>"
      ]
     },
     "metadata": {},
     "output_type": "display_data"
    }
   ],
   "source": [
    "err_post.loc[err_post['y_true']==0, 'y_pred'].hist(bins=40);"
   ]
  },
  {
   "cell_type": "code",
   "execution_count": null,
   "metadata": {},
   "outputs": [],
   "source": []
  },
  {
   "cell_type": "code",
   "execution_count": 238,
   "metadata": {},
   "outputs": [
    {
     "data": {
      "text/plain": [
       "(261,)"
      ]
     },
     "execution_count": 238,
     "metadata": {},
     "output_type": "execute_result"
    }
   ],
   "source": [
    "val_err.loc[val_err['y_val']==20, 'post_val'].shape"
   ]
  },
  {
   "cell_type": "code",
   "execution_count": 237,
   "metadata": {},
   "outputs": [
    {
     "data": {
      "text/plain": [
       "<matplotlib.axes._subplots.AxesSubplot at 0x7f062b649da0>"
      ]
     },
     "execution_count": 237,
     "metadata": {},
     "output_type": "execute_result"
    },
    {
     "data": {
      "image/png": "[encoded data removed]",
      "text/plain": [
       "<Figure size 432x288 with 1 Axes>"
      ]
     },
     "metadata": {},
     "output_type": "display_data"
    }
   ],
   "source": [
    "val_err.loc[val_err['y_val']==20, 'post_val'].hist(bins=30)"
   ]
  },
  {
   "cell_type": "markdown",
   "metadata": {},
   "source": [
    "Observation: \n",
    "- our model consistently underpredicts the true sales\n",
    "- the prediction error is increasing in the true sales, i.e. we are really bad at predicting positive sales.\n",
    "- in fact, our model never predicts zero, whereas the true target is predominantly zero. Scores hover above 0.22. \n",
    "- the vast majority of predictions are between 0 and 1. Consider rounding and/or doing regression?\n",
    "\n",
    "It is hard to predict well for several reasons:\n",
    "- the true values are mostly zero. akin to unbalanced problem?\n",
    "- the true values are integers whereas the predictions, treating it as a regression problem, are real\n",
    "- it is hard to predict exactly zero. \n",
    "\n",
    "The high RMSE on the validation set is driven by:\n",
    "- wrong predictions of the ones with true value 20, which are most often predicted close to zero. This is due to the rmse property that high \n",
    "- rounding the predictions between 0 and 1 didn't help much in terms of mse becuase it decreased the residuals for true values of 0 but increased the ones for 1. could consider shifting the threshold "
   ]
  },
  {
   "cell_type": "markdown",
   "metadata": {},
   "source": [
    "### RF on numeric features\n",
    "trains a while"
   ]
  },
  {
   "cell_type": "code",
   "execution_count": 13,
   "metadata": {},
   "outputs": [
    {
     "ename": "KeyboardInterrupt",
     "evalue": "",
     "output_type": "error",
     "traceback": [
      "\u001b[0;31m---------------------------------------------------------------------------\u001b[0m",
      "\u001b[0;31mKeyboardInterrupt\u001b[0m                         Traceback (most recent call last)",
      "\u001b[0;32m<ipython-input-13-10bc92a6c8d3>\u001b[0m in \u001b[0;36m<module>\u001b[0;34m()\u001b[0m\n\u001b[1;32m      1\u001b[0m \u001b[0mrf\u001b[0m \u001b[0;34m=\u001b[0m \u001b[0mRandomForestRegressor\u001b[0m\u001b[0;34m(\u001b[0m\u001b[0mmax_depth\u001b[0m\u001b[0;34m=\u001b[0m\u001b[0;36m3\u001b[0m\u001b[0;34m,\u001b[0m \u001b[0mrandom_state\u001b[0m\u001b[0;34m=\u001b[0m\u001b[0;36m0\u001b[0m\u001b[0;34m,\u001b[0m \u001b[0mn_estimators\u001b[0m\u001b[0;34m=\u001b[0m\u001b[0;36m50\u001b[0m\u001b[0;34m)\u001b[0m\u001b[0;34m\u001b[0m\u001b[0m\n\u001b[0;32m----> 2\u001b[0;31m \u001b[0mudf\u001b[0m\u001b[0;34m.\u001b[0m\u001b[0mfit_eval_model\u001b[0m\u001b[0;34m(\u001b[0m\u001b[0mrf\u001b[0m\u001b[0;34m,\u001b[0m \u001b[0mX_train_num\u001b[0m\u001b[0;34m,\u001b[0m \u001b[0mX_val_num\u001b[0m\u001b[0;34m,\u001b[0m \u001b[0my_train\u001b[0m\u001b[0;34m,\u001b[0m \u001b[0my_val\u001b[0m\u001b[0;34m)\u001b[0m\u001b[0;34m\u001b[0m\u001b[0m\n\u001b[0m",
      "\u001b[0;32m~/Dropbox/Code/Coursera_Kaggle_Project/coursera_competition_udfs.py\u001b[0m in \u001b[0;36mfit_eval_model\u001b[0;34m(model, X_train, X_val, y_train, y_val, clip_val)\u001b[0m\n\u001b[1;32m    329\u001b[0m \u001b[0;34m\u001b[0m\u001b[0m\n\u001b[1;32m    330\u001b[0m \u001b[0;32mdef\u001b[0m \u001b[0mfit_eval_model\u001b[0m\u001b[0;34m(\u001b[0m\u001b[0mmodel\u001b[0m\u001b[0;34m,\u001b[0m \u001b[0mX_train\u001b[0m\u001b[0;34m,\u001b[0m \u001b[0mX_val\u001b[0m\u001b[0;34m,\u001b[0m \u001b[0my_train\u001b[0m\u001b[0;34m,\u001b[0m \u001b[0my_val\u001b[0m\u001b[0;34m,\u001b[0m \u001b[0mclip_val\u001b[0m\u001b[0;34m=\u001b[0m\u001b[0;32mTrue\u001b[0m\u001b[0;34m)\u001b[0m\u001b[0;34m:\u001b[0m\u001b[0;34m\u001b[0m\u001b[0m\n\u001b[0;32m--> 331\u001b[0;31m     \u001b[0mmodel\u001b[0m\u001b[0;34m.\u001b[0m\u001b[0mfit\u001b[0m\u001b[0;34m(\u001b[0m\u001b[0mX_train\u001b[0m\u001b[0;34m,\u001b[0m \u001b[0my_train\u001b[0m\u001b[0;34m)\u001b[0m\u001b[0;34m\u001b[0m\u001b[0m\n\u001b[0m\u001b[1;32m    332\u001b[0m     \u001b[0mpred_train\u001b[0m \u001b[0;34m=\u001b[0m \u001b[0mmodel\u001b[0m\u001b[0;34m.\u001b[0m\u001b[0mpredict\u001b[0m\u001b[0;34m(\u001b[0m\u001b[0mX_train\u001b[0m\u001b[0;34m)\u001b[0m\u001b[0;34m\u001b[0m\u001b[0m\n\u001b[1;32m    333\u001b[0m     \u001b[0mpred_val\u001b[0m \u001b[0;34m=\u001b[0m \u001b[0mmodel\u001b[0m\u001b[0;34m.\u001b[0m\u001b[0mpredict\u001b[0m\u001b[0;34m(\u001b[0m\u001b[0mX_val\u001b[0m\u001b[0;34m)\u001b[0m\u001b[0;34m\u001b[0m\u001b[0m\n",
      "\u001b[0;32m~/anaconda3/lib/python3.6/site-packages/sklearn/ensemble/forest.py\u001b[0m in \u001b[0;36mfit\u001b[0;34m(self, X, y, sample_weight)\u001b[0m\n\u001b[1;32m    326\u001b[0m                     \u001b[0mt\u001b[0m\u001b[0;34m,\u001b[0m \u001b[0mself\u001b[0m\u001b[0;34m,\u001b[0m \u001b[0mX\u001b[0m\u001b[0;34m,\u001b[0m \u001b[0my\u001b[0m\u001b[0;34m,\u001b[0m \u001b[0msample_weight\u001b[0m\u001b[0;34m,\u001b[0m \u001b[0mi\u001b[0m\u001b[0;34m,\u001b[0m \u001b[0mlen\u001b[0m\u001b[0;34m(\u001b[0m\u001b[0mtrees\u001b[0m\u001b[0;34m)\u001b[0m\u001b[0;34m,\u001b[0m\u001b[0;34m\u001b[0m\u001b[0m\n\u001b[1;32m    327\u001b[0m                     verbose=self.verbose, class_weight=self.class_weight)\n\u001b[0;32m--> 328\u001b[0;31m                 for i, t in enumerate(trees))\n\u001b[0m\u001b[1;32m    329\u001b[0m \u001b[0;34m\u001b[0m\u001b[0m\n\u001b[1;32m    330\u001b[0m             \u001b[0;31m# Collect newly grown trees\u001b[0m\u001b[0;34m\u001b[0m\u001b[0;34m\u001b[0m\u001b[0m\n",
      "\u001b[0;32m~/anaconda3/lib/python3.6/site-packages/sklearn/externals/joblib/parallel.py\u001b[0m in \u001b[0;36m__call__\u001b[0;34m(self, iterable)\u001b[0m\n\u001b[1;32m    777\u001b[0m             \u001b[0;31m# was dispatched. In particular this covers the edge\u001b[0m\u001b[0;34m\u001b[0m\u001b[0;34m\u001b[0m\u001b[0m\n\u001b[1;32m    778\u001b[0m             \u001b[0;31m# case of Parallel used with an exhausted iterator.\u001b[0m\u001b[0;34m\u001b[0m\u001b[0;34m\u001b[0m\u001b[0m\n\u001b[0;32m--> 779\u001b[0;31m             \u001b[0;32mwhile\u001b[0m \u001b[0mself\u001b[0m\u001b[0;34m.\u001b[0m\u001b[0mdispatch_one_batch\u001b[0m\u001b[0;34m(\u001b[0m\u001b[0miterator\u001b[0m\u001b[0;34m)\u001b[0m\u001b[0;34m:\u001b[0m\u001b[0;34m\u001b[0m\u001b[0m\n\u001b[0m\u001b[1;32m    780\u001b[0m                 \u001b[0mself\u001b[0m\u001b[0;34m.\u001b[0m\u001b[0m_iterating\u001b[0m \u001b[0;34m=\u001b[0m \u001b[0;32mTrue\u001b[0m\u001b[0;34m\u001b[0m\u001b[0m\n\u001b[1;32m    781\u001b[0m             \u001b[0;32melse\u001b[0m\u001b[0;34m:\u001b[0m\u001b[0;34m\u001b[0m\u001b[0m\n",
      "\u001b[0;32m~/anaconda3/lib/python3.6/site-packages/sklearn/externals/joblib/parallel.py\u001b[0m in \u001b[0;36mdispatch_one_batch\u001b[0;34m(self, iterator)\u001b[0m\n\u001b[1;32m    623\u001b[0m                 \u001b[0;32mreturn\u001b[0m \u001b[0;32mFalse\u001b[0m\u001b[0;34m\u001b[0m\u001b[0m\n\u001b[1;32m    624\u001b[0m             \u001b[0;32melse\u001b[0m\u001b[0;34m:\u001b[0m\u001b[0;34m\u001b[0m\u001b[0m\n\u001b[0;32m--> 625\u001b[0;31m                 \u001b[0mself\u001b[0m\u001b[0;34m.\u001b[0m\u001b[0m_dispatch\u001b[0m\u001b[0;34m(\u001b[0m\u001b[0mtasks\u001b[0m\u001b[0;34m)\u001b[0m\u001b[0;34m\u001b[0m\u001b[0m\n\u001b[0m\u001b[1;32m    626\u001b[0m                 \u001b[0;32mreturn\u001b[0m \u001b[0;32mTrue\u001b[0m\u001b[0;34m\u001b[0m\u001b[0m\n\u001b[1;32m    627\u001b[0m \u001b[0;34m\u001b[0m\u001b[0m\n",
      "\u001b[0;32m~/anaconda3/lib/python3.6/site-packages/sklearn/externals/joblib/parallel.py\u001b[0m in \u001b[0;36m_dispatch\u001b[0;34m(self, batch)\u001b[0m\n\u001b[1;32m    586\u001b[0m         \u001b[0mdispatch_timestamp\u001b[0m \u001b[0;34m=\u001b[0m \u001b[0mtime\u001b[0m\u001b[0;34m.\u001b[0m\u001b[0mtime\u001b[0m\u001b[0;34m(\u001b[0m\u001b[0;34m)\u001b[0m\u001b[0;34m\u001b[0m\u001b[0m\n\u001b[1;32m    587\u001b[0m         \u001b[0mcb\u001b[0m \u001b[0;34m=\u001b[0m \u001b[0mBatchCompletionCallBack\u001b[0m\u001b[0;34m(\u001b[0m\u001b[0mdispatch_timestamp\u001b[0m\u001b[0;34m,\u001b[0m \u001b[0mlen\u001b[0m\u001b[0;34m(\u001b[0m\u001b[0mbatch\u001b[0m\u001b[0;34m)\u001b[0m\u001b[0;34m,\u001b[0m \u001b[0mself\u001b[0m\u001b[0;34m)\u001b[0m\u001b[0;34m\u001b[0m\u001b[0m\n\u001b[0;32m--> 588\u001b[0;31m         \u001b[0mjob\u001b[0m \u001b[0;34m=\u001b[0m \u001b[0mself\u001b[0m\u001b[0;34m.\u001b[0m\u001b[0m_backend\u001b[0m\u001b[0;34m.\u001b[0m\u001b[0mapply_async\u001b[0m\u001b[0;34m(\u001b[0m\u001b[0mbatch\u001b[0m\u001b[0;34m,\u001b[0m \u001b[0mcallback\u001b[0m\u001b[0;34m=\u001b[0m\u001b[0mcb\u001b[0m\u001b[0;34m)\u001b[0m\u001b[0;34m\u001b[0m\u001b[0m\n\u001b[0m\u001b[1;32m    589\u001b[0m         \u001b[0mself\u001b[0m\u001b[0;34m.\u001b[0m\u001b[0m_jobs\u001b[0m\u001b[0;34m.\u001b[0m\u001b[0mappend\u001b[0m\u001b[0;34m(\u001b[0m\u001b[0mjob\u001b[0m\u001b[0;34m)\u001b[0m\u001b[0;34m\u001b[0m\u001b[0m\n\u001b[1;32m    590\u001b[0m \u001b[0;34m\u001b[0m\u001b[0m\n",
      "\u001b[0;32m~/anaconda3/lib/python3.6/site-packages/sklearn/externals/joblib/_parallel_backends.py\u001b[0m in \u001b[0;36mapply_async\u001b[0;34m(self, func, callback)\u001b[0m\n\u001b[1;32m    109\u001b[0m     \u001b[0;32mdef\u001b[0m \u001b[0mapply_async\u001b[0m\u001b[0;34m(\u001b[0m\u001b[0mself\u001b[0m\u001b[0;34m,\u001b[0m \u001b[0mfunc\u001b[0m\u001b[0;34m,\u001b[0m \u001b[0mcallback\u001b[0m\u001b[0;34m=\u001b[0m\u001b[0;32mNone\u001b[0m\u001b[0;34m)\u001b[0m\u001b[0;34m:\u001b[0m\u001b[0;34m\u001b[0m\u001b[0m\n\u001b[1;32m    110\u001b[0m         \u001b[0;34m\"\"\"Schedule a func to be run\"\"\"\u001b[0m\u001b[0;34m\u001b[0m\u001b[0m\n\u001b[0;32m--> 111\u001b[0;31m         \u001b[0mresult\u001b[0m \u001b[0;34m=\u001b[0m \u001b[0mImmediateResult\u001b[0m\u001b[0;34m(\u001b[0m\u001b[0mfunc\u001b[0m\u001b[0;34m)\u001b[0m\u001b[0;34m\u001b[0m\u001b[0m\n\u001b[0m\u001b[1;32m    112\u001b[0m         \u001b[0;32mif\u001b[0m \u001b[0mcallback\u001b[0m\u001b[0;34m:\u001b[0m\u001b[0;34m\u001b[0m\u001b[0m\n\u001b[1;32m    113\u001b[0m             \u001b[0mcallback\u001b[0m\u001b[0;34m(\u001b[0m\u001b[0mresult\u001b[0m\u001b[0;34m)\u001b[0m\u001b[0;34m\u001b[0m\u001b[0m\n",
      "\u001b[0;32m~/anaconda3/lib/python3.6/site-packages/sklearn/externals/joblib/_parallel_backends.py\u001b[0m in \u001b[0;36m__init__\u001b[0;34m(self, batch)\u001b[0m\n\u001b[1;32m    330\u001b[0m         \u001b[0;31m# Don't delay the application, to avoid keeping the input\u001b[0m\u001b[0;34m\u001b[0m\u001b[0;34m\u001b[0m\u001b[0m\n\u001b[1;32m    331\u001b[0m         \u001b[0;31m# arguments in memory\u001b[0m\u001b[0;34m\u001b[0m\u001b[0;34m\u001b[0m\u001b[0m\n\u001b[0;32m--> 332\u001b[0;31m         \u001b[0mself\u001b[0m\u001b[0;34m.\u001b[0m\u001b[0mresults\u001b[0m \u001b[0;34m=\u001b[0m \u001b[0mbatch\u001b[0m\u001b[0;34m(\u001b[0m\u001b[0;34m)\u001b[0m\u001b[0;34m\u001b[0m\u001b[0m\n\u001b[0m\u001b[1;32m    333\u001b[0m \u001b[0;34m\u001b[0m\u001b[0m\n\u001b[1;32m    334\u001b[0m     \u001b[0;32mdef\u001b[0m \u001b[0mget\u001b[0m\u001b[0;34m(\u001b[0m\u001b[0mself\u001b[0m\u001b[0;34m)\u001b[0m\u001b[0;34m:\u001b[0m\u001b[0;34m\u001b[0m\u001b[0m\n",
      "\u001b[0;32m~/anaconda3/lib/python3.6/site-packages/sklearn/externals/joblib/parallel.py\u001b[0m in \u001b[0;36m__call__\u001b[0;34m(self)\u001b[0m\n\u001b[1;32m    129\u001b[0m \u001b[0;34m\u001b[0m\u001b[0m\n\u001b[1;32m    130\u001b[0m     \u001b[0;32mdef\u001b[0m \u001b[0m__call__\u001b[0m\u001b[0;34m(\u001b[0m\u001b[0mself\u001b[0m\u001b[0;34m)\u001b[0m\u001b[0;34m:\u001b[0m\u001b[0;34m\u001b[0m\u001b[0m\n\u001b[0;32m--> 131\u001b[0;31m         \u001b[0;32mreturn\u001b[0m \u001b[0;34m[\u001b[0m\u001b[0mfunc\u001b[0m\u001b[0;34m(\u001b[0m\u001b[0;34m*\u001b[0m\u001b[0margs\u001b[0m\u001b[0;34m,\u001b[0m \u001b[0;34m**\u001b[0m\u001b[0mkwargs\u001b[0m\u001b[0;34m)\u001b[0m \u001b[0;32mfor\u001b[0m \u001b[0mfunc\u001b[0m\u001b[0;34m,\u001b[0m \u001b[0margs\u001b[0m\u001b[0;34m,\u001b[0m \u001b[0mkwargs\u001b[0m \u001b[0;32min\u001b[0m \u001b[0mself\u001b[0m\u001b[0;34m.\u001b[0m\u001b[0mitems\u001b[0m\u001b[0;34m]\u001b[0m\u001b[0;34m\u001b[0m\u001b[0m\n\u001b[0m\u001b[1;32m    132\u001b[0m \u001b[0;34m\u001b[0m\u001b[0m\n\u001b[1;32m    133\u001b[0m     \u001b[0;32mdef\u001b[0m \u001b[0m__len__\u001b[0m\u001b[0;34m(\u001b[0m\u001b[0mself\u001b[0m\u001b[0;34m)\u001b[0m\u001b[0;34m:\u001b[0m\u001b[0;34m\u001b[0m\u001b[0m\n",
      "\u001b[0;32m~/anaconda3/lib/python3.6/site-packages/sklearn/externals/joblib/parallel.py\u001b[0m in \u001b[0;36m<listcomp>\u001b[0;34m(.0)\u001b[0m\n\u001b[1;32m    129\u001b[0m \u001b[0;34m\u001b[0m\u001b[0m\n\u001b[1;32m    130\u001b[0m     \u001b[0;32mdef\u001b[0m \u001b[0m__call__\u001b[0m\u001b[0;34m(\u001b[0m\u001b[0mself\u001b[0m\u001b[0;34m)\u001b[0m\u001b[0;34m:\u001b[0m\u001b[0;34m\u001b[0m\u001b[0m\n\u001b[0;32m--> 131\u001b[0;31m         \u001b[0;32mreturn\u001b[0m \u001b[0;34m[\u001b[0m\u001b[0mfunc\u001b[0m\u001b[0;34m(\u001b[0m\u001b[0;34m*\u001b[0m\u001b[0margs\u001b[0m\u001b[0;34m,\u001b[0m \u001b[0;34m**\u001b[0m\u001b[0mkwargs\u001b[0m\u001b[0;34m)\u001b[0m \u001b[0;32mfor\u001b[0m \u001b[0mfunc\u001b[0m\u001b[0;34m,\u001b[0m \u001b[0margs\u001b[0m\u001b[0;34m,\u001b[0m \u001b[0mkwargs\u001b[0m \u001b[0;32min\u001b[0m \u001b[0mself\u001b[0m\u001b[0;34m.\u001b[0m\u001b[0mitems\u001b[0m\u001b[0;34m]\u001b[0m\u001b[0;34m\u001b[0m\u001b[0m\n\u001b[0m\u001b[1;32m    132\u001b[0m \u001b[0;34m\u001b[0m\u001b[0m\n\u001b[1;32m    133\u001b[0m     \u001b[0;32mdef\u001b[0m \u001b[0m__len__\u001b[0m\u001b[0;34m(\u001b[0m\u001b[0mself\u001b[0m\u001b[0;34m)\u001b[0m\u001b[0;34m:\u001b[0m\u001b[0;34m\u001b[0m\u001b[0m\n",
      "\u001b[0;32m~/anaconda3/lib/python3.6/site-packages/sklearn/ensemble/forest.py\u001b[0m in \u001b[0;36m_parallel_build_trees\u001b[0;34m(tree, forest, X, y, sample_weight, tree_idx, n_trees, verbose, class_weight)\u001b[0m\n\u001b[1;32m    119\u001b[0m             \u001b[0mcurr_sample_weight\u001b[0m \u001b[0;34m*=\u001b[0m \u001b[0mcompute_sample_weight\u001b[0m\u001b[0;34m(\u001b[0m\u001b[0;34m'balanced'\u001b[0m\u001b[0;34m,\u001b[0m \u001b[0my\u001b[0m\u001b[0;34m,\u001b[0m \u001b[0mindices\u001b[0m\u001b[0;34m)\u001b[0m\u001b[0;34m\u001b[0m\u001b[0m\n\u001b[1;32m    120\u001b[0m \u001b[0;34m\u001b[0m\u001b[0m\n\u001b[0;32m--> 121\u001b[0;31m         \u001b[0mtree\u001b[0m\u001b[0;34m.\u001b[0m\u001b[0mfit\u001b[0m\u001b[0;34m(\u001b[0m\u001b[0mX\u001b[0m\u001b[0;34m,\u001b[0m \u001b[0my\u001b[0m\u001b[0;34m,\u001b[0m \u001b[0msample_weight\u001b[0m\u001b[0;34m=\u001b[0m\u001b[0mcurr_sample_weight\u001b[0m\u001b[0;34m,\u001b[0m \u001b[0mcheck_input\u001b[0m\u001b[0;34m=\u001b[0m\u001b[0;32mFalse\u001b[0m\u001b[0;34m)\u001b[0m\u001b[0;34m\u001b[0m\u001b[0m\n\u001b[0m\u001b[1;32m    122\u001b[0m     \u001b[0;32melse\u001b[0m\u001b[0;34m:\u001b[0m\u001b[0;34m\u001b[0m\u001b[0m\n\u001b[1;32m    123\u001b[0m         \u001b[0mtree\u001b[0m\u001b[0;34m.\u001b[0m\u001b[0mfit\u001b[0m\u001b[0;34m(\u001b[0m\u001b[0mX\u001b[0m\u001b[0;34m,\u001b[0m \u001b[0my\u001b[0m\u001b[0;34m,\u001b[0m \u001b[0msample_weight\u001b[0m\u001b[0;34m=\u001b[0m\u001b[0msample_weight\u001b[0m\u001b[0;34m,\u001b[0m \u001b[0mcheck_input\u001b[0m\u001b[0;34m=\u001b[0m\u001b[0;32mFalse\u001b[0m\u001b[0;34m)\u001b[0m\u001b[0;34m\u001b[0m\u001b[0m\n",
      "\u001b[0;32m~/anaconda3/lib/python3.6/site-packages/sklearn/tree/tree.py\u001b[0m in \u001b[0;36mfit\u001b[0;34m(self, X, y, sample_weight, check_input, X_idx_sorted)\u001b[0m\n\u001b[1;32m   1122\u001b[0m             \u001b[0msample_weight\u001b[0m\u001b[0;34m=\u001b[0m\u001b[0msample_weight\u001b[0m\u001b[0;34m,\u001b[0m\u001b[0;34m\u001b[0m\u001b[0m\n\u001b[1;32m   1123\u001b[0m             \u001b[0mcheck_input\u001b[0m\u001b[0;34m=\u001b[0m\u001b[0mcheck_input\u001b[0m\u001b[0;34m,\u001b[0m\u001b[0;34m\u001b[0m\u001b[0m\n\u001b[0;32m-> 1124\u001b[0;31m             X_idx_sorted=X_idx_sorted)\n\u001b[0m\u001b[1;32m   1125\u001b[0m         \u001b[0;32mreturn\u001b[0m \u001b[0mself\u001b[0m\u001b[0;34m\u001b[0m\u001b[0m\n\u001b[1;32m   1126\u001b[0m \u001b[0;34m\u001b[0m\u001b[0m\n",
      "\u001b[0;32m~/anaconda3/lib/python3.6/site-packages/sklearn/tree/tree.py\u001b[0m in \u001b[0;36mfit\u001b[0;34m(self, X, y, sample_weight, check_input, X_idx_sorted)\u001b[0m\n\u001b[1;32m    360\u001b[0m                                            min_impurity_split)\n\u001b[1;32m    361\u001b[0m \u001b[0;34m\u001b[0m\u001b[0m\n\u001b[0;32m--> 362\u001b[0;31m         \u001b[0mbuilder\u001b[0m\u001b[0;34m.\u001b[0m\u001b[0mbuild\u001b[0m\u001b[0;34m(\u001b[0m\u001b[0mself\u001b[0m\u001b[0;34m.\u001b[0m\u001b[0mtree_\u001b[0m\u001b[0;34m,\u001b[0m \u001b[0mX\u001b[0m\u001b[0;34m,\u001b[0m \u001b[0my\u001b[0m\u001b[0;34m,\u001b[0m \u001b[0msample_weight\u001b[0m\u001b[0;34m,\u001b[0m \u001b[0mX_idx_sorted\u001b[0m\u001b[0;34m)\u001b[0m\u001b[0;34m\u001b[0m\u001b[0m\n\u001b[0m\u001b[1;32m    363\u001b[0m \u001b[0;34m\u001b[0m\u001b[0m\n\u001b[1;32m    364\u001b[0m         \u001b[0;32mif\u001b[0m \u001b[0mself\u001b[0m\u001b[0;34m.\u001b[0m\u001b[0mn_outputs_\u001b[0m \u001b[0;34m==\u001b[0m \u001b[0;36m1\u001b[0m\u001b[0;34m:\u001b[0m\u001b[0;34m\u001b[0m\u001b[0m\n",
      "\u001b[0;31mKeyboardInterrupt\u001b[0m: "
     ]
    }
   ],
   "source": [
    "rf = RandomForestRegressor(max_depth=3, random_state=0, n_estimators=50)\n",
    "udf.fit_eval_model(rf, X_train_num, X_val_num, y_train, y_val)"
   ]
  },
  {
   "cell_type": "code",
   "execution_count": 12,
   "metadata": {},
   "outputs": [
    {
     "name": "stdout",
     "output_type": "stream",
     "text": [
      "       R-squared   RMSE\n",
      "train      0.477  2.555\n",
      "val        0.166  1.038\n"
     ]
    },
    {
     "data": {
      "text/plain": [
       "RandomForestRegressor(bootstrap=True, criterion='mse', max_depth=3,\n",
       "           max_features='auto', max_leaf_nodes=None,\n",
       "           min_impurity_decrease=0.0, min_impurity_split=None,\n",
       "           min_samples_leaf=1, min_samples_split=2,\n",
       "           min_weight_fraction_leaf=0.0, n_estimators=10, n_jobs=1,\n",
       "           oob_score=False, random_state=0, verbose=0, warm_start=False)"
      ]
     },
     "execution_count": 12,
     "metadata": {},
     "output_type": "execute_result"
    }
   ],
   "source": [
    "rf_model = RandomForestRegressor(max_depth=3, random_state=0, n_estimators=50)\n",
    "rf_model.fit(X_train_num, y_train)\n",
    "udf.eval_model_pred(rf_model, X_train_num, X_val_num, y_train, y_val)"
   ]
  },
  {
   "cell_type": "markdown",
   "metadata": {},
   "source": [
    "# Predict on test set"
   ]
  },
  {
   "cell_type": "code",
   "execution_count": 18,
   "metadata": {},
   "outputs": [
    {
     "name": "stdout",
     "output_type": "stream",
     "text": [
      "Train data: date_block_num [12 13 14 15 16 17 18 19 20 21 22 23 24 25 26 27 28 29 30 31 32 33]\n",
      "Test data: date_block_num [34]\n",
      "target values in train data are clipped to [0, 20]\n"
     ]
    },
    {
     "name": "stderr",
     "output_type": "stream",
     "text": [
      "/home/johanna/Dropbox/Code/Coursera_Kaggle_Project/coursera_competition_udfs.py:423: SettingWithCopyWarning: \n",
      "A value is trying to be set on a copy of a slice from a DataFrame.\n",
      "Try using .loc[row_indexer,col_indexer] = value instead\n",
      "\n",
      "See the caveats in the documentation: http://pandas.pydata.org/pandas-docs/stable/indexing.html#indexing-view-versus-copy\n",
      "  df_train[label] = df_train[label].clip(0, 20)\n"
     ]
    },
    {
     "name": "stdout",
     "output_type": "stream",
     "text": [
      "Number of observations in train: 6425094\n",
      "Number of observations in test: 214200\n",
      "Number of attributes: 28\n"
     ]
    }
   ],
   "source": [
    "# training and validation data, with all possible features, clipped target\n",
    "all_train, all_test, y_all_train, y_all_test = udf.train_test_split_by_month(all_sales, test_start=34, \n",
    "                                                                                       clip_train=True, clip_test=True)"
   ]
  },
  {
   "cell_type": "code",
   "execution_count": 19,
   "metadata": {},
   "outputs": [],
   "source": [
    "model_select = lgb.Booster(model_file='lgbm_bst_model_clip.txt')  #init model\n",
    "pred_test = model_select.predict(all_test)"
   ]
  },
  {
   "cell_type": "code",
   "execution_count": 20,
   "metadata": {},
   "outputs": [
    {
     "name": "stdout",
     "output_type": "stream",
     "text": [
      "inverse label encoding item_id from file enc_item_id.pickle\n",
      "inverse label encoding shop_id from file enc_shop_id.pickle\n"
     ]
    },
    {
     "name": "stderr",
     "output_type": "stream",
     "text": [
      "/home/johanna/anaconda3/lib/python3.6/site-packages/sklearn/preprocessing/label.py:151: DeprecationWarning: The truth value of an empty array is ambiguous. Returning False, but in future this will result in an error. Use `array.size > 0` to check that an array is not empty.\n",
      "  if diff:\n",
      "/home/johanna/anaconda3/lib/python3.6/site-packages/sklearn/preprocessing/label.py:151: DeprecationWarning: The truth value of an empty array is ambiguous. Returning False, but in future this will result in an error. Use `array.size > 0` to check that an array is not empty.\n",
      "  if diff:\n"
     ]
    }
   ],
   "source": [
    "pred_submit = all_test[['item_id', 'shop_id']].copy().reset_index(drop=True)\n",
    "pred_submit['target'] = pred_test\n",
    "\n",
    "# inverse the item and shop ids\n",
    "pred_submit = udf.inverse_label_encode_categ_cols(pred_submit, ['item_id', 'shop_id'])"
   ]
  },
  {
   "cell_type": "code",
   "execution_count": 21,
   "metadata": {},
   "outputs": [],
   "source": [
    "test_data = udf.load_test_data()"
   ]
  },
  {
   "cell_type": "markdown",
   "metadata": {},
   "source": [
    "#### mismatch between shop-item pairs in test and submit?! "
   ]
  },
  {
   "cell_type": "code",
   "execution_count": 23,
   "metadata": {},
   "outputs": [
    {
     "name": "stdout",
     "output_type": "stream",
     "text": [
      "<class 'pandas.core.frame.DataFrame'>\n",
      "RangeIndex: 214200 entries, 0 to 214199\n",
      "Data columns (total 3 columns):\n",
      "item_id    214200 non-null int64\n",
      "shop_id    214200 non-null int64\n",
      "target     214200 non-null float64\n",
      "dtypes: float64(1), int64(2)\n",
      "memory usage: 4.9 MB\n"
     ]
    }
   ],
   "source": [
    "pred_submit.info()"
   ]
  },
  {
   "cell_type": "code",
   "execution_count": 24,
   "metadata": {},
   "outputs": [
    {
     "name": "stdout",
     "output_type": "stream",
     "text": [
      "<class 'pandas.core.frame.DataFrame'>\n",
      "RangeIndex: 214200 entries, 0 to 214199\n",
      "Data columns (total 3 columns):\n",
      "ID         214200 non-null int64\n",
      "shop_id    214200 non-null int64\n",
      "item_id    214200 non-null int64\n",
      "dtypes: int64(3)\n",
      "memory usage: 4.9 MB\n"
     ]
    }
   ],
   "source": [
    "test_data.info()"
   ]
  },
  {
   "cell_type": "code",
   "execution_count": 25,
   "metadata": {},
   "outputs": [
    {
     "data": {
      "text/plain": [
       "(5100, 42)"
      ]
     },
     "execution_count": 25,
     "metadata": {},
     "output_type": "execute_result"
    }
   ],
   "source": [
    "pred_submit['item_id'].nunique(), pred_submit['shop_id'].nunique()"
   ]
  },
  {
   "cell_type": "code",
   "execution_count": 26,
   "metadata": {},
   "outputs": [
    {
     "data": {
      "text/plain": [
       "(5100, 42)"
      ]
     },
     "execution_count": 26,
     "metadata": {},
     "output_type": "execute_result"
    }
   ],
   "source": [
    "test_data['item_id'].nunique(), test_data['shop_id'].nunique()"
   ]
  },
  {
   "cell_type": "code",
   "execution_count": 27,
   "metadata": {},
   "outputs": [],
   "source": [
    "submit_shops = set(pred_submit['shop_id'])"
   ]
  },
  {
   "cell_type": "code",
   "execution_count": 28,
   "metadata": {},
   "outputs": [],
   "source": [
    "test_shops = set(test_data['shop_id'])"
   ]
  },
  {
   "cell_type": "code",
   "execution_count": 29,
   "metadata": {},
   "outputs": [
    {
     "data": {
      "text/plain": [
       "set()"
      ]
     },
     "execution_count": 29,
     "metadata": {},
     "output_type": "execute_result"
    }
   ],
   "source": [
    "submit_shops-test_shops"
   ]
  },
  {
   "cell_type": "code",
   "execution_count": 30,
   "metadata": {},
   "outputs": [
    {
     "data": {
      "text/plain": [
       "set()"
      ]
     },
     "execution_count": 30,
     "metadata": {},
     "output_type": "execute_result"
    }
   ],
   "source": [
    "test_shops - submit_shops"
   ]
  },
  {
   "cell_type": "markdown",
   "metadata": {},
   "source": [
    "### Create submission file "
   ]
  },
  {
   "cell_type": "code",
   "execution_count": 31,
   "metadata": {},
   "outputs": [],
   "source": [
    "# create submission file with IDs from test data\n",
    "submit = (pd.merge(test_data, pred_submit, how='left', on=['shop_id', 'item_id'])\n",
    "              .rename(columns={'target': 'item_cnt_month'})\n",
    "                  .drop(columns=['shop_id', 'item_id'])\n",
    "          )"
   ]
  },
  {
   "cell_type": "code",
   "execution_count": 32,
   "metadata": {},
   "outputs": [
    {
     "data": {
      "text/plain": [
       "(214200, 2)"
      ]
     },
     "execution_count": 32,
     "metadata": {},
     "output_type": "execute_result"
    }
   ],
   "source": [
    "submit.shape"
   ]
  },
  {
   "cell_type": "code",
   "execution_count": 34,
   "metadata": {},
   "outputs": [
    {
     "data": {
      "text/plain": [
       "ID                0\n",
       "item_cnt_month    0\n",
       "dtype: int64"
      ]
     },
     "execution_count": 34,
     "metadata": {},
     "output_type": "execute_result"
    }
   ],
   "source": [
    "submit.isnull().sum()"
   ]
  },
  {
   "cell_type": "code",
   "execution_count": 35,
   "metadata": {},
   "outputs": [],
   "source": [
    "submit.to_csv('submission_lgbm_lags_and_id_features.csv', index=False)\n",
    "# yields public leaderboard score of "
   ]
  }
 ],
 "metadata": {
  "kernelspec": {
   "display_name": "Python 3",
   "language": "python",
   "name": "python3"
  },
  "language_info": {
   "codemirror_mode": {
    "name": "ipython",
    "version": 3
   },
   "file_extension": ".py",
   "mimetype": "text/x-python",
   "name": "python",
   "nbconvert_exporter": "python",
   "pygments_lexer": "ipython3",
   "version": "3.6.5"
  }
 },
 "nbformat": 4,
 "nbformat_minor": 2
}
