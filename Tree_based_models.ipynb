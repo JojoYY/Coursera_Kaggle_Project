{
 "cells": [
  {
   "cell_type": "code",
   "execution_count": 1,
   "metadata": {},
   "outputs": [],
   "source": [
    "import numpy as np\n",
    "import pandas as pd\n",
    "import matplotlib.pyplot as plt\n",
    "import seaborn as sns\n",
    "import lightgbm as lgb\n",
    "import coursera_competition_udfs as udf\n",
    "import gc\n",
    "import pickle\n",
    "\n",
    "from scipy.stats import percentileofscore\n",
    "from sklearn.preprocessing import StandardScaler, LabelEncoder, OneHotEncoder\n",
    "from sklearn.linear_model import LinearRegression, Lasso\n",
    "from sklearn.metrics import r2_score, mean_squared_error, confusion_matrix, recall_score\n",
    "from sklearn.ensemble import RandomForestRegressor\n",
    "\n",
    "%matplotlib inline"
   ]
  },
  {
   "cell_type": "markdown",
   "metadata": {},
   "source": [
    "# Data"
   ]
  },
  {
   "cell_type": "markdown",
   "metadata": {},
   "source": [
    "## Load monthly sales and features data "
   ]
  },
  {
   "cell_type": "markdown",
   "metadata": {},
   "source": [
    "- First, we aggregate sales data by month, where for each month we create a grid of all the shops and items that have sales in that month. (Note that all other combinations would yield rows or columns of zeroes, but this introduces survivor bias). We then stack monthly time series data for all such shop-item pairs.\n",
    "- Then we created lagged sales of the 3 types of sales data: previous monthly sales of the shop_item pair, and previous monthly sales of the shop, and item, for different lag periods\n",
    "- Finally we merge lagged sales data with other information, such as seasonality features\n",
    "- Note that train and test data are concatenated and features generated altogether (ok for Kaggle and more convenient)"
   ]
  },
  {
   "cell_type": "code",
   "execution_count": 2,
   "metadata": {},
   "outputs": [],
   "source": [
    "# all_sales = udf.load_all_monthly_sales()"
   ]
  },
  {
   "cell_type": "code",
   "execution_count": 3,
   "metadata": {},
   "outputs": [],
   "source": [
    "pkl_name = './monthly_sales_grid_lag_1_2_3_6_12_seasonality_items_shops.pkl'\n",
    "all_sales = pd.read_pickle(pkl_name)"
   ]
  },
  {
   "cell_type": "code",
   "execution_count": 4,
   "metadata": {},
   "outputs": [
    {
     "name": "stdout",
     "output_type": "stream",
     "text": [
      "<class 'pandas.core.frame.DataFrame'>\n",
      "Int64Index: 6639294 entries, 0 to 6639293\n",
      "Data columns (total 29 columns):\n",
      "date_block_num             int64\n",
      "item_id                    int64\n",
      "shop_id                    int64\n",
      "target                     float64\n",
      "target_lag_1               int64\n",
      "target_item_lag_1          int64\n",
      "target_shop_lag_1          int64\n",
      "target_lag_2               int64\n",
      "target_item_lag_2          int64\n",
      "target_shop_lag_2          int64\n",
      "target_lag_3               int64\n",
      "target_item_lag_3          int64\n",
      "target_shop_lag_3          int64\n",
      "target_lag_6               int64\n",
      "target_item_lag_6          int64\n",
      "target_shop_lag_6          int64\n",
      "target_lag_12              int64\n",
      "target_item_lag_12         int64\n",
      "target_shop_lag_12         int64\n",
      "target_shop_zero           bool\n",
      "target_item_zero           bool\n",
      "target_shop_recent_zero    bool\n",
      "target_item_recent_zero    bool\n",
      "december                   bool\n",
      "Q1                         bool\n",
      "Q4                         bool\n",
      "item_category_id           int64\n",
      "item_category_group        object\n",
      "shop_city                  object\n",
      "dtypes: bool(7), float64(1), int64(19), object(2)\n",
      "memory usage: 1.2+ GB\n"
     ]
    }
   ],
   "source": [
    "all_sales.info()"
   ]
  },
  {
   "cell_type": "code",
   "execution_count": 5,
   "metadata": {},
   "outputs": [
    {
     "data": {
      "text/plain": [
       "target    214200\n",
       "dtype: int64"
      ]
     },
     "execution_count": 5,
     "metadata": {},
     "output_type": "execute_result"
    }
   ],
   "source": [
    "# sanity check: no missing attributes other than test set label\n",
    "nul_cols = all_sales.isnull().sum()\n",
    "nul_cols[nul_cols>0]"
   ]
  },
  {
   "cell_type": "markdown",
   "metadata": {},
   "source": [
    "## Create training and validation data"
   ]
  },
  {
   "cell_type": "code",
   "execution_count": 6,
   "metadata": {},
   "outputs": [
    {
     "name": "stdout",
     "output_type": "stream",
     "text": [
      "label encoding item_id and saving to enc_item_id.pickle\n",
      "label encoding shop_id and saving to enc_shop_id.pickle\n",
      "label encoding item_category_id and saving to enc_item_category_id.pickle\n",
      "label encoding item_category_group and saving to enc_item_category_group.pickle\n",
      "label encoding shop_city and saving to enc_shop_city.pickle\n"
     ]
    }
   ],
   "source": [
    "# encode categorical cols\n",
    "categ_cols = ['item_id', 'shop_id', 'item_category_id', 'item_category_group', 'shop_city']\n",
    "all_sales = udf.label_encode_categ_cols(all_sales, categ_cols)"
   ]
  },
  {
   "cell_type": "code",
   "execution_count": 7,
   "metadata": {},
   "outputs": [
    {
     "name": "stdout",
     "output_type": "stream",
     "text": [
      "Train data: date_block_num [12 13 14 15 16 17 18 19 20 21 22 23 24 25 26 27 28 29 30 31 32]\n",
      "Test data: date_block_num [33]\n",
      "Number of observations in train: 6186922\n",
      "Number of observations in test: 238172\n",
      "Number of attributes: 28\n"
     ]
    }
   ],
   "source": [
    "# make training and validation data\n",
    "X_train, X_val, y_train, y_val = udf.train_test_split_by_month(all_sales)\n",
    "\n",
    "# for training on clipped target values\n",
    "y_train_clip, y_val_clip = y_train.clip(0, 20), y_val.clip(0, 20)"
   ]
  },
  {
   "cell_type": "markdown",
   "metadata": {},
   "source": [
    "# Model selection"
   ]
  },
  {
   "cell_type": "markdown",
   "metadata": {},
   "source": [
    "## LGBM"
   ]
  },
  {
   "cell_type": "markdown",
   "metadata": {},
   "source": [
    "### Training lgbm with original target values"
   ]
  },
  {
   "cell_type": "code",
   "execution_count": 8,
   "metadata": {},
   "outputs": [],
   "source": [
    "# # train lgbm with original labels\n",
    "\n",
    "# params_orig = {\n",
    "#                'max_depth': 8,  # reduce to increase regularization\n",
    "#                'bagging_fraction': 0.6, \n",
    "#                'feature_fraction': 0.7, # reduce to increase regularization\n",
    "#                'min_data_in_leaf': 1000, \n",
    "#                'learning_rate': 0.01, \n",
    "#                'bagging_freq':1,\n",
    "#                 'objective': 'regression', \n",
    "#                 'metric': 'rmse',\n",
    "#                'nthread':4, # parallel computation\n",
    "#                'verbose':0\n",
    "#               }\n",
    "# rounds_orig = 2500\n",
    "\n",
    "# lgb_train = lgb.Dataset(X_train, y_train)\n",
    "# lgb_val = lgb.Dataset(X_val, y_val, reference=lgb_train)\n",
    "# result = {}\n",
    "\n",
    "# bst = lgb.train(params = params_orig,\n",
    "#                 train_set = lgb_train,\n",
    "#                 num_boost_round = rounds_orig,\n",
    "#                 valid_sets=[lgb_train, lgb_val],\n",
    "#                 valid_names=['train', 'val'],\n",
    "#                 categorical_feature=categ_cols,\n",
    "#                 early_stopping_rounds=20,\n",
    "#                 evals_result=result,\n",
    "#                 verbose_eval=100,\n",
    "#                 keep_training_booster=True)\n",
    "\n",
    "# # extract predictions of the best model for further analysis\n",
    "# pred_train_bst = bst._Booster__inner_predict(data_idx=0)\n",
    "# pred_val_bst = bst._Booster__inner_predict(data_idx=1)\n",
    "\n",
    "# lgb.plot_metric(result);"
   ]
  },
  {
   "cell_type": "code",
   "execution_count": 9,
   "metadata": {},
   "outputs": [],
   "source": [
    "# # saving trained model and predictions on train and val set\n",
    "# filename = 'lgbm_bst_2018_12_20'\n",
    "# bst.save_model(filename + '.txt', num_iteration=bst.best_iteration);\n",
    "\n",
    "# with open(filename + '_pred_train.pkl', 'wb') as f:\n",
    "#     pickle.dump(pred_train_bst, f)\n",
    "\n",
    "# with open(filename + '_pred_val.pkl', 'wb') as f:\n",
    "#     pickle.dump(pred_val_bst, f)"
   ]
  },
  {
   "cell_type": "code",
   "execution_count": 10,
   "metadata": {},
   "outputs": [],
   "source": [
    "filename = 'lgbm_bst_2018_12_20'\n",
    "\n",
    "bst = lgb.Booster(model_file=filename + '.txt')\n",
    "\n",
    "with open(filename + '_pred_train.pkl', 'rb') as f:\n",
    "    pred_train_bst = pickle.load(f)\n",
    "\n",
    "with open(filename + '_pred_val.pkl', 'rb') as f:\n",
    "    pred_val_bst = pickle.load(f)"
   ]
  },
  {
   "cell_type": "code",
   "execution_count": 11,
   "metadata": {},
   "outputs": [
    {
     "data": {
      "image/png": "[encoded data removed]",
      "text/plain": [
       "<Figure size 432x288 with 1 Axes>"
      ]
     },
     "metadata": {},
     "output_type": "display_data"
    }
   ],
   "source": [
    "lgb.plot_importance(bst, max_num_features=10);"
   ]
  },
  {
   "cell_type": "code",
   "execution_count": 12,
   "metadata": {},
   "outputs": [
    {
     "name": "stdout",
     "output_type": "stream",
     "text": [
      "predictions on original values\n"
     ]
    },
    {
     "data": {
      "text/html": [
       "<div>\n",
       "<style scoped>\n",
       "    .dataframe tbody tr th:only-of-type {\n",
       "        vertical-align: middle;\n",
       "    }\n",
       "\n",
       "    .dataframe tbody tr th {\n",
       "        vertical-align: top;\n",
       "    }\n",
       "\n",
       "    .dataframe thead th {\n",
       "        text-align: right;\n",
       "    }\n",
       "</style>\n",
       "<table border=\"1\" class=\"dataframe\">\n",
       "  <thead>\n",
       "    <tr style=\"text-align: right;\">\n",
       "      <th></th>\n",
       "      <th>R-squared</th>\n",
       "      <th>RMSE</th>\n",
       "    </tr>\n",
       "  </thead>\n",
       "  <tbody>\n",
       "    <tr>\n",
       "      <th>train</th>\n",
       "      <td>0.468</td>\n",
       "      <td>2.577</td>\n",
       "    </tr>\n",
       "    <tr>\n",
       "      <th>val</th>\n",
       "      <td>0.190</td>\n",
       "      <td>4.809</td>\n",
       "    </tr>\n",
       "  </tbody>\n",
       "</table>\n",
       "</div>"
      ],
      "text/plain": [
       "       R-squared   RMSE\n",
       "train      0.468  2.577\n",
       "val        0.190  4.809"
      ]
     },
     "execution_count": 12,
     "metadata": {},
     "output_type": "execute_result"
    }
   ],
   "source": [
    "print('predictions on original values')\n",
    "udf.train_test_metrics(y_train, y_val, pred_train_bst, pred_val_bst)"
   ]
  },
  {
   "cell_type": "code",
   "execution_count": 13,
   "metadata": {},
   "outputs": [
    {
     "data": {
      "text/plain": [
       "(-7.3282750215249655, 224.36224686965906)"
      ]
     },
     "execution_count": 13,
     "metadata": {},
     "output_type": "execute_result"
    }
   ],
   "source": [
    "pred_val_bst.min(), pred_val_bst.max()"
   ]
  },
  {
   "cell_type": "code",
   "execution_count": 14,
   "metadata": {},
   "outputs": [
    {
     "name": "stdout",
     "output_type": "stream",
     "text": [
      "predictions on original values\n"
     ]
    },
    {
     "data": {
      "text/html": [
       "<div>\n",
       "<style scoped>\n",
       "    .dataframe tbody tr th:only-of-type {\n",
       "        vertical-align: middle;\n",
       "    }\n",
       "\n",
       "    .dataframe tbody tr th {\n",
       "        vertical-align: top;\n",
       "    }\n",
       "\n",
       "    .dataframe thead th {\n",
       "        text-align: right;\n",
       "    }\n",
       "</style>\n",
       "<table border=\"1\" class=\"dataframe\">\n",
       "  <thead>\n",
       "    <tr style=\"text-align: right;\">\n",
       "      <th></th>\n",
       "      <th>R-squared</th>\n",
       "      <th>RMSE</th>\n",
       "    </tr>\n",
       "  </thead>\n",
       "  <tbody>\n",
       "    <tr>\n",
       "      <th>train</th>\n",
       "      <td>0.501</td>\n",
       "      <td>0.839</td>\n",
       "    </tr>\n",
       "    <tr>\n",
       "      <th>val</th>\n",
       "      <td>0.075</td>\n",
       "      <td>1.093</td>\n",
       "    </tr>\n",
       "  </tbody>\n",
       "</table>\n",
       "</div>"
      ],
      "text/plain": [
       "       R-squared   RMSE\n",
       "train      0.501  0.839\n",
       "val        0.075  1.093"
      ]
     },
     "execution_count": 14,
     "metadata": {},
     "output_type": "execute_result"
    }
   ],
   "source": [
    "print('predictions on original values')\n",
    "udf.train_test_metrics(y_train_clip,\n",
    "                       y_val_clip,\n",
    "                       np.clip(pred_train_bst, 0, 20),\n",
    "                       np.clip(pred_val_bst, 0, 20))"
   ]
  },
  {
   "cell_type": "code",
   "execution_count": 15,
   "metadata": {},
   "outputs": [
    {
     "data": {
      "image/png": "[encoded data removed]",
      "text/plain": [
       "<Figure size 576x288 with 1 Axes>"
      ]
     },
     "metadata": {},
     "output_type": "display_data"
    },
    {
     "data": {
      "image/png": "[encoded data removed]",
      "text/plain": [
       "<Figure size 576x288 with 1 Axes>"
      ]
     },
     "metadata": {},
     "output_type": "display_data"
    },
    {
     "data": {
      "image/png": "[encoded data removed]",
      "text/plain": [
       "<Figure size 576x288 with 1 Axes>"
      ]
     },
     "metadata": {},
     "output_type": "display_data"
    },
    {
     "name": "stdout",
     "output_type": "stream",
     "text": [
      "confusion matrix of label vs predict zero sales:\n",
      "[[ 31168    303]\n",
      " [180387  26314]]\n"
     ]
    }
   ],
   "source": [
    "udf.clipped_error_analysis(y_val_clip, np.clip(pred_val_bst, 0, 20));"
   ]
  },
  {
   "cell_type": "markdown",
   "metadata": {},
   "source": [
    "### Train lgbm on clipped target values"
   ]
  },
  {
   "cell_type": "code",
   "execution_count": 16,
   "metadata": {},
   "outputs": [],
   "source": [
    "# # train lgbm with clipped labels\n",
    "\n",
    "# params_clip = {\n",
    "#                'max_depth': 8,  # reduce to increase regularization\n",
    "#                'bagging_fraction': 0.6, \n",
    "#                'feature_fraction': 0.7, # reduce to increase regularization\n",
    "#                'min_data_in_leaf': 1000, \n",
    "#                'learning_rate': 0.01, \n",
    "#                'bagging_freq':1,\n",
    "#                 'objective': 'regression', \n",
    "#                 'metric': 'rmse',\n",
    "#                'nthread':4, # parallel computation\n",
    "#                'verbose':0\n",
    "#               }\n",
    "# rounds_clip = 1000\n",
    "\n",
    "# lgb_train_clip = lgb.Dataset(X_train, y_train_clip)\n",
    "# lgb_val_clip = lgb.Dataset(X_val, y_val_clip, reference=lgb_train_clip)\n",
    "# result_clip = {}\n",
    "\n",
    "# bst_clip = lgb.train(params = params_clip,\n",
    "#                 train_set = lgb_train_clip,\n",
    "#                 num_boost_round = rounds_clip,\n",
    "#                 valid_sets=[lgb_train_clip, lgb_val_clip],\n",
    "#                 valid_names=['train_clip', 'val_clip'],\n",
    "#                 categorical_feature=categ_cols,\n",
    "#                 early_stopping_rounds=20,\n",
    "#                 evals_result=result_clip,\n",
    "#                 verbose_eval=10,\n",
    "#                 keep_training_booster=True)\n",
    "\n",
    "# # extract predictions of the best model for further analysis\n",
    "# pred_train_bst_clip = bst_clip._Booster__inner_predict(data_idx=0)\n",
    "# pred_val_bst_clip = bst_clip._Booster__inner_predict(data_idx=1)\n",
    "\n",
    "# lgb.plot_metric(evals_result);"
   ]
  },
  {
   "cell_type": "code",
   "execution_count": 17,
   "metadata": {},
   "outputs": [],
   "source": [
    "# # saving trained model and predictions on train and val set\n",
    "# filename = 'lgbm_bst_clip_2018_12_20'\n",
    "# bst_clip.save_model(filename + '.txt', num_iteration=bst_clip.best_iteration);\n",
    "\n",
    "# with open(filename + '_pred_train.pkl', 'wb') as f:\n",
    "#     pickle.dump(pred_train_bst_clip, f)\n",
    "\n",
    "# with open(filename + '_pred_val.pkl', 'wb') as f:\n",
    "#     pickle.dump(pred_val_bst_clip, f)"
   ]
  },
  {
   "cell_type": "markdown",
   "metadata": {},
   "source": [
    "#### Load trained model for error analysis"
   ]
  },
  {
   "cell_type": "code",
   "execution_count": 18,
   "metadata": {},
   "outputs": [],
   "source": [
    "filename = 'lgbm_bst_clip_2018_12_20'\n",
    "\n",
    "bst_clip = lgb.Booster(model_file=filename + '.txt')\n",
    "\n",
    "with open(filename + '_pred_train.pkl', 'rb') as f:\n",
    "    pred_train_bst_clip = pickle.load(f)\n",
    "\n",
    "with open(filename + '_pred_val.pkl', 'rb') as f:\n",
    "    pred_val_bst_clip = pickle.load(f)"
   ]
  },
  {
   "cell_type": "code",
   "execution_count": 19,
   "metadata": {},
   "outputs": [
    {
     "data": {
      "image/png": "[encoded data removed]",
      "text/plain": [
       "<Figure size 432x288 with 1 Axes>"
      ]
     },
     "metadata": {},
     "output_type": "display_data"
    }
   ],
   "source": [
    "lgb.plot_importance(bst_clip, max_num_features=10);"
   ]
  },
  {
   "cell_type": "code",
   "execution_count": 20,
   "metadata": {},
   "outputs": [
    {
     "data": {
      "text/html": [
       "<div>\n",
       "<style scoped>\n",
       "    .dataframe tbody tr th:only-of-type {\n",
       "        vertical-align: middle;\n",
       "    }\n",
       "\n",
       "    .dataframe tbody tr th {\n",
       "        vertical-align: top;\n",
       "    }\n",
       "\n",
       "    .dataframe thead th {\n",
       "        text-align: right;\n",
       "    }\n",
       "</style>\n",
       "<table border=\"1\" class=\"dataframe\">\n",
       "  <thead>\n",
       "    <tr style=\"text-align: right;\">\n",
       "      <th></th>\n",
       "      <th>R-squared</th>\n",
       "      <th>RMSE</th>\n",
       "    </tr>\n",
       "  </thead>\n",
       "  <tbody>\n",
       "    <tr>\n",
       "      <th>train</th>\n",
       "      <td>0.533</td>\n",
       "      <td>0.812</td>\n",
       "    </tr>\n",
       "    <tr>\n",
       "      <th>val</th>\n",
       "      <td>0.275</td>\n",
       "      <td>0.968</td>\n",
       "    </tr>\n",
       "  </tbody>\n",
       "</table>\n",
       "</div>"
      ],
      "text/plain": [
       "       R-squared   RMSE\n",
       "train      0.533  0.812\n",
       "val        0.275  0.968"
      ]
     },
     "execution_count": 20,
     "metadata": {},
     "output_type": "execute_result"
    }
   ],
   "source": [
    "udf.train_test_metrics(y_train_clip, y_val_clip, pred_train_bst_clip, pred_val_bst_clip)"
   ]
  },
  {
   "cell_type": "code",
   "execution_count": 21,
   "metadata": {},
   "outputs": [
    {
     "data": {
      "text/plain": [
       "(0.04587183862909089, 18.527172802047712)"
      ]
     },
     "execution_count": 21,
     "metadata": {},
     "output_type": "execute_result"
    }
   ],
   "source": [
    "pred_train_bst_clip.min(), pred_train_bst_clip.max()"
   ]
  },
  {
   "cell_type": "code",
   "execution_count": 22,
   "metadata": {},
   "outputs": [
    {
     "data": {
      "text/plain": [
       "(0.0495819526928173, 18.424902559161314)"
      ]
     },
     "execution_count": 22,
     "metadata": {},
     "output_type": "execute_result"
    }
   ],
   "source": [
    "pred_val_bst_clip.min(), pred_val_bst_clip.max()"
   ]
  },
  {
   "cell_type": "code",
   "execution_count": 23,
   "metadata": {},
   "outputs": [
    {
     "data": {
      "image/png": "[encoded data removed]",
      "text/plain": [
       "<Figure size 576x288 with 1 Axes>"
      ]
     },
     "metadata": {},
     "output_type": "display_data"
    },
    {
     "data": {
      "image/png": "[encoded data removed]",
      "text/plain": [
       "<Figure size 576x288 with 1 Axes>"
      ]
     },
     "metadata": {},
     "output_type": "display_data"
    },
    {
     "data": {
      "image/png": "[encoded data removed]",
      "text/plain": [
       "<Figure size 576x288 with 1 Axes>"
      ]
     },
     "metadata": {},
     "output_type": "display_data"
    },
    {
     "name": "stdout",
     "output_type": "stream",
     "text": [
      "confusion matrix of label vs predict zero sales:\n",
      "[[ 31471      0]\n",
      " [206701      0]]\n"
     ]
    }
   ],
   "source": [
    "udf.clipped_error_analysis(y_val_clip, pred_val_bst_clip);"
   ]
  },
  {
   "cell_type": "markdown",
   "metadata": {},
   "source": [
    "Observation: \n",
    "- our model consistently underpredicts the true sales\n",
    "- the prediction error is increasing in the true sales, i.e. we are really bad at predicting positive sales.\n",
    "- in fact, our model never predicts zero, whereas the true target is predominantly zero. Scores hover above 0.22. \n",
    "- the vast majority of predictions are between 0 and 1. Consider rounding and/or doing regression?\n",
    "\n",
    "It is hard to predict well for several reasons:\n",
    "- the true values are mostly zero. akin to unbalanced problem?\n",
    "- the true values are integers whereas the predictions, treating it as a regression problem, are real\n",
    "- it is hard to predict exactly zero. \n",
    "\n",
    "The high RMSE on the validation set is driven by:\n",
    "- wrong predictions of the ones with true value 20, which are most often predicted close to zero. This is due to the rmse property that high \n",
    "- rounding the predictions between 0 and 1 didn't help much in terms of mse becuase it decreased the residuals for true values of 0 but increased the ones for 1. could consider shifting the threshold "
   ]
  },
  {
   "cell_type": "markdown",
   "metadata": {},
   "source": [
    "# Predict on test set"
   ]
  },
  {
   "cell_type": "code",
   "execution_count": 8,
   "metadata": {},
   "outputs": [
    {
     "name": "stdout",
     "output_type": "stream",
     "text": [
      "Train data: date_block_num [12 13 14 15 16 17 18 19 20 21 22 23 24 25 26 27 28 29 30 31 32 33]\n",
      "Test data: date_block_num [34]\n",
      "Number of observations in train: 6425094\n",
      "Number of observations in test: 214200\n",
      "Number of attributes: 28\n"
     ]
    }
   ],
   "source": [
    "# make full training and testing data\n",
    "X_all, X_test, y_all, y_test = udf.train_test_split_by_month(all_sales, test_start=34)\n",
    "\n",
    "# for training on clipped target values\n",
    "y_all_clip, y_test_clip = y_all.clip(0, 20), y_test.clip(0, 20)"
   ]
  },
  {
   "cell_type": "code",
   "execution_count": 19,
   "metadata": {},
   "outputs": [],
   "source": [
    "model_select = lgb.Booster(model_file='lgbm_bst_model_clip.txt')  #init model\n",
    "pred_test = model_select.predict(all_test)"
   ]
  },
  {
   "cell_type": "code",
   "execution_count": 20,
   "metadata": {},
   "outputs": [
    {
     "name": "stdout",
     "output_type": "stream",
     "text": [
      "inverse label encoding item_id from file enc_item_id.pickle\n",
      "inverse label encoding shop_id from file enc_shop_id.pickle\n"
     ]
    },
    {
     "name": "stderr",
     "output_type": "stream",
     "text": [
      "/home/johanna/anaconda3/lib/python3.6/site-packages/sklearn/preprocessing/label.py:151: DeprecationWarning: The truth value of an empty array is ambiguous. Returning False, but in future this will result in an error. Use `array.size > 0` to check that an array is not empty.\n",
      "  if diff:\n",
      "/home/johanna/anaconda3/lib/python3.6/site-packages/sklearn/preprocessing/label.py:151: DeprecationWarning: The truth value of an empty array is ambiguous. Returning False, but in future this will result in an error. Use `array.size > 0` to check that an array is not empty.\n",
      "  if diff:\n"
     ]
    }
   ],
   "source": [
    "pred_submit = all_test[['item_id', 'shop_id']].copy().reset_index(drop=True)\n",
    "pred_submit['target'] = pred_test\n",
    "\n",
    "# inverse the item and shop ids\n",
    "pred_submit = udf.inverse_label_encode_categ_cols(pred_submit, ['item_id', 'shop_id'])"
   ]
  },
  {
   "cell_type": "code",
   "execution_count": 21,
   "metadata": {},
   "outputs": [],
   "source": [
    "test_data = udf.load_test_data()"
   ]
  },
  {
   "cell_type": "markdown",
   "metadata": {},
   "source": [
    "#### mismatch between shop-item pairs in test and submit?! "
   ]
  },
  {
   "cell_type": "code",
   "execution_count": 23,
   "metadata": {},
   "outputs": [
    {
     "name": "stdout",
     "output_type": "stream",
     "text": [
      "<class 'pandas.core.frame.DataFrame'>\n",
      "RangeIndex: 214200 entries, 0 to 214199\n",
      "Data columns (total 3 columns):\n",
      "item_id    214200 non-null int64\n",
      "shop_id    214200 non-null int64\n",
      "target     214200 non-null float64\n",
      "dtypes: float64(1), int64(2)\n",
      "memory usage: 4.9 MB\n"
     ]
    }
   ],
   "source": [
    "pred_submit.info()"
   ]
  },
  {
   "cell_type": "code",
   "execution_count": 24,
   "metadata": {},
   "outputs": [
    {
     "name": "stdout",
     "output_type": "stream",
     "text": [
      "<class 'pandas.core.frame.DataFrame'>\n",
      "RangeIndex: 214200 entries, 0 to 214199\n",
      "Data columns (total 3 columns):\n",
      "ID         214200 non-null int64\n",
      "shop_id    214200 non-null int64\n",
      "item_id    214200 non-null int64\n",
      "dtypes: int64(3)\n",
      "memory usage: 4.9 MB\n"
     ]
    }
   ],
   "source": [
    "test_data.info()"
   ]
  },
  {
   "cell_type": "code",
   "execution_count": 25,
   "metadata": {},
   "outputs": [
    {
     "data": {
      "text/plain": [
       "(5100, 42)"
      ]
     },
     "execution_count": 25,
     "metadata": {},
     "output_type": "execute_result"
    }
   ],
   "source": [
    "pred_submit['item_id'].nunique(), pred_submit['shop_id'].nunique()"
   ]
  },
  {
   "cell_type": "code",
   "execution_count": 26,
   "metadata": {},
   "outputs": [
    {
     "data": {
      "text/plain": [
       "(5100, 42)"
      ]
     },
     "execution_count": 26,
     "metadata": {},
     "output_type": "execute_result"
    }
   ],
   "source": [
    "test_data['item_id'].nunique(), test_data['shop_id'].nunique()"
   ]
  },
  {
   "cell_type": "code",
   "execution_count": 27,
   "metadata": {},
   "outputs": [],
   "source": [
    "submit_shops = set(pred_submit['shop_id'])"
   ]
  },
  {
   "cell_type": "code",
   "execution_count": 28,
   "metadata": {},
   "outputs": [],
   "source": [
    "test_shops = set(test_data['shop_id'])"
   ]
  },
  {
   "cell_type": "code",
   "execution_count": 29,
   "metadata": {},
   "outputs": [
    {
     "data": {
      "text/plain": [
       "set()"
      ]
     },
     "execution_count": 29,
     "metadata": {},
     "output_type": "execute_result"
    }
   ],
   "source": [
    "submit_shops-test_shops"
   ]
  },
  {
   "cell_type": "code",
   "execution_count": 30,
   "metadata": {},
   "outputs": [
    {
     "data": {
      "text/plain": [
       "set()"
      ]
     },
     "execution_count": 30,
     "metadata": {},
     "output_type": "execute_result"
    }
   ],
   "source": [
    "test_shops - submit_shops"
   ]
  },
  {
   "cell_type": "markdown",
   "metadata": {},
   "source": [
    "### Create submission file "
   ]
  },
  {
   "cell_type": "code",
   "execution_count": 31,
   "metadata": {},
   "outputs": [],
   "source": [
    "# create submission file with IDs from test data\n",
    "submit = (pd.merge(test_data, pred_submit, how='left', on=['shop_id', 'item_id'])\n",
    "              .rename(columns={'target': 'item_cnt_month'})\n",
    "                  .drop(columns=['shop_id', 'item_id'])\n",
    "          )"
   ]
  },
  {
   "cell_type": "code",
   "execution_count": 32,
   "metadata": {},
   "outputs": [
    {
     "data": {
      "text/plain": [
       "(214200, 2)"
      ]
     },
     "execution_count": 32,
     "metadata": {},
     "output_type": "execute_result"
    }
   ],
   "source": [
    "submit.shape"
   ]
  },
  {
   "cell_type": "code",
   "execution_count": 34,
   "metadata": {},
   "outputs": [
    {
     "data": {
      "text/plain": [
       "ID                0\n",
       "item_cnt_month    0\n",
       "dtype: int64"
      ]
     },
     "execution_count": 34,
     "metadata": {},
     "output_type": "execute_result"
    }
   ],
   "source": [
    "submit.isnull().sum()"
   ]
  },
  {
   "cell_type": "code",
   "execution_count": 35,
   "metadata": {},
   "outputs": [],
   "source": [
    "submit.to_csv('submission_lgbm_lags_and_id_features.csv', index=False)\n",
    "# yields public leaderboard score of "
   ]
  }
 ],
 "metadata": {
  "kernelspec": {
   "display_name": "Python 3",
   "language": "python",
   "name": "python3"
  },
  "language_info": {
   "codemirror_mode": {
    "name": "ipython",
    "version": 3
   },
   "file_extension": ".py",
   "mimetype": "text/x-python",
   "name": "python",
   "nbconvert_exporter": "python",
   "pygments_lexer": "ipython3",
   "version": "3.6.5"
  }
 },
 "nbformat": 4,
 "nbformat_minor": 2
}
