{
 "cells": [
  {
   "cell_type": "code",
   "execution_count": 1,
   "metadata": {},
   "outputs": [],
   "source": [
    "import numpy as np\n",
    "import pandas as pd\n",
    "import matplotlib.pyplot as plt\n",
    "%matplotlib inline\n",
    "\n",
    "import seaborn as sns\n",
    "import lightgbm as lgb\n",
    "\n",
    "import coursera_competition_udfs as udf\n",
    "import gc\n",
    "from scipy.stats import percentileofscore\n",
    "from sklearn.preprocessing import StandardScaler, LabelEncoder, OneHotEncoder\n",
    "from sklearn.linear_model import LinearRegression, Lasso\n",
    "from sklearn.metrics import r2_score, mean_squared_error\n",
    "from sklearn.ensemble import RandomForestRegressor"
   ]
  },
  {
   "cell_type": "markdown",
   "metadata": {},
   "source": [
    "# Build monthly sales grid with lags"
   ]
  },
  {
   "cell_type": "markdown",
   "metadata": {},
   "source": [
    "- First, we aggregate sales data by month, where for each month we create a grid of all the shops and items that have sales in that month. (Note that all other combinations would yield rows or columns of zeroes, but this introduces survivor bias). We then stack monthly time series data for all such shop-item pairs.\n",
    "- Then we created lagged sales of the 3 types of sales data: previous monthly sales of the shop_item pair, and previous monthly sales of the shop, and item, for different lag periods\n",
    "- Finally we merge lagged sales data with other information, such as seasonality features"
   ]
  },
  {
   "cell_type": "code",
   "execution_count": null,
   "metadata": {},
   "outputs": [],
   "source": [
    "# lag_months = [1, 2, 3, 6, 12]\n",
    "# all_sales = udf.create_all_monthly_sales_grid_with_lags(lags=lag_months)\n",
    "# all_sales = udf.add_seasonality_features(all_sales)\n",
    "# all_sales = udf.add_sales_features(all_sales)\n",
    "# all_sales.to_pickle(\"./all_sales_lags_1_2_3_6_12_seasonality.pkl\")"
   ]
  },
  {
   "cell_type": "code",
   "execution_count": 2,
   "metadata": {},
   "outputs": [],
   "source": [
    "all_sales = pd.read_pickle(\"./all_sales_lags_1_2_3_6_12_seasonality.pkl\")"
   ]
  },
  {
   "cell_type": "code",
   "execution_count": 3,
   "metadata": {},
   "outputs": [
    {
     "name": "stdout",
     "output_type": "stream",
     "text": [
      "<class 'pandas.core.frame.DataFrame'>\n",
      "Int64Index: 6639294 entries, 4488756 to 11128049\n",
      "Data columns (total 26 columns):\n",
      "date_block_num             int64\n",
      "item_id                    category\n",
      "shop_id                    category\n",
      "target                     float64\n",
      "target_lag_1               int64\n",
      "target_item_lag_1          int64\n",
      "target_shop_lag_1          int64\n",
      "target_lag_2               int64\n",
      "target_item_lag_2          int64\n",
      "target_shop_lag_2          int64\n",
      "target_lag_3               int64\n",
      "target_item_lag_3          int64\n",
      "target_shop_lag_3          int64\n",
      "target_lag_6               int64\n",
      "target_item_lag_6          int64\n",
      "target_shop_lag_6          int64\n",
      "target_lag_12              int64\n",
      "target_item_lag_12         int64\n",
      "target_shop_lag_12         int64\n",
      "december                   bool\n",
      "Q1                         bool\n",
      "Q4                         bool\n",
      "target_shop_zero           bool\n",
      "target_item_zero           bool\n",
      "target_shop_recent_zero    bool\n",
      "target_item_recent_zero    bool\n",
      "dtypes: bool(7), category(2), float64(1), int64(16)\n",
      "memory usage: 975.2 MB\n"
     ]
    }
   ],
   "source": [
    "all_sales.info()"
   ]
  },
  {
   "cell_type": "code",
   "execution_count": 5,
   "metadata": {},
   "outputs": [
    {
     "data": {
      "text/plain": [
       "target    214200\n",
       "dtype: int64"
      ]
     },
     "execution_count": 5,
     "metadata": {},
     "output_type": "execute_result"
    }
   ],
   "source": [
    "nul_cols = all_sales.isnull().sum()\n",
    "nul_cols[nul_cols>0]"
   ]
  },
  {
   "cell_type": "markdown",
   "metadata": {},
   "source": [
    "# Prepare data for model training"
   ]
  },
  {
   "cell_type": "markdown",
   "metadata": {},
   "source": [
    "## Feature preprocessing for non-tree models\n",
    "Note that we are processing all labelled data together, rather than separating out a valuation set first. This kind of leakage is ok for now since we will be doing the same for the real test data."
   ]
  },
  {
   "cell_type": "code",
   "execution_count": 6,
   "metadata": {},
   "outputs": [],
   "source": [
    "# references to lagged sales columns\n",
    "lag_cols = [col for col in all_sales.columns if '_lag_' in col]\n",
    "target_lags = [col for col in all_sales.columns if 'target_lag' in col]\n",
    "item_lags = [col for col in all_sales.columns if 'target_item_lag' in col]\n",
    "shop_lags = [col for col in all_sales.columns if 'target_shop_lag' in col]"
   ]
  },
  {
   "cell_type": "markdown",
   "metadata": {},
   "source": [
    "### Numerical features"
   ]
  },
  {
   "cell_type": "code",
   "execution_count": 9,
   "metadata": {},
   "outputs": [],
   "source": [
    "sales_num = all_sales.select_dtypes(include=['number', 'bool']).copy()"
   ]
  },
  {
   "cell_type": "code",
   "execution_count": 10,
   "metadata": {},
   "outputs": [
    {
     "name": "stdout",
     "output_type": "stream",
     "text": [
      "Train data: date_block_num [12 13 14 15 16 17 18 19 20 21 22 23 24 25 26 27 28 29 30 31 32]\n",
      "Test data: date_block_num [33]\n",
      "target values in test data are clipped to [0, 20]\n",
      "Number of observations in train: 6186922\n",
      "Number of observations in test: 238172\n",
      "Number of attributes: 23\n"
     ]
    },
    {
     "name": "stderr",
     "output_type": "stream",
     "text": [
      "/home/johanna/Dropbox/Code/Coursera_Kaggle_Project/coursera_competition_udfs.py:325: SettingWithCopyWarning: \n",
      "A value is trying to be set on a copy of a slice from a DataFrame.\n",
      "Try using .loc[row_indexer,col_indexer] = value instead\n",
      "\n",
      "See the caveats in the documentation: http://pandas.pydata.org/pandas-docs/stable/indexing.html#indexing-view-versus-copy\n",
      "  df_test[label] = df_test[label].clip(0, 20)\n"
     ]
    }
   ],
   "source": [
    "# training and validation data, with all possible features\n",
    "X_train_num, X_val_num, y_train, y_val = udf.train_test_split_by_month(sales_num)"
   ]
  },
  {
   "cell_type": "code",
   "execution_count": 10,
   "metadata": {},
   "outputs": [
    {
     "name": "stdout",
     "output_type": "stream",
     "text": [
      "average target in training set: 0.32559195024601895\n",
      "average target in validation set: 0.25856523856708596\n",
      "Variation of train data (RMSE of best constant on train): 3.5316623345135882\n",
      "Variation of val data (RMSE of best constant on val): 1.136154784234743\n"
     ]
    }
   ],
   "source": [
    "# compare target distributions in train and validation data\n",
    "print('average target in training set:', y_train.mean())\n",
    "print('average target in validation set:', y_val.mean())\n",
    "\n",
    "# variation in target variable in train vs val data\n",
    "best_const_train = [y_train.mean()] * len(y_train)\n",
    "best_const_val = [y_val.mean()] * len(y_val)\n",
    "\n",
    "print('Variation of train data (RMSE of best constant on train):',\n",
    "      np.sqrt(mean_squared_error(y_train, best_const_train)))\n",
    "\n",
    "print('Variation of val data (RMSE of best constant on val):',\n",
    "      np.sqrt(mean_squared_error(y_val, best_const_val)))"
   ]
  },
  {
   "cell_type": "markdown",
   "metadata": {},
   "source": [
    "#### Nonlinear transformations"
   ]
  },
  {
   "cell_type": "code",
   "execution_count": 14,
   "metadata": {},
   "outputs": [],
   "source": [
    "# nonlinear transformation of lagged sales\n",
    "sales_trans = sales_num.copy()\n",
    "for col in lag_cols:\n",
    "    sales_trans[col], _ = udf.log_transform(sales_trans[col])"
   ]
  },
  {
   "cell_type": "markdown",
   "metadata": {},
   "source": [
    "Remarks:\n",
    "- logging the past sales data makes the target lags slighly less skewed, but not by much\n",
    "- it helps more with target-item lags\n",
    "- it's informative for shop lags. in particular, we see a lot of zeroes after this transformation, corresponding to the shop selling at the minimum, which is zero."
   ]
  },
  {
   "cell_type": "code",
   "execution_count": 15,
   "metadata": {},
   "outputs": [
    {
     "data": {
      "image/png": "[encoded data removed]",
      "text/plain": [
       "<Figure size 720x720 with 6 Axes>"
      ]
     },
     "metadata": {},
     "output_type": "display_data"
    }
   ],
   "source": [
    "# Distribution of target shop lag after log transformation\n",
    "sales_trans[shop_lags].hist(figsize=(10,10), bins=30);"
   ]
  },
  {
   "cell_type": "code",
   "execution_count": 16,
   "metadata": {},
   "outputs": [
    {
     "name": "stdout",
     "output_type": "stream",
     "text": [
      "Train data: date_block_num [12 13 14 15 16 17 18 19 20 21 22 23 24 25 26 27 28 29 30 31 32]\n",
      "Test data: date_block_num [33]\n",
      "target values in test data are clipped to [0, 20]\n"
     ]
    },
    {
     "name": "stderr",
     "output_type": "stream",
     "text": [
      "/home/johanna/Dropbox/Code/Coursera_Kaggle_Project/coursera_competition_udfs.py:325: SettingWithCopyWarning: \n",
      "A value is trying to be set on a copy of a slice from a DataFrame.\n",
      "Try using .loc[row_indexer,col_indexer] = value instead\n",
      "\n",
      "See the caveats in the documentation: http://pandas.pydata.org/pandas-docs/stable/indexing.html#indexing-view-versus-copy\n",
      "  df_test[label] = df_test[label].clip(0, 20)\n"
     ]
    },
    {
     "name": "stdout",
     "output_type": "stream",
     "text": [
      "Number of observations in train: 6186922\n",
      "Number of observations in test: 238172\n",
      "Number of attributes: 20\n"
     ]
    }
   ],
   "source": [
    "# training and validation data, with all possible features\n",
    "X_train_trans, X_val_trans, y_train, y_val = udf.train_test_split_by_month(sales_trans)"
   ]
  },
  {
   "cell_type": "code",
   "execution_count": 17,
   "metadata": {},
   "outputs": [],
   "source": [
    "y_train_trans, y_train_min = udf.log_transform(y_train)"
   ]
  },
  {
   "cell_type": "markdown",
   "metadata": {},
   "source": [
    "#### Winsorizing sales data"
   ]
  },
  {
   "cell_type": "code",
   "execution_count": 22,
   "metadata": {},
   "outputs": [],
   "source": [
    "sales_wins = sales_num.copy()"
   ]
  },
  {
   "cell_type": "code",
   "execution_count": 40,
   "metadata": {},
   "outputs": [
    {
     "data": {
      "text/plain": [
       "(6639294, 23)"
      ]
     },
     "execution_count": 40,
     "metadata": {},
     "output_type": "execute_result"
    }
   ],
   "source": [
    "sales_wins.shape"
   ]
  },
  {
   "cell_type": "code",
   "execution_count": 50,
   "metadata": {},
   "outputs": [
    {
     "data": {
      "text/plain": [
       "target_lag_1     25\n",
       "target_lag_2     25\n",
       "target_lag_3     25\n",
       "target_lag_6     25\n",
       "target_lag_12    25\n",
       "dtype: int64"
      ]
     },
     "execution_count": 50,
     "metadata": {},
     "output_type": "execute_result"
    }
   ],
   "source": [
    "sales_wins[target_lags].max()"
   ]
  },
  {
   "cell_type": "code",
   "execution_count": 41,
   "metadata": {},
   "outputs": [
    {
     "data": {
      "text/plain": [
       "target_lag_1     21.0\n",
       "target_lag_2     21.0\n",
       "target_lag_3     22.0\n",
       "target_lag_6     22.0\n",
       "target_lag_12    21.0\n",
       "Name: 0.999, dtype: float64"
      ]
     },
     "execution_count": 41,
     "metadata": {},
     "output_type": "execute_result"
    }
   ],
   "source": [
    "sales_wins[target_lags].quantile(0.999)"
   ]
  },
  {
   "cell_type": "code",
   "execution_count": 49,
   "metadata": {},
   "outputs": [
    {
     "data": {
      "text/plain": [
       "target_shop_lag_1     16318\n",
       "target_shop_lag_2     16318\n",
       "target_shop_lag_3     16318\n",
       "target_shop_lag_6     16318\n",
       "target_shop_lag_12    16318\n",
       "dtype: int64"
      ]
     },
     "execution_count": 49,
     "metadata": {},
     "output_type": "execute_result"
    }
   ],
   "source": [
    "sales_wins[shop_lags].max()"
   ]
  },
  {
   "cell_type": "code",
   "execution_count": 46,
   "metadata": {},
   "outputs": [
    {
     "data": {
      "text/plain": [
       "target_shop_lag_1     14610.0\n",
       "target_shop_lag_2     14610.0\n",
       "target_shop_lag_3     14610.0\n",
       "target_shop_lag_6     14610.0\n",
       "target_shop_lag_12    12670.0\n",
       "Name: 0.999, dtype: float64"
      ]
     },
     "execution_count": 46,
     "metadata": {},
     "output_type": "execute_result"
    }
   ],
   "source": [
    "sales_wins[shop_lags].quantile(0.999)"
   ]
  },
  {
   "cell_type": "code",
   "execution_count": 38,
   "metadata": {},
   "outputs": [
    {
     "data": {
      "text/plain": [
       "target_item_lag_1     12557\n",
       "target_item_lag_2     12557\n",
       "target_item_lag_3     12557\n",
       "target_item_lag_6     12557\n",
       "target_item_lag_12    12557\n",
       "dtype: int64"
      ]
     },
     "execution_count": 38,
     "metadata": {},
     "output_type": "execute_result"
    }
   ],
   "source": [
    "sales_wins[item_lags].max()"
   ]
  },
  {
   "cell_type": "code",
   "execution_count": 43,
   "metadata": {},
   "outputs": [
    {
     "data": {
      "text/plain": [
       "target_item_lag_1     714.0\n",
       "target_item_lag_2     728.0\n",
       "target_item_lag_3     748.0\n",
       "target_item_lag_6     771.0\n",
       "target_item_lag_12    718.0\n",
       "Name: 0.999, dtype: float64"
      ]
     },
     "execution_count": 43,
     "metadata": {},
     "output_type": "execute_result"
    }
   ],
   "source": [
    "sales_wins[item_lags].quantile(0.999)"
   ]
  },
  {
   "cell_type": "code",
   "execution_count": 48,
   "metadata": {},
   "outputs": [],
   "source": [
    "sales_wins[target_lags] = sales_wins[target_lags].clip(upper=25)"
   ]
  },
  {
   "cell_type": "code",
   "execution_count": 51,
   "metadata": {},
   "outputs": [
    {
     "name": "stdout",
     "output_type": "stream",
     "text": [
      "Train data: date_block_num [12 13 14 15 16 17 18 19 20 21 22 23 24 25 26 27 28 29 30 31 32]\n",
      "Test data: date_block_num [33]\n",
      "target values in test data are clipped to [0, 20]\n",
      "Number of observations in train: 6186922\n",
      "Number of observations in test: 238172\n",
      "Number of attributes: 20\n"
     ]
    },
    {
     "name": "stderr",
     "output_type": "stream",
     "text": [
      "/home/johanna/Dropbox/Code/Coursera_Kaggle_Project/coursera_competition_udfs.py:325: SettingWithCopyWarning: \n",
      "A value is trying to be set on a copy of a slice from a DataFrame.\n",
      "Try using .loc[row_indexer,col_indexer] = value instead\n",
      "\n",
      "See the caveats in the documentation: http://pandas.pydata.org/pandas-docs/stable/indexing.html#indexing-view-versus-copy\n",
      "  df_test[label] = df_test[label].clip(0, 20)\n"
     ]
    }
   ],
   "source": [
    "# training and validation data, with all possible features\n",
    "X_train_wins, X_val_wins, y_train, y_val = udf.train_test_split_by_month(sales_wins)"
   ]
  },
  {
   "cell_type": "markdown",
   "metadata": {},
   "source": [
    "### Feature scaling"
   ]
  },
  {
   "cell_type": "code",
   "execution_count": 54,
   "metadata": {},
   "outputs": [],
   "source": [
    "sales_std = sales_num.copy()\n",
    "\n",
    "scaler = StandardScaler()\n",
    "sales_std[lag_cols] = scaler.fit_transform(sales_std[lag_cols])"
   ]
  },
  {
   "cell_type": "code",
   "execution_count": 66,
   "metadata": {},
   "outputs": [
    {
     "name": "stdout",
     "output_type": "stream",
     "text": [
      "Train data: date_block_num [12 13 14 15 16 17 18 19 20 21 22 23 24 25 26 27 28 29 30 31 32]\n",
      "Test data: date_block_num [33]\n",
      "target values in test data are clipped to [0, 20]\n"
     ]
    },
    {
     "name": "stderr",
     "output_type": "stream",
     "text": [
      "/home/johanna/Dropbox/Code/Coursera_Kaggle_Project/coursera_competition_udfs.py:325: SettingWithCopyWarning: \n",
      "A value is trying to be set on a copy of a slice from a DataFrame.\n",
      "Try using .loc[row_indexer,col_indexer] = value instead\n",
      "\n",
      "See the caveats in the documentation: http://pandas.pydata.org/pandas-docs/stable/indexing.html#indexing-view-versus-copy\n",
      "  df_test[label] = df_test[label].clip(0, 20)\n"
     ]
    },
    {
     "name": "stdout",
     "output_type": "stream",
     "text": [
      "Number of observations in train: 6186922\n",
      "Number of observations in test: 238172\n",
      "Number of attributes: 20\n"
     ]
    }
   ],
   "source": [
    "# training and validation data, with all possible features\n",
    "X_train_std, X_val_std, y_train, y_val = udf.train_test_split_by_month(sales_std)"
   ]
  },
  {
   "cell_type": "code",
   "execution_count": null,
   "metadata": {},
   "outputs": [],
   "source": []
  },
  {
   "cell_type": "markdown",
   "metadata": {},
   "source": [
    "## Adding shop fixed effects"
   ]
  },
  {
   "cell_type": "code",
   "execution_count": 53,
   "metadata": {},
   "outputs": [
    {
     "data": {
      "text/plain": [
       "[54, 55, 51, 52, 53, ..., 33, 9, 20, 11, 36]\n",
       "Length: 55\n",
       "Categories (55, int64): [54, 55, 51, 52, ..., 9, 20, 11, 36]"
      ]
     },
     "execution_count": 53,
     "metadata": {},
     "output_type": "execute_result"
    }
   ],
   "source": [
    "all_sales['shop_id'].unique()"
   ]
  },
  {
   "cell_type": "code",
   "execution_count": 54,
   "metadata": {},
   "outputs": [],
   "source": [
    "shop_id_dummies = pd.get_dummies(all_sales['shop_id'], prefix='shop_id', drop_first=True)"
   ]
  },
  {
   "cell_type": "code",
   "execution_count": 60,
   "metadata": {},
   "outputs": [
    {
     "data": {
      "text/plain": [
       "(6639294, 54)"
      ]
     },
     "execution_count": 60,
     "metadata": {},
     "output_type": "execute_result"
    }
   ],
   "source": [
    "shop_id_dummies.shape"
   ]
  },
  {
   "cell_type": "code",
   "execution_count": 59,
   "metadata": {},
   "outputs": [
    {
     "data": {
      "text/html": [
       "<div>\n",
       "<style scoped>\n",
       "    .dataframe tbody tr th:only-of-type {\n",
       "        vertical-align: middle;\n",
       "    }\n",
       "\n",
       "    .dataframe tbody tr th {\n",
       "        vertical-align: top;\n",
       "    }\n",
       "\n",
       "    .dataframe thead th {\n",
       "        text-align: right;\n",
       "    }\n",
       "</style>\n",
       "<table border=\"1\" class=\"dataframe\">\n",
       "  <thead>\n",
       "    <tr style=\"text-align: right;\">\n",
       "      <th></th>\n",
       "      <th>date_block_num</th>\n",
       "      <th>item_id</th>\n",
       "      <th>shop_id</th>\n",
       "      <th>target</th>\n",
       "      <th>target_item</th>\n",
       "      <th>target_shop</th>\n",
       "      <th>target_lag_1</th>\n",
       "      <th>target_item_lag_1</th>\n",
       "      <th>target_shop_lag_1</th>\n",
       "      <th>target_lag_2</th>\n",
       "      <th>...</th>\n",
       "      <th>target_shop_lag_12</th>\n",
       "      <th>december</th>\n",
       "      <th>Q1</th>\n",
       "      <th>Q4</th>\n",
       "      <th>target_shop_zero</th>\n",
       "      <th>target_item_zero</th>\n",
       "      <th>target_shop_recent_zero</th>\n",
       "      <th>target_item_recent_zero</th>\n",
       "      <th>target_growth_1m</th>\n",
       "      <th>shop_id_labels</th>\n",
       "    </tr>\n",
       "  </thead>\n",
       "  <tbody>\n",
       "    <tr>\n",
       "      <th>4488756</th>\n",
       "      <td>12</td>\n",
       "      <td>10297</td>\n",
       "      <td>54</td>\n",
       "      <td>4.0</td>\n",
       "      <td>23.0</td>\n",
       "      <td>8198.0</td>\n",
       "      <td>3</td>\n",
       "      <td>42</td>\n",
       "      <td>10055</td>\n",
       "      <td>0</td>\n",
       "      <td>...</td>\n",
       "      <td>0</td>\n",
       "      <td>False</td>\n",
       "      <td>True</td>\n",
       "      <td>False</td>\n",
       "      <td>False</td>\n",
       "      <td>False</td>\n",
       "      <td>False</td>\n",
       "      <td>False</td>\n",
       "      <td>inf</td>\n",
       "      <td>49</td>\n",
       "    </tr>\n",
       "    <tr>\n",
       "      <th>4488757</th>\n",
       "      <td>12</td>\n",
       "      <td>10296</td>\n",
       "      <td>54</td>\n",
       "      <td>3.0</td>\n",
       "      <td>17.0</td>\n",
       "      <td>8198.0</td>\n",
       "      <td>0</td>\n",
       "      <td>24</td>\n",
       "      <td>10055</td>\n",
       "      <td>0</td>\n",
       "      <td>...</td>\n",
       "      <td>0</td>\n",
       "      <td>False</td>\n",
       "      <td>True</td>\n",
       "      <td>False</td>\n",
       "      <td>False</td>\n",
       "      <td>False</td>\n",
       "      <td>False</td>\n",
       "      <td>False</td>\n",
       "      <td>NaN</td>\n",
       "      <td>49</td>\n",
       "    </tr>\n",
       "    <tr>\n",
       "      <th>4488758</th>\n",
       "      <td>12</td>\n",
       "      <td>10298</td>\n",
       "      <td>54</td>\n",
       "      <td>14.0</td>\n",
       "      <td>182.0</td>\n",
       "      <td>8198.0</td>\n",
       "      <td>21</td>\n",
       "      <td>369</td>\n",
       "      <td>10055</td>\n",
       "      <td>119</td>\n",
       "      <td>...</td>\n",
       "      <td>0</td>\n",
       "      <td>False</td>\n",
       "      <td>True</td>\n",
       "      <td>False</td>\n",
       "      <td>False</td>\n",
       "      <td>False</td>\n",
       "      <td>False</td>\n",
       "      <td>False</td>\n",
       "      <td>-0.823529</td>\n",
       "      <td>49</td>\n",
       "    </tr>\n",
       "    <tr>\n",
       "      <th>4488759</th>\n",
       "      <td>12</td>\n",
       "      <td>10300</td>\n",
       "      <td>54</td>\n",
       "      <td>3.0</td>\n",
       "      <td>26.0</td>\n",
       "      <td>8198.0</td>\n",
       "      <td>1</td>\n",
       "      <td>54</td>\n",
       "      <td>10055</td>\n",
       "      <td>31</td>\n",
       "      <td>...</td>\n",
       "      <td>0</td>\n",
       "      <td>False</td>\n",
       "      <td>True</td>\n",
       "      <td>False</td>\n",
       "      <td>False</td>\n",
       "      <td>False</td>\n",
       "      <td>False</td>\n",
       "      <td>False</td>\n",
       "      <td>-0.967742</td>\n",
       "      <td>49</td>\n",
       "    </tr>\n",
       "    <tr>\n",
       "      <th>4488760</th>\n",
       "      <td>12</td>\n",
       "      <td>10284</td>\n",
       "      <td>54</td>\n",
       "      <td>1.0</td>\n",
       "      <td>3.0</td>\n",
       "      <td>8198.0</td>\n",
       "      <td>0</td>\n",
       "      <td>4</td>\n",
       "      <td>10055</td>\n",
       "      <td>0</td>\n",
       "      <td>...</td>\n",
       "      <td>0</td>\n",
       "      <td>False</td>\n",
       "      <td>True</td>\n",
       "      <td>False</td>\n",
       "      <td>False</td>\n",
       "      <td>False</td>\n",
       "      <td>False</td>\n",
       "      <td>False</td>\n",
       "      <td>NaN</td>\n",
       "      <td>49</td>\n",
       "    </tr>\n",
       "  </tbody>\n",
       "</table>\n",
       "<p>5 rows × 30 columns</p>\n",
       "</div>"
      ],
      "text/plain": [
       "         date_block_num item_id shop_id  target  target_item  target_shop  \\\n",
       "4488756              12   10297      54     4.0         23.0       8198.0   \n",
       "4488757              12   10296      54     3.0         17.0       8198.0   \n",
       "4488758              12   10298      54    14.0        182.0       8198.0   \n",
       "4488759              12   10300      54     3.0         26.0       8198.0   \n",
       "4488760              12   10284      54     1.0          3.0       8198.0   \n",
       "\n",
       "         target_lag_1  target_item_lag_1  target_shop_lag_1  target_lag_2  \\\n",
       "4488756             3                 42              10055             0   \n",
       "4488757             0                 24              10055             0   \n",
       "4488758            21                369              10055           119   \n",
       "4488759             1                 54              10055            31   \n",
       "4488760             0                  4              10055             0   \n",
       "\n",
       "              ...        target_shop_lag_12  december    Q1     Q4  \\\n",
       "4488756       ...                         0     False  True  False   \n",
       "4488757       ...                         0     False  True  False   \n",
       "4488758       ...                         0     False  True  False   \n",
       "4488759       ...                         0     False  True  False   \n",
       "4488760       ...                         0     False  True  False   \n",
       "\n",
       "         target_shop_zero  target_item_zero  target_shop_recent_zero  \\\n",
       "4488756             False             False                    False   \n",
       "4488757             False             False                    False   \n",
       "4488758             False             False                    False   \n",
       "4488759             False             False                    False   \n",
       "4488760             False             False                    False   \n",
       "\n",
       "         target_item_recent_zero  target_growth_1m  shop_id_labels  \n",
       "4488756                    False               inf              49  \n",
       "4488757                    False               NaN              49  \n",
       "4488758                    False         -0.823529              49  \n",
       "4488759                    False         -0.967742              49  \n",
       "4488760                    False               NaN              49  \n",
       "\n",
       "[5 rows x 30 columns]"
      ]
     },
     "execution_count": 59,
     "metadata": {},
     "output_type": "execute_result"
    }
   ],
   "source": [
    "all_sales.head()"
   ]
  },
  {
   "cell_type": "code",
   "execution_count": 56,
   "metadata": {},
   "outputs": [
    {
     "data": {
      "text/plain": [
       "(6639294, 30)"
      ]
     },
     "execution_count": 56,
     "metadata": {},
     "output_type": "execute_result"
    }
   ],
   "source": [
    "all_sales.shape"
   ]
  },
  {
   "cell_type": "code",
   "execution_count": 61,
   "metadata": {},
   "outputs": [],
   "source": [
    "sales_oh = pd.concat([all_sales.drop(columns=['shop_id']), shop_id_dummies], axis=1)"
   ]
  },
  {
   "cell_type": "code",
   "execution_count": 63,
   "metadata": {},
   "outputs": [],
   "source": [
    "del sales_oh['shop_id_labels']"
   ]
  },
  {
   "cell_type": "code",
   "execution_count": 64,
   "metadata": {},
   "outputs": [
    {
     "data": {
      "text/plain": [
       "date_block_num                int64\n",
       "item_id                    category\n",
       "target                      float64\n",
       "target_item                 float64\n",
       "target_shop                 float64\n",
       "target_lag_1                  int64\n",
       "target_item_lag_1             int64\n",
       "target_shop_lag_1             int64\n",
       "target_lag_2                  int64\n",
       "target_item_lag_2             int64\n",
       "target_shop_lag_2             int64\n",
       "target_lag_3                  int64\n",
       "target_item_lag_3             int64\n",
       "target_shop_lag_3             int64\n",
       "target_lag_6                  int64\n",
       "target_item_lag_6             int64\n",
       "target_shop_lag_6             int64\n",
       "target_lag_12                 int64\n",
       "target_item_lag_12            int64\n",
       "target_shop_lag_12            int64\n",
       "december                       bool\n",
       "Q1                             bool\n",
       "Q4                             bool\n",
       "target_shop_zero               bool\n",
       "target_item_zero               bool\n",
       "target_shop_recent_zero        bool\n",
       "target_item_recent_zero        bool\n",
       "target_growth_1m            float64\n",
       "shop_id_3                     uint8\n",
       "shop_id_4                     uint8\n",
       "                             ...   \n",
       "shop_id_29                    uint8\n",
       "shop_id_30                    uint8\n",
       "shop_id_31                    uint8\n",
       "shop_id_33                    uint8\n",
       "shop_id_34                    uint8\n",
       "shop_id_35                    uint8\n",
       "shop_id_36                    uint8\n",
       "shop_id_37                    uint8\n",
       "shop_id_38                    uint8\n",
       "shop_id_39                    uint8\n",
       "shop_id_40                    uint8\n",
       "shop_id_41                    uint8\n",
       "shop_id_42                    uint8\n",
       "shop_id_43                    uint8\n",
       "shop_id_44                    uint8\n",
       "shop_id_45                    uint8\n",
       "shop_id_46                    uint8\n",
       "shop_id_47                    uint8\n",
       "shop_id_48                    uint8\n",
       "shop_id_49                    uint8\n",
       "shop_id_50                    uint8\n",
       "shop_id_51                    uint8\n",
       "shop_id_52                    uint8\n",
       "shop_id_53                    uint8\n",
       "shop_id_54                    uint8\n",
       "shop_id_55                    uint8\n",
       "shop_id_56                    uint8\n",
       "shop_id_57                    uint8\n",
       "shop_id_58                    uint8\n",
       "shop_id_59                    uint8\n",
       "Length: 82, dtype: object"
      ]
     },
     "execution_count": 64,
     "metadata": {},
     "output_type": "execute_result"
    }
   ],
   "source": [
    "sales_oh.dtypes"
   ]
  },
  {
   "cell_type": "code",
   "execution_count": 71,
   "metadata": {},
   "outputs": [
    {
     "data": {
      "text/plain": [
       "(6639294, 81)"
      ]
     },
     "execution_count": 71,
     "metadata": {},
     "output_type": "execute_result"
    }
   ],
   "source": [
    "sales_oh.shape"
   ]
  },
  {
   "cell_type": "code",
   "execution_count": 72,
   "metadata": {},
   "outputs": [
    {
     "name": "stdout",
     "output_type": "stream",
     "text": [
      "Train data: date_block_num [12 13 14 15 16 17 18 19 20 21 22 23 24 25 26 27 28 29 30 31 32]\n",
      "Test data: date_block_num [33]\n",
      "target values in test data are clipped to [0, 20]\n"
     ]
    },
    {
     "name": "stderr",
     "output_type": "stream",
     "text": [
      "/home/johanna/Dropbox/Code/Coursera_Kaggle_Project/coursera_competition_udfs.py:325: SettingWithCopyWarning: \n",
      "A value is trying to be set on a copy of a slice from a DataFrame.\n",
      "Try using .loc[row_indexer,col_indexer] = value instead\n",
      "\n",
      "See the caveats in the documentation: http://pandas.pydata.org/pandas-docs/stable/indexing.html#indexing-view-versus-copy\n",
      "  df_test[label] = df_test[label].clip(0, 20)\n"
     ]
    },
    {
     "name": "stdout",
     "output_type": "stream",
     "text": [
      "Number of observations in train: 6186922\n",
      "Number of observations in test: 238172\n",
      "Number of attributes: 78\n"
     ]
    }
   ],
   "source": [
    "# training and validation data, with all possible features\n",
    "X_train_oh, X_val_oh, y_train, y_val = udf.train_test_split_by_month(sales_oh)"
   ]
  },
  {
   "cell_type": "code",
   "execution_count": null,
   "metadata": {},
   "outputs": [],
   "source": []
  },
  {
   "cell_type": "markdown",
   "metadata": {},
   "source": [
    "## Feature preparation tree-based models "
   ]
  },
  {
   "cell_type": "code",
   "execution_count": 7,
   "metadata": {},
   "outputs": [],
   "source": [
    "all_sales_label_enc = all_sales.copy()"
   ]
  },
  {
   "cell_type": "code",
   "execution_count": 8,
   "metadata": {},
   "outputs": [],
   "source": [
    "lab_enc = LabelEncoder()\n",
    "all_sales_label_enc['shop_id'] = lab_enc.fit_transform(all_sales_label_enc['shop_id'])\n",
    "all_sales_label_enc['item_id'] = lab_enc.fit_transform(all_sales_label_enc['item_id'])"
   ]
  },
  {
   "cell_type": "code",
   "execution_count": 9,
   "metadata": {},
   "outputs": [
    {
     "name": "stdout",
     "output_type": "stream",
     "text": [
      "Train data: date_block_num [12 13 14 15 16 17 18 19 20 21 22 23 24 25 26 27 28 29 30 31 32]\n",
      "Test data: date_block_num [33]\n",
      "target values in test data are clipped to [0, 20]\n",
      "Number of observations in train: 6186922\n",
      "Number of observations in test: 238172\n",
      "Number of attributes: 25\n"
     ]
    },
    {
     "name": "stderr",
     "output_type": "stream",
     "text": [
      "/home/johanna/Dropbox/Code/Coursera_Kaggle_Project/coursera_competition_udfs.py:345: SettingWithCopyWarning: \n",
      "A value is trying to be set on a copy of a slice from a DataFrame.\n",
      "Try using .loc[row_indexer,col_indexer] = value instead\n",
      "\n",
      "See the caveats in the documentation: http://pandas.pydata.org/pandas-docs/stable/indexing.html#indexing-view-versus-copy\n",
      "  df_test[label] = df_test[label].clip(0, 20)\n"
     ]
    }
   ],
   "source": [
    "# training and validation data, with all possible features\n",
    "X_train_tree, X_val_tree, y_train, y_val = udf.train_test_split_by_month(all_sales_label_enc)"
   ]
  },
  {
   "cell_type": "code",
   "execution_count": 10,
   "metadata": {},
   "outputs": [
    {
     "data": {
      "text/plain": [
       "date_block_num             int64\n",
       "item_id                    int64\n",
       "shop_id                    int64\n",
       "target_lag_1               int64\n",
       "target_item_lag_1          int64\n",
       "target_shop_lag_1          int64\n",
       "target_lag_2               int64\n",
       "target_item_lag_2          int64\n",
       "target_shop_lag_2          int64\n",
       "target_lag_3               int64\n",
       "target_item_lag_3          int64\n",
       "target_shop_lag_3          int64\n",
       "target_lag_6               int64\n",
       "target_item_lag_6          int64\n",
       "target_shop_lag_6          int64\n",
       "target_lag_12              int64\n",
       "target_item_lag_12         int64\n",
       "target_shop_lag_12         int64\n",
       "december                    bool\n",
       "Q1                          bool\n",
       "Q4                          bool\n",
       "target_shop_zero            bool\n",
       "target_item_zero            bool\n",
       "target_shop_recent_zero     bool\n",
       "target_item_recent_zero     bool\n",
       "dtype: object"
      ]
     },
     "execution_count": 10,
     "metadata": {},
     "output_type": "execute_result"
    }
   ],
   "source": [
    "X_train_tree.dtypes"
   ]
  },
  {
   "cell_type": "markdown",
   "metadata": {},
   "source": [
    "# Model selection"
   ]
  },
  {
   "cell_type": "markdown",
   "metadata": {},
   "source": [
    "## Linear regression"
   ]
  },
  {
   "cell_type": "markdown",
   "metadata": {},
   "source": [
    "Transforming numerical features did not help:\n",
    "- logging the past sales data does not substantially reduce the skewness of the target variable. It reduces the skew for target_item_lags, and the strongest effect is for target_shop_lags, which transformed distribution is almost bell-shaped.\n",
    "- however, long transforming sales data did not increase predictive performance\n",
    "- also winsorizing past sales did not increase predictive performance\n",
    "- also standardization and normalization did not see improvement\n",
    "\n",
    "Adding other features:\n",
    "- adding the boolean variable for shop zero and for item_zero increases performance slightly\n",
    "- lasso helps a bit\n",
    "- adding shop id dummies didn't help\n",
    "\n",
    "Post-processing:\n",
    "- the true labels are integer, but linear models produce real values.\n",
    "- while clipping them to range 0 to 20 helps\n",
    "- rounding them to integers does not. probably some form of rounding would be helpful though. Most of the predictions as well as true values are between 0 and 2"
   ]
  },
  {
   "cell_type": "markdown",
   "metadata": {},
   "source": [
    "### LR on unprocessed numerical features features only"
   ]
  },
  {
   "cell_type": "code",
   "execution_count": 10,
   "metadata": {},
   "outputs": [
    {
     "name": "stdout",
     "output_type": "stream",
     "text": [
      "LinearRegression\n",
      "       R-squared   RMSE\n",
      "train      0.471  2.569\n",
      "val        0.212  1.009\n"
     ]
    },
    {
     "data": {
      "text/plain": [
       "LinearRegression(copy_X=True, fit_intercept=True, n_jobs=1, normalize=False)"
      ]
     },
     "execution_count": 10,
     "metadata": {},
     "output_type": "execute_result"
    }
   ],
   "source": [
    "lr = LinearRegression()  \n",
    "udf.fit_eval_model(lr, X_train_num, X_val_num, y_train, y_val)"
   ]
  },
  {
   "cell_type": "code",
   "execution_count": 11,
   "metadata": {},
   "outputs": [
    {
     "data": {
      "text/html": [
       "<div>\n",
       "<style scoped>\n",
       "    .dataframe tbody tr th:only-of-type {\n",
       "        vertical-align: middle;\n",
       "    }\n",
       "\n",
       "    .dataframe tbody tr th {\n",
       "        vertical-align: top;\n",
       "    }\n",
       "\n",
       "    .dataframe thead th {\n",
       "        text-align: right;\n",
       "    }\n",
       "</style>\n",
       "<table border=\"1\" class=\"dataframe\">\n",
       "  <thead>\n",
       "    <tr style=\"text-align: right;\">\n",
       "      <th></th>\n",
       "      <th>features</th>\n",
       "      <th>coef</th>\n",
       "    </tr>\n",
       "  </thead>\n",
       "  <tbody>\n",
       "    <tr>\n",
       "      <th>0</th>\n",
       "      <td>date_block_num</td>\n",
       "      <td>-0.000249</td>\n",
       "    </tr>\n",
       "    <tr>\n",
       "      <th>1</th>\n",
       "      <td>target_lag_1</td>\n",
       "      <td>0.359939</td>\n",
       "    </tr>\n",
       "    <tr>\n",
       "      <th>2</th>\n",
       "      <td>target_item_lag_1</td>\n",
       "      <td>0.001772</td>\n",
       "    </tr>\n",
       "    <tr>\n",
       "      <th>3</th>\n",
       "      <td>target_shop_lag_1</td>\n",
       "      <td>0.000049</td>\n",
       "    </tr>\n",
       "    <tr>\n",
       "      <th>4</th>\n",
       "      <td>target_lag_2</td>\n",
       "      <td>0.086758</td>\n",
       "    </tr>\n",
       "    <tr>\n",
       "      <th>5</th>\n",
       "      <td>target_item_lag_2</td>\n",
       "      <td>-0.000549</td>\n",
       "    </tr>\n",
       "    <tr>\n",
       "      <th>6</th>\n",
       "      <td>target_shop_lag_2</td>\n",
       "      <td>-0.000016</td>\n",
       "    </tr>\n",
       "    <tr>\n",
       "      <th>7</th>\n",
       "      <td>target_lag_3</td>\n",
       "      <td>0.087794</td>\n",
       "    </tr>\n",
       "    <tr>\n",
       "      <th>8</th>\n",
       "      <td>target_item_lag_3</td>\n",
       "      <td>0.000599</td>\n",
       "    </tr>\n",
       "    <tr>\n",
       "      <th>9</th>\n",
       "      <td>target_shop_lag_3</td>\n",
       "      <td>-0.000010</td>\n",
       "    </tr>\n",
       "    <tr>\n",
       "      <th>10</th>\n",
       "      <td>target_lag_6</td>\n",
       "      <td>0.134203</td>\n",
       "    </tr>\n",
       "    <tr>\n",
       "      <th>11</th>\n",
       "      <td>target_item_lag_6</td>\n",
       "      <td>-0.000667</td>\n",
       "    </tr>\n",
       "    <tr>\n",
       "      <th>12</th>\n",
       "      <td>target_shop_lag_6</td>\n",
       "      <td>-0.000022</td>\n",
       "    </tr>\n",
       "    <tr>\n",
       "      <th>13</th>\n",
       "      <td>target_lag_12</td>\n",
       "      <td>0.168929</td>\n",
       "    </tr>\n",
       "    <tr>\n",
       "      <th>14</th>\n",
       "      <td>target_item_lag_12</td>\n",
       "      <td>-0.000503</td>\n",
       "    </tr>\n",
       "    <tr>\n",
       "      <th>15</th>\n",
       "      <td>target_shop_lag_12</td>\n",
       "      <td>-0.000018</td>\n",
       "    </tr>\n",
       "    <tr>\n",
       "      <th>16</th>\n",
       "      <td>december</td>\n",
       "      <td>0.124519</td>\n",
       "    </tr>\n",
       "    <tr>\n",
       "      <th>17</th>\n",
       "      <td>Q1</td>\n",
       "      <td>-0.046240</td>\n",
       "    </tr>\n",
       "    <tr>\n",
       "      <th>18</th>\n",
       "      <td>Q4</td>\n",
       "      <td>0.029457</td>\n",
       "    </tr>\n",
       "    <tr>\n",
       "      <th>19</th>\n",
       "      <td>target_shop_zero</td>\n",
       "      <td>0.092645</td>\n",
       "    </tr>\n",
       "    <tr>\n",
       "      <th>20</th>\n",
       "      <td>target_item_zero</td>\n",
       "      <td>0.014381</td>\n",
       "    </tr>\n",
       "    <tr>\n",
       "      <th>21</th>\n",
       "      <td>target_shop_recent_zero</td>\n",
       "      <td>0.335611</td>\n",
       "    </tr>\n",
       "    <tr>\n",
       "      <th>22</th>\n",
       "      <td>target_item_recent_zero</td>\n",
       "      <td>-0.030372</td>\n",
       "    </tr>\n",
       "    <tr>\n",
       "      <th>23</th>\n",
       "      <td>intercept</td>\n",
       "      <td>0.015033</td>\n",
       "    </tr>\n",
       "  </tbody>\n",
       "</table>\n",
       "</div>"
      ],
      "text/plain": [
       "                   features      coef\n",
       "0            date_block_num -0.000249\n",
       "1              target_lag_1  0.359939\n",
       "2         target_item_lag_1  0.001772\n",
       "3         target_shop_lag_1  0.000049\n",
       "4              target_lag_2  0.086758\n",
       "5         target_item_lag_2 -0.000549\n",
       "6         target_shop_lag_2 -0.000016\n",
       "7              target_lag_3  0.087794\n",
       "8         target_item_lag_3  0.000599\n",
       "9         target_shop_lag_3 -0.000010\n",
       "10             target_lag_6  0.134203\n",
       "11        target_item_lag_6 -0.000667\n",
       "12        target_shop_lag_6 -0.000022\n",
       "13            target_lag_12  0.168929\n",
       "14       target_item_lag_12 -0.000503\n",
       "15       target_shop_lag_12 -0.000018\n",
       "16                 december  0.124519\n",
       "17                       Q1 -0.046240\n",
       "18                       Q4  0.029457\n",
       "19         target_shop_zero  0.092645\n",
       "20         target_item_zero  0.014381\n",
       "21  target_shop_recent_zero  0.335611\n",
       "22  target_item_recent_zero -0.030372\n",
       "23                intercept  0.015033"
      ]
     },
     "execution_count": 11,
     "metadata": {},
     "output_type": "execute_result"
    }
   ],
   "source": [
    "# linear regression coefficients:\n",
    "pd.DataFrame({'features': X_train_num.columns, 'coef': lr.coef_}).append({'features': 'intercept', 'coef': lr.intercept_}, ignore_index=True)"
   ]
  },
  {
   "cell_type": "markdown",
   "metadata": {},
   "source": [
    "### Lasso on numerical features"
   ]
  },
  {
   "cell_type": "code",
   "execution_count": 11,
   "metadata": {},
   "outputs": [
    {
     "name": "stdout",
     "output_type": "stream",
     "text": [
      "Lasso\n",
      "       R-squared   RMSE\n",
      "train      0.457  2.603\n",
      "val        0.221  1.003\n"
     ]
    },
    {
     "data": {
      "text/html": [
       "<div>\n",
       "<style scoped>\n",
       "    .dataframe tbody tr th:only-of-type {\n",
       "        vertical-align: middle;\n",
       "    }\n",
       "\n",
       "    .dataframe tbody tr th {\n",
       "        vertical-align: top;\n",
       "    }\n",
       "\n",
       "    .dataframe thead th {\n",
       "        text-align: right;\n",
       "    }\n",
       "</style>\n",
       "<table border=\"1\" class=\"dataframe\">\n",
       "  <thead>\n",
       "    <tr style=\"text-align: right;\">\n",
       "      <th></th>\n",
       "      <th>features</th>\n",
       "      <th>coef</th>\n",
       "    </tr>\n",
       "  </thead>\n",
       "  <tbody>\n",
       "    <tr>\n",
       "      <th>0</th>\n",
       "      <td>date_block_num</td>\n",
       "      <td>0.000000</td>\n",
       "    </tr>\n",
       "    <tr>\n",
       "      <th>1</th>\n",
       "      <td>target_lag_1</td>\n",
       "      <td>0.329983</td>\n",
       "    </tr>\n",
       "    <tr>\n",
       "      <th>2</th>\n",
       "      <td>target_item_lag_1</td>\n",
       "      <td>0.002301</td>\n",
       "    </tr>\n",
       "    <tr>\n",
       "      <th>3</th>\n",
       "      <td>target_shop_lag_1</td>\n",
       "      <td>0.000034</td>\n",
       "    </tr>\n",
       "    <tr>\n",
       "      <th>4</th>\n",
       "      <td>target_lag_2</td>\n",
       "      <td>0.062355</td>\n",
       "    </tr>\n",
       "    <tr>\n",
       "      <th>5</th>\n",
       "      <td>target_item_lag_2</td>\n",
       "      <td>0.000000</td>\n",
       "    </tr>\n",
       "    <tr>\n",
       "      <th>6</th>\n",
       "      <td>target_shop_lag_2</td>\n",
       "      <td>-0.000015</td>\n",
       "    </tr>\n",
       "    <tr>\n",
       "      <th>7</th>\n",
       "      <td>target_lag_3</td>\n",
       "      <td>0.063815</td>\n",
       "    </tr>\n",
       "    <tr>\n",
       "      <th>8</th>\n",
       "      <td>target_item_lag_3</td>\n",
       "      <td>0.001049</td>\n",
       "    </tr>\n",
       "    <tr>\n",
       "      <th>9</th>\n",
       "      <td>target_shop_lag_3</td>\n",
       "      <td>-0.000015</td>\n",
       "    </tr>\n",
       "    <tr>\n",
       "      <th>10</th>\n",
       "      <td>target_lag_6</td>\n",
       "      <td>0.103040</td>\n",
       "    </tr>\n",
       "    <tr>\n",
       "      <th>11</th>\n",
       "      <td>target_item_lag_6</td>\n",
       "      <td>0.000000</td>\n",
       "    </tr>\n",
       "    <tr>\n",
       "      <th>12</th>\n",
       "      <td>target_shop_lag_6</td>\n",
       "      <td>-0.000017</td>\n",
       "    </tr>\n",
       "    <tr>\n",
       "      <th>13</th>\n",
       "      <td>target_lag_12</td>\n",
       "      <td>0.076595</td>\n",
       "    </tr>\n",
       "    <tr>\n",
       "      <th>14</th>\n",
       "      <td>target_item_lag_12</td>\n",
       "      <td>0.001453</td>\n",
       "    </tr>\n",
       "    <tr>\n",
       "      <th>15</th>\n",
       "      <td>target_shop_lag_12</td>\n",
       "      <td>-0.000003</td>\n",
       "    </tr>\n",
       "    <tr>\n",
       "      <th>16</th>\n",
       "      <td>december</td>\n",
       "      <td>0.000000</td>\n",
       "    </tr>\n",
       "    <tr>\n",
       "      <th>17</th>\n",
       "      <td>Q1</td>\n",
       "      <td>-0.000000</td>\n",
       "    </tr>\n",
       "    <tr>\n",
       "      <th>18</th>\n",
       "      <td>Q4</td>\n",
       "      <td>0.000000</td>\n",
       "    </tr>\n",
       "    <tr>\n",
       "      <th>19</th>\n",
       "      <td>target_shop_zero</td>\n",
       "      <td>0.000000</td>\n",
       "    </tr>\n",
       "    <tr>\n",
       "      <th>20</th>\n",
       "      <td>target_item_zero</td>\n",
       "      <td>0.000000</td>\n",
       "    </tr>\n",
       "    <tr>\n",
       "      <th>21</th>\n",
       "      <td>target_shop_recent_zero</td>\n",
       "      <td>0.000000</td>\n",
       "    </tr>\n",
       "    <tr>\n",
       "      <th>22</th>\n",
       "      <td>target_item_recent_zero</td>\n",
       "      <td>0.000000</td>\n",
       "    </tr>\n",
       "    <tr>\n",
       "      <th>23</th>\n",
       "      <td>intercept</td>\n",
       "      <td>0.070159</td>\n",
       "    </tr>\n",
       "  </tbody>\n",
       "</table>\n",
       "</div>"
      ],
      "text/plain": [
       "                   features      coef\n",
       "0            date_block_num  0.000000\n",
       "1              target_lag_1  0.329983\n",
       "2         target_item_lag_1  0.002301\n",
       "3         target_shop_lag_1  0.000034\n",
       "4              target_lag_2  0.062355\n",
       "5         target_item_lag_2  0.000000\n",
       "6         target_shop_lag_2 -0.000015\n",
       "7              target_lag_3  0.063815\n",
       "8         target_item_lag_3  0.001049\n",
       "9         target_shop_lag_3 -0.000015\n",
       "10             target_lag_6  0.103040\n",
       "11        target_item_lag_6  0.000000\n",
       "12        target_shop_lag_6 -0.000017\n",
       "13            target_lag_12  0.076595\n",
       "14       target_item_lag_12  0.001453\n",
       "15       target_shop_lag_12 -0.000003\n",
       "16                 december  0.000000\n",
       "17                       Q1 -0.000000\n",
       "18                       Q4  0.000000\n",
       "19         target_shop_zero  0.000000\n",
       "20         target_item_zero  0.000000\n",
       "21  target_shop_recent_zero  0.000000\n",
       "22  target_item_recent_zero  0.000000\n",
       "23                intercept  0.070159"
      ]
     },
     "execution_count": 11,
     "metadata": {},
     "output_type": "execute_result"
    }
   ],
   "source": [
    "model = Lasso(alpha=0.8)\n",
    "X_train = X_train_num\n",
    "X_val = X_val_num\n",
    "udf.fit_eval_model(model, X_train, X_val, y_train, y_val)\n",
    "pd.DataFrame({'features': X_train.columns,\n",
    "              'coef': model.coef_}).append(\n",
    "             {'features': 'intercept',\n",
    "              'coef': model.intercept_},\n",
    "             ignore_index=True)"
   ]
  },
  {
   "cell_type": "markdown",
   "metadata": {},
   "source": [
    "## Error analysis "
   ]
  },
  {
   "cell_type": "code",
   "execution_count": 84,
   "metadata": {},
   "outputs": [
    {
     "data": {
      "text/plain": [
       "array([ 0.,  1.,  2.,  3.,  4.,  5.,  6.,  7.,  8.,  9., 10., 11., 12.,\n",
       "       13., 14., 15., 16., 17., 18., 19., 20.])"
      ]
     },
     "execution_count": 84,
     "metadata": {},
     "output_type": "execute_result"
    }
   ],
   "source": [
    "np.unique(y_val)"
   ]
  },
  {
   "cell_type": "code",
   "execution_count": 89,
   "metadata": {},
   "outputs": [
    {
     "data": {
      "text/plain": [
       "{0.0,\n",
       " 1.0,\n",
       " 2.0,\n",
       " 3.0,\n",
       " 4.0,\n",
       " 5.0,\n",
       " 6.0,\n",
       " 7.0,\n",
       " 8.0,\n",
       " 9.0,\n",
       " 10.0,\n",
       " 11.0,\n",
       " 12.0,\n",
       " 13.0,\n",
       " 14.0,\n",
       " 15.0,\n",
       " 16.0,\n",
       " 17.0,\n",
       " 18.0,\n",
       " 19.0,\n",
       " 20.0}"
      ]
     },
     "execution_count": 89,
     "metadata": {},
     "output_type": "execute_result"
    }
   ],
   "source": [
    "set(np.round(pred_val))"
   ]
  },
  {
   "cell_type": "code",
   "execution_count": 93,
   "metadata": {},
   "outputs": [],
   "source": [
    "model = Lasso(alpha=0.8)\n",
    "X_train = X_train_num\n",
    "X_val = X_val_num\n",
    "\n",
    "model.fit(X_train, y_train)\n",
    "pred_train = model.predict(X_train)\n",
    "pred_val = model.predict(X_val)      "
   ]
  },
  {
   "cell_type": "code",
   "execution_count": 137,
   "metadata": {},
   "outputs": [
    {
     "data": {
      "image/png": "[encoded data removed]",
      "text/plain": [
       "<Figure size 432x288 with 1 Axes>"
      ]
     },
     "metadata": {},
     "output_type": "display_data"
    }
   ],
   "source": [
    "bins = [-1, 0, 1, 2, 5, 20, 1000]\n",
    "pd.cut(pred_val, bins, right=False).value_counts().sort_index().plot.bar();"
   ]
  },
  {
   "cell_type": "code",
   "execution_count": 144,
   "metadata": {},
   "outputs": [
    {
     "data": {
      "image/png": "[encoded data removed]",
      "text/plain": [
       "<Figure size 432x288 with 1 Axes>"
      ]
     },
     "metadata": {},
     "output_type": "display_data"
    }
   ],
   "source": [
    "plt.hist(pred_val[(pred_val>=0) & (pred_val<1)], bins=30);"
   ]
  },
  {
   "cell_type": "code",
   "execution_count": 138,
   "metadata": {},
   "outputs": [
    {
     "data": {
      "image/png": "[encoded data removed]",
      "text/plain": [
       "<Figure size 432x288 with 1 Axes>"
      ]
     },
     "metadata": {},
     "output_type": "display_data"
    }
   ],
   "source": [
    "pd.cut(y_val, bins, right=False).value_counts().sort_index().plot.bar();"
   ]
  },
  {
   "cell_type": "code",
   "execution_count": 149,
   "metadata": {},
   "outputs": [
    {
     "data": {
      "image/png": "[encoded data removed]",
      "text/plain": [
       "<Figure size 720x432 with 1 Axes>"
      ]
     },
     "metadata": {},
     "output_type": "display_data"
    }
   ],
   "source": [
    "y_val.value_counts().plot.bar(figsize=(10,6));"
   ]
  },
  {
   "cell_type": "code",
   "execution_count": 22,
   "metadata": {},
   "outputs": [],
   "source": [
    "err_train = pred_train - y_train\n",
    "err_val = pred_val - y_val"
   ]
  },
  {
   "cell_type": "code",
   "execution_count": 27,
   "metadata": {},
   "outputs": [
    {
     "data": {
      "text/plain": [
       "<matplotlib.axes._subplots.AxesSubplot at 0x7fbb08e60940>"
      ]
     },
     "execution_count": 27,
     "metadata": {},
     "output_type": "execute_result"
    },
    {
     "data": {
      "image/png": "[encoded data removed]",
      "text/plain": [
       "<Figure size 432x288 with 1 Axes>"
      ]
     },
     "metadata": {},
     "output_type": "display_data"
    }
   ],
   "source": [
    "y_val.hist(bins=40)"
   ]
  },
  {
   "cell_type": "code",
   "execution_count": 35,
   "metadata": {},
   "outputs": [
    {
     "data": {
      "image/png": "[encoded data removed]",
      "text/plain": [
       "<Figure size 432x288 with 1 Axes>"
      ]
     },
     "metadata": {},
     "output_type": "display_data"
    }
   ],
   "source": [
    "plt.hist(pred_val, bins=40);"
   ]
  },
  {
   "cell_type": "code",
   "execution_count": 28,
   "metadata": {},
   "outputs": [
    {
     "data": {
      "text/plain": [
       "count    238172.000000\n",
       "mean          0.258565\n",
       "std           1.136157\n",
       "min           0.000000\n",
       "25%           0.000000\n",
       "50%           0.000000\n",
       "75%           0.000000\n",
       "max          20.000000\n",
       "Name: target, dtype: float64"
      ]
     },
     "execution_count": 28,
     "metadata": {},
     "output_type": "execute_result"
    }
   ],
   "source": [
    "y_val.describe()"
   ]
  },
  {
   "cell_type": "code",
   "execution_count": 23,
   "metadata": {},
   "outputs": [
    {
     "data": {
      "image/png": "[encoded data removed]",
      "text/plain": [
       "<Figure size 432x288 with 1 Axes>"
      ]
     },
     "metadata": {},
     "output_type": "display_data"
    }
   ],
   "source": [
    "plt.plot(y_val, err_val, '.');"
   ]
  },
  {
   "cell_type": "code",
   "execution_count": 24,
   "metadata": {},
   "outputs": [
    {
     "data": {
      "image/png": "[encoded data removed]",
      "text/plain": [
       "<Figure size 432x288 with 1 Axes>"
      ]
     },
     "metadata": {},
     "output_type": "display_data"
    }
   ],
   "source": [
    "plt.plot(y_train, err_train, '.');"
   ]
  },
  {
   "cell_type": "code",
   "execution_count": 36,
   "metadata": {},
   "outputs": [
    {
     "data": {
      "text/plain": [
       "0.8678644005172732"
      ]
     },
     "execution_count": 36,
     "metadata": {},
     "output_type": "execute_result"
    }
   ],
   "source": [
    "sum(y_val==0)/len(y_val)"
   ]
  },
  {
   "cell_type": "code",
   "execution_count": 72,
   "metadata": {},
   "outputs": [],
   "source": [
    "df_pred = pd.DataFrame({'y_val': y_val, 'pred_val': pred_val})\n",
    "\n",
    "df_pred['target_zero'] = (df_pred['y_val']==0)\n",
    "df_pred['pred_zero'] = (df_pred['pred_val']==0)"
   ]
  },
  {
   "cell_type": "code",
   "execution_count": 73,
   "metadata": {},
   "outputs": [
    {
     "data": {
      "text/plain": [
       "y_val           61583.000000\n",
       "pred_val        63135.032278\n",
       "target_zero    206701.000000\n",
       "pred_zero        3318.000000\n",
       "dtype: float64"
      ]
     },
     "execution_count": 73,
     "metadata": {},
     "output_type": "execute_result"
    }
   ],
   "source": [
    "df_pred.sum()"
   ]
  },
  {
   "cell_type": "code",
   "execution_count": 74,
   "metadata": {},
   "outputs": [
    {
     "data": {
      "text/html": [
       "<div>\n",
       "<style scoped>\n",
       "    .dataframe tbody tr th:only-of-type {\n",
       "        vertical-align: middle;\n",
       "    }\n",
       "\n",
       "    .dataframe tbody tr th {\n",
       "        vertical-align: top;\n",
       "    }\n",
       "\n",
       "    .dataframe thead th {\n",
       "        text-align: right;\n",
       "    }\n",
       "</style>\n",
       "<table border=\"1\" class=\"dataframe\">\n",
       "  <thead>\n",
       "    <tr style=\"text-align: right;\">\n",
       "      <th></th>\n",
       "      <th>y_val</th>\n",
       "      <th>pred_val</th>\n",
       "      <th>target_zero</th>\n",
       "      <th>pred_zero</th>\n",
       "    </tr>\n",
       "  </thead>\n",
       "  <tbody>\n",
       "    <tr>\n",
       "      <th>10675678</th>\n",
       "      <td>1.0</td>\n",
       "      <td>0.083943</td>\n",
       "      <td>False</td>\n",
       "      <td>False</td>\n",
       "    </tr>\n",
       "    <tr>\n",
       "      <th>10675679</th>\n",
       "      <td>1.0</td>\n",
       "      <td>0.790752</td>\n",
       "      <td>False</td>\n",
       "      <td>False</td>\n",
       "    </tr>\n",
       "    <tr>\n",
       "      <th>10675680</th>\n",
       "      <td>2.0</td>\n",
       "      <td>0.895689</td>\n",
       "      <td>False</td>\n",
       "      <td>False</td>\n",
       "    </tr>\n",
       "    <tr>\n",
       "      <th>10675681</th>\n",
       "      <td>1.0</td>\n",
       "      <td>0.209757</td>\n",
       "      <td>False</td>\n",
       "      <td>False</td>\n",
       "    </tr>\n",
       "    <tr>\n",
       "      <th>10675682</th>\n",
       "      <td>1.0</td>\n",
       "      <td>0.599090</td>\n",
       "      <td>False</td>\n",
       "      <td>False</td>\n",
       "    </tr>\n",
       "  </tbody>\n",
       "</table>\n",
       "</div>"
      ],
      "text/plain": [
       "          y_val  pred_val  target_zero  pred_zero\n",
       "10675678    1.0  0.083943        False      False\n",
       "10675679    1.0  0.790752        False      False\n",
       "10675680    2.0  0.895689        False      False\n",
       "10675681    1.0  0.209757        False      False\n",
       "10675682    1.0  0.599090        False      False"
      ]
     },
     "execution_count": 74,
     "metadata": {},
     "output_type": "execute_result"
    }
   ],
   "source": [
    "df_pred.head()"
   ]
  },
  {
   "cell_type": "code",
   "execution_count": 64,
   "metadata": {},
   "outputs": [],
   "source": [
    "from sklearn.metrics import confusion_matrix, recall_score"
   ]
  },
  {
   "cell_type": "code",
   "execution_count": 75,
   "metadata": {},
   "outputs": [
    {
     "data": {
      "text/plain": [
       "array([[ 31186,    285],\n",
       "       [203668,   3033]])"
      ]
     },
     "execution_count": 75,
     "metadata": {},
     "output_type": "execute_result"
    }
   ],
   "source": [
    "confusion_matrix(df_pred['target_zero'], df_pred['pred_zero'])"
   ]
  },
  {
   "cell_type": "code",
   "execution_count": 77,
   "metadata": {},
   "outputs": [
    {
     "data": {
      "text/plain": [
       "0.014673368779057673"
      ]
     },
     "execution_count": 77,
     "metadata": {},
     "output_type": "execute_result"
    }
   ],
   "source": [
    "recall_score(df_pred['target_zero'], df_pred['pred_zero'])\n",
    "# we are very bad at predicting zero at all, and in particular at predicting zero for targets equal to zero."
   ]
  },
  {
   "cell_type": "code",
   "execution_count": 81,
   "metadata": {},
   "outputs": [
    {
     "data": {
      "text/plain": [
       "count    206701.000000\n",
       "mean          0.176872\n",
       "std           0.314790\n",
       "min           0.000000\n",
       "25%           0.070159\n",
       "50%           0.085193\n",
       "75%           0.166517\n",
       "max          20.000000\n",
       "Name: pred_val, dtype: float64"
      ]
     },
     "execution_count": 81,
     "metadata": {},
     "output_type": "execute_result"
    }
   ],
   "source": [
    "df_pred.loc[df_pred['target_zero'], 'pred_val'].describe()"
   ]
  },
  {
   "cell_type": "code",
   "execution_count": 82,
   "metadata": {},
   "outputs": [
    {
     "data": {
      "text/plain": [
       "array([ 0.,  1.,  2.,  3.,  4.,  5.,  6.,  7.,  8.,  9., 10., 11., 12.,\n",
       "       13., 14., 15., 16., 17., 18., 19., 20.])"
      ]
     },
     "execution_count": 82,
     "metadata": {},
     "output_type": "execute_result"
    }
   ],
   "source": [
    "np.unique(y_val)"
   ]
  },
  {
   "cell_type": "code",
   "execution_count": null,
   "metadata": {},
   "outputs": [],
   "source": [
    "df_pred.loc[df_pred['']]"
   ]
  },
  {
   "cell_type": "code",
   "execution_count": 45,
   "metadata": {},
   "outputs": [
    {
     "data": {
      "text/plain": [
       "3033"
      ]
     },
     "execution_count": 45,
     "metadata": {},
     "output_type": "execute_result"
    }
   ],
   "source": [
    "sum(pred_val[y_val==0]==0)"
   ]
  },
  {
   "cell_type": "code",
   "execution_count": 39,
   "metadata": {},
   "outputs": [
    {
     "data": {
      "text/plain": [
       "10675678    1.0\n",
       "10675679    1.0\n",
       "10675680    2.0\n",
       "10675681    1.0\n",
       "10675682    1.0\n",
       "10675683    3.0\n",
       "10675684    1.0\n",
       "10675685    2.0\n",
       "10675686    1.0\n",
       "10675687    1.0\n",
       "10675688    1.0\n",
       "10675689    1.0\n",
       "10675690    1.0\n",
       "10675691    1.0\n",
       "10675692    1.0\n",
       "10675693    1.0\n",
       "10675694    1.0\n",
       "10675695    1.0\n",
       "10675696    1.0\n",
       "10675697    1.0\n",
       "10675698    2.0\n",
       "10675699    2.0\n",
       "10675700    1.0\n",
       "10675701    4.0\n",
       "10675702    1.0\n",
       "10675703    1.0\n",
       "10675704    1.0\n",
       "10675705    1.0\n",
       "10675706    1.0\n",
       "10675707    1.0\n",
       "           ... \n",
       "10913820    0.0\n",
       "10913821    0.0\n",
       "10913822    0.0\n",
       "10913823    0.0\n",
       "10913824    0.0\n",
       "10913825    0.0\n",
       "10913826    0.0\n",
       "10913827    0.0\n",
       "10913828    0.0\n",
       "10913829    0.0\n",
       "10913830    0.0\n",
       "10913831    0.0\n",
       "10913832    0.0\n",
       "10913833    0.0\n",
       "10913834    0.0\n",
       "10913835    0.0\n",
       "10913836    0.0\n",
       "10913837    0.0\n",
       "10913838    0.0\n",
       "10913839    0.0\n",
       "10913840    0.0\n",
       "10913841    0.0\n",
       "10913842    0.0\n",
       "10913843    0.0\n",
       "10913844    0.0\n",
       "10913845    0.0\n",
       "10913846    0.0\n",
       "10913847    0.0\n",
       "10913848    0.0\n",
       "10913849    0.0\n",
       "Name: target, Length: 238172, dtype: float64"
      ]
     },
     "execution_count": 39,
     "metadata": {},
     "output_type": "execute_result"
    }
   ],
   "source": [
    "y_val"
   ]
  },
  {
   "cell_type": "code",
   "execution_count": null,
   "metadata": {},
   "outputs": [],
   "source": [
    "plt.scatter(y_train, err_train)"
   ]
  },
  {
   "cell_type": "code",
   "execution_count": null,
   "metadata": {},
   "outputs": [
    {
     "data": {
      "text/plain": [
       "<matplotlib.collections.PathCollection at 0x7f5b492cd358>"
      ]
     },
     "execution_count": 80,
     "metadata": {},
     "output_type": "execute_result"
    }
   ],
   "source": [
    "plt.scatter(y_train, err_train)"
   ]
  },
  {
   "cell_type": "code",
   "execution_count": 73,
   "metadata": {},
   "outputs": [
    {
     "name": "stdout",
     "output_type": "stream",
     "text": [
      "Lasso\n",
      "       R-squared   RMSE\n",
      "train      0.397  2.743\n",
      "val        0.193  1.020\n"
     ]
    },
    {
     "data": {
      "text/html": [
       "<div>\n",
       "<style scoped>\n",
       "    .dataframe tbody tr th:only-of-type {\n",
       "        vertical-align: middle;\n",
       "    }\n",
       "\n",
       "    .dataframe tbody tr th {\n",
       "        vertical-align: top;\n",
       "    }\n",
       "\n",
       "    .dataframe thead th {\n",
       "        text-align: right;\n",
       "    }\n",
       "</style>\n",
       "<table border=\"1\" class=\"dataframe\">\n",
       "  <thead>\n",
       "    <tr style=\"text-align: right;\">\n",
       "      <th></th>\n",
       "      <th>features</th>\n",
       "      <th>coef</th>\n",
       "    </tr>\n",
       "  </thead>\n",
       "  <tbody>\n",
       "    <tr>\n",
       "      <th>0</th>\n",
       "      <td>date_block_num</td>\n",
       "      <td>0.000000e+00</td>\n",
       "    </tr>\n",
       "    <tr>\n",
       "      <th>1</th>\n",
       "      <td>item_id</td>\n",
       "      <td>-5.844343e-07</td>\n",
       "    </tr>\n",
       "    <tr>\n",
       "      <th>2</th>\n",
       "      <td>target_lag_1</td>\n",
       "      <td>2.754540e-01</td>\n",
       "    </tr>\n",
       "    <tr>\n",
       "      <th>3</th>\n",
       "      <td>target_item_lag_1</td>\n",
       "      <td>3.392188e-03</td>\n",
       "    </tr>\n",
       "    <tr>\n",
       "      <th>4</th>\n",
       "      <td>target_shop_lag_1</td>\n",
       "      <td>4.735232e-05</td>\n",
       "    </tr>\n",
       "    <tr>\n",
       "      <th>5</th>\n",
       "      <td>target_lag_2</td>\n",
       "      <td>2.112424e-02</td>\n",
       "    </tr>\n",
       "    <tr>\n",
       "      <th>6</th>\n",
       "      <td>target_item_lag_2</td>\n",
       "      <td>8.034785e-04</td>\n",
       "    </tr>\n",
       "    <tr>\n",
       "      <th>7</th>\n",
       "      <td>target_shop_lag_2</td>\n",
       "      <td>-5.476311e-06</td>\n",
       "    </tr>\n",
       "    <tr>\n",
       "      <th>8</th>\n",
       "      <td>target_lag_3</td>\n",
       "      <td>1.864067e-02</td>\n",
       "    </tr>\n",
       "    <tr>\n",
       "      <th>9</th>\n",
       "      <td>target_item_lag_3</td>\n",
       "      <td>2.001532e-03</td>\n",
       "    </tr>\n",
       "    <tr>\n",
       "      <th>10</th>\n",
       "      <td>target_shop_lag_3</td>\n",
       "      <td>-8.066505e-06</td>\n",
       "    </tr>\n",
       "    <tr>\n",
       "      <th>11</th>\n",
       "      <td>target_lag_6</td>\n",
       "      <td>4.093337e-02</td>\n",
       "    </tr>\n",
       "    <tr>\n",
       "      <th>12</th>\n",
       "      <td>target_item_lag_6</td>\n",
       "      <td>1.291303e-03</td>\n",
       "    </tr>\n",
       "    <tr>\n",
       "      <th>13</th>\n",
       "      <td>target_shop_lag_6</td>\n",
       "      <td>-1.079025e-05</td>\n",
       "    </tr>\n",
       "    <tr>\n",
       "      <th>14</th>\n",
       "      <td>target_lag_12</td>\n",
       "      <td>0.000000e+00</td>\n",
       "    </tr>\n",
       "    <tr>\n",
       "      <th>15</th>\n",
       "      <td>target_item_lag_12</td>\n",
       "      <td>3.122327e-03</td>\n",
       "    </tr>\n",
       "    <tr>\n",
       "      <th>16</th>\n",
       "      <td>target_shop_lag_12</td>\n",
       "      <td>0.000000e+00</td>\n",
       "    </tr>\n",
       "    <tr>\n",
       "      <th>17</th>\n",
       "      <td>december</td>\n",
       "      <td>0.000000e+00</td>\n",
       "    </tr>\n",
       "    <tr>\n",
       "      <th>18</th>\n",
       "      <td>Q1</td>\n",
       "      <td>-0.000000e+00</td>\n",
       "    </tr>\n",
       "    <tr>\n",
       "      <th>19</th>\n",
       "      <td>Q4</td>\n",
       "      <td>0.000000e+00</td>\n",
       "    </tr>\n",
       "    <tr>\n",
       "      <th>20</th>\n",
       "      <td>target_shop_zero</td>\n",
       "      <td>0.000000e+00</td>\n",
       "    </tr>\n",
       "    <tr>\n",
       "      <th>21</th>\n",
       "      <td>target_item_zero</td>\n",
       "      <td>0.000000e+00</td>\n",
       "    </tr>\n",
       "    <tr>\n",
       "      <th>22</th>\n",
       "      <td>target_shop_recent_zero</td>\n",
       "      <td>0.000000e+00</td>\n",
       "    </tr>\n",
       "    <tr>\n",
       "      <th>23</th>\n",
       "      <td>target_item_recent_zero</td>\n",
       "      <td>0.000000e+00</td>\n",
       "    </tr>\n",
       "    <tr>\n",
       "      <th>24</th>\n",
       "      <td>shop_id_3</td>\n",
       "      <td>-0.000000e+00</td>\n",
       "    </tr>\n",
       "    <tr>\n",
       "      <th>25</th>\n",
       "      <td>shop_id_4</td>\n",
       "      <td>-0.000000e+00</td>\n",
       "    </tr>\n",
       "    <tr>\n",
       "      <th>26</th>\n",
       "      <td>shop_id_5</td>\n",
       "      <td>-0.000000e+00</td>\n",
       "    </tr>\n",
       "    <tr>\n",
       "      <th>27</th>\n",
       "      <td>shop_id_6</td>\n",
       "      <td>0.000000e+00</td>\n",
       "    </tr>\n",
       "    <tr>\n",
       "      <th>28</th>\n",
       "      <td>shop_id_7</td>\n",
       "      <td>-0.000000e+00</td>\n",
       "    </tr>\n",
       "    <tr>\n",
       "      <th>29</th>\n",
       "      <td>shop_id_9</td>\n",
       "      <td>0.000000e+00</td>\n",
       "    </tr>\n",
       "    <tr>\n",
       "      <th>...</th>\n",
       "      <td>...</td>\n",
       "      <td>...</td>\n",
       "    </tr>\n",
       "    <tr>\n",
       "      <th>49</th>\n",
       "      <td>shop_id_30</td>\n",
       "      <td>-0.000000e+00</td>\n",
       "    </tr>\n",
       "    <tr>\n",
       "      <th>50</th>\n",
       "      <td>shop_id_31</td>\n",
       "      <td>0.000000e+00</td>\n",
       "    </tr>\n",
       "    <tr>\n",
       "      <th>51</th>\n",
       "      <td>shop_id_33</td>\n",
       "      <td>-0.000000e+00</td>\n",
       "    </tr>\n",
       "    <tr>\n",
       "      <th>52</th>\n",
       "      <td>shop_id_34</td>\n",
       "      <td>-0.000000e+00</td>\n",
       "    </tr>\n",
       "    <tr>\n",
       "      <th>53</th>\n",
       "      <td>shop_id_35</td>\n",
       "      <td>-0.000000e+00</td>\n",
       "    </tr>\n",
       "    <tr>\n",
       "      <th>54</th>\n",
       "      <td>shop_id_36</td>\n",
       "      <td>0.000000e+00</td>\n",
       "    </tr>\n",
       "    <tr>\n",
       "      <th>55</th>\n",
       "      <td>shop_id_37</td>\n",
       "      <td>-0.000000e+00</td>\n",
       "    </tr>\n",
       "    <tr>\n",
       "      <th>56</th>\n",
       "      <td>shop_id_38</td>\n",
       "      <td>-0.000000e+00</td>\n",
       "    </tr>\n",
       "    <tr>\n",
       "      <th>57</th>\n",
       "      <td>shop_id_39</td>\n",
       "      <td>-0.000000e+00</td>\n",
       "    </tr>\n",
       "    <tr>\n",
       "      <th>58</th>\n",
       "      <td>shop_id_40</td>\n",
       "      <td>-0.000000e+00</td>\n",
       "    </tr>\n",
       "    <tr>\n",
       "      <th>59</th>\n",
       "      <td>shop_id_41</td>\n",
       "      <td>-0.000000e+00</td>\n",
       "    </tr>\n",
       "    <tr>\n",
       "      <th>60</th>\n",
       "      <td>shop_id_42</td>\n",
       "      <td>0.000000e+00</td>\n",
       "    </tr>\n",
       "    <tr>\n",
       "      <th>61</th>\n",
       "      <td>shop_id_43</td>\n",
       "      <td>-0.000000e+00</td>\n",
       "    </tr>\n",
       "    <tr>\n",
       "      <th>62</th>\n",
       "      <td>shop_id_44</td>\n",
       "      <td>-0.000000e+00</td>\n",
       "    </tr>\n",
       "    <tr>\n",
       "      <th>63</th>\n",
       "      <td>shop_id_45</td>\n",
       "      <td>-0.000000e+00</td>\n",
       "    </tr>\n",
       "    <tr>\n",
       "      <th>64</th>\n",
       "      <td>shop_id_46</td>\n",
       "      <td>-0.000000e+00</td>\n",
       "    </tr>\n",
       "    <tr>\n",
       "      <th>65</th>\n",
       "      <td>shop_id_47</td>\n",
       "      <td>-0.000000e+00</td>\n",
       "    </tr>\n",
       "    <tr>\n",
       "      <th>66</th>\n",
       "      <td>shop_id_48</td>\n",
       "      <td>0.000000e+00</td>\n",
       "    </tr>\n",
       "    <tr>\n",
       "      <th>67</th>\n",
       "      <td>shop_id_49</td>\n",
       "      <td>-0.000000e+00</td>\n",
       "    </tr>\n",
       "    <tr>\n",
       "      <th>68</th>\n",
       "      <td>shop_id_50</td>\n",
       "      <td>-0.000000e+00</td>\n",
       "    </tr>\n",
       "    <tr>\n",
       "      <th>69</th>\n",
       "      <td>shop_id_51</td>\n",
       "      <td>-0.000000e+00</td>\n",
       "    </tr>\n",
       "    <tr>\n",
       "      <th>70</th>\n",
       "      <td>shop_id_52</td>\n",
       "      <td>-0.000000e+00</td>\n",
       "    </tr>\n",
       "    <tr>\n",
       "      <th>71</th>\n",
       "      <td>shop_id_53</td>\n",
       "      <td>-0.000000e+00</td>\n",
       "    </tr>\n",
       "    <tr>\n",
       "      <th>72</th>\n",
       "      <td>shop_id_54</td>\n",
       "      <td>0.000000e+00</td>\n",
       "    </tr>\n",
       "    <tr>\n",
       "      <th>73</th>\n",
       "      <td>shop_id_55</td>\n",
       "      <td>0.000000e+00</td>\n",
       "    </tr>\n",
       "    <tr>\n",
       "      <th>74</th>\n",
       "      <td>shop_id_56</td>\n",
       "      <td>-0.000000e+00</td>\n",
       "    </tr>\n",
       "    <tr>\n",
       "      <th>75</th>\n",
       "      <td>shop_id_57</td>\n",
       "      <td>0.000000e+00</td>\n",
       "    </tr>\n",
       "    <tr>\n",
       "      <th>76</th>\n",
       "      <td>shop_id_58</td>\n",
       "      <td>0.000000e+00</td>\n",
       "    </tr>\n",
       "    <tr>\n",
       "      <th>77</th>\n",
       "      <td>shop_id_59</td>\n",
       "      <td>-0.000000e+00</td>\n",
       "    </tr>\n",
       "    <tr>\n",
       "      <th>78</th>\n",
       "      <td>intercept</td>\n",
       "      <td>1.428141e-02</td>\n",
       "    </tr>\n",
       "  </tbody>\n",
       "</table>\n",
       "<p>79 rows × 2 columns</p>\n",
       "</div>"
      ],
      "text/plain": [
       "                   features          coef\n",
       "0            date_block_num  0.000000e+00\n",
       "1                   item_id -5.844343e-07\n",
       "2              target_lag_1  2.754540e-01\n",
       "3         target_item_lag_1  3.392188e-03\n",
       "4         target_shop_lag_1  4.735232e-05\n",
       "5              target_lag_2  2.112424e-02\n",
       "6         target_item_lag_2  8.034785e-04\n",
       "7         target_shop_lag_2 -5.476311e-06\n",
       "8              target_lag_3  1.864067e-02\n",
       "9         target_item_lag_3  2.001532e-03\n",
       "10        target_shop_lag_3 -8.066505e-06\n",
       "11             target_lag_6  4.093337e-02\n",
       "12        target_item_lag_6  1.291303e-03\n",
       "13        target_shop_lag_6 -1.079025e-05\n",
       "14            target_lag_12  0.000000e+00\n",
       "15       target_item_lag_12  3.122327e-03\n",
       "16       target_shop_lag_12  0.000000e+00\n",
       "17                 december  0.000000e+00\n",
       "18                       Q1 -0.000000e+00\n",
       "19                       Q4  0.000000e+00\n",
       "20         target_shop_zero  0.000000e+00\n",
       "21         target_item_zero  0.000000e+00\n",
       "22  target_shop_recent_zero  0.000000e+00\n",
       "23  target_item_recent_zero  0.000000e+00\n",
       "24                shop_id_3 -0.000000e+00\n",
       "25                shop_id_4 -0.000000e+00\n",
       "26                shop_id_5 -0.000000e+00\n",
       "27                shop_id_6  0.000000e+00\n",
       "28                shop_id_7 -0.000000e+00\n",
       "29                shop_id_9  0.000000e+00\n",
       "..                      ...           ...\n",
       "49               shop_id_30 -0.000000e+00\n",
       "50               shop_id_31  0.000000e+00\n",
       "51               shop_id_33 -0.000000e+00\n",
       "52               shop_id_34 -0.000000e+00\n",
       "53               shop_id_35 -0.000000e+00\n",
       "54               shop_id_36  0.000000e+00\n",
       "55               shop_id_37 -0.000000e+00\n",
       "56               shop_id_38 -0.000000e+00\n",
       "57               shop_id_39 -0.000000e+00\n",
       "58               shop_id_40 -0.000000e+00\n",
       "59               shop_id_41 -0.000000e+00\n",
       "60               shop_id_42  0.000000e+00\n",
       "61               shop_id_43 -0.000000e+00\n",
       "62               shop_id_44 -0.000000e+00\n",
       "63               shop_id_45 -0.000000e+00\n",
       "64               shop_id_46 -0.000000e+00\n",
       "65               shop_id_47 -0.000000e+00\n",
       "66               shop_id_48  0.000000e+00\n",
       "67               shop_id_49 -0.000000e+00\n",
       "68               shop_id_50 -0.000000e+00\n",
       "69               shop_id_51 -0.000000e+00\n",
       "70               shop_id_52 -0.000000e+00\n",
       "71               shop_id_53 -0.000000e+00\n",
       "72               shop_id_54  0.000000e+00\n",
       "73               shop_id_55  0.000000e+00\n",
       "74               shop_id_56 -0.000000e+00\n",
       "75               shop_id_57  0.000000e+00\n",
       "76               shop_id_58  0.000000e+00\n",
       "77               shop_id_59 -0.000000e+00\n",
       "78                intercept  1.428141e-02\n",
       "\n",
       "[79 rows x 2 columns]"
      ]
     },
     "execution_count": 73,
     "metadata": {},
     "output_type": "execute_result"
    }
   ],
   "source": [
    "model = Lasso(alpha=2)\n",
    "X_train = X_train_oh\n",
    "X_val = X_val_oh\n",
    "\n",
    "udf.fit_eval_model(model, X_train, X_val, y_train, y_val)\n",
    "pd.DataFrame({'features': X_train.columns,\n",
    "              'coef': model.coef_}).append(\n",
    "             {'features': 'intercept',\n",
    "              'coef': model.intercept_},\n",
    "             ignore_index=True)"
   ]
  },
  {
   "cell_type": "code",
   "execution_count": null,
   "metadata": {},
   "outputs": [],
   "source": []
  },
  {
   "cell_type": "markdown",
   "metadata": {},
   "source": [
    "### LR on log-transformed numerical features"
   ]
  },
  {
   "cell_type": "code",
   "execution_count": 21,
   "metadata": {},
   "outputs": [
    {
     "data": {
      "text/html": [
       "<div>\n",
       "<style scoped>\n",
       "    .dataframe tbody tr th:only-of-type {\n",
       "        vertical-align: middle;\n",
       "    }\n",
       "\n",
       "    .dataframe tbody tr th {\n",
       "        vertical-align: top;\n",
       "    }\n",
       "\n",
       "    .dataframe thead th {\n",
       "        text-align: right;\n",
       "    }\n",
       "</style>\n",
       "<table border=\"1\" class=\"dataframe\">\n",
       "  <thead>\n",
       "    <tr style=\"text-align: right;\">\n",
       "      <th></th>\n",
       "      <th>R-squared</th>\n",
       "      <th>RMSE</th>\n",
       "    </tr>\n",
       "  </thead>\n",
       "  <tbody>\n",
       "    <tr>\n",
       "      <th>train</th>\n",
       "      <td>-0.007</td>\n",
       "      <td>3.543</td>\n",
       "    </tr>\n",
       "    <tr>\n",
       "      <th>val</th>\n",
       "      <td>-0.044</td>\n",
       "      <td>1.161</td>\n",
       "    </tr>\n",
       "  </tbody>\n",
       "</table>\n",
       "</div>"
      ],
      "text/plain": [
       "       R-squared   RMSE\n",
       "train     -0.007  3.543\n",
       "val       -0.044  1.161"
      ]
     },
     "execution_count": 21,
     "metadata": {},
     "output_type": "execute_result"
    }
   ],
   "source": [
    "# fit model on transformed sales data\n",
    "model = LinearRegression()\n",
    "model.fit(X_train_trans, y_train_trans)\n",
    "\n",
    "# predict model on transformed scale\n",
    "pred_train_trans = model.predict(X_train_trans)\n",
    "pred_val_trans = model.predict(X_val_trans)\n",
    "\n",
    "# transform predictions to original scale\n",
    "pred_train = udf.inv_log_transform(pred_train_trans, y_train_min)\n",
    "pred_val = udf.inv_log_transform(pred_val_trans, y_train_min)\n",
    "\n",
    "# clip predictions on original scale\n",
    "pred_val = np.clip(pred_val, 0, 20)\n",
    "\n",
    "# Evaluate predictions\n",
    "rsquared = [r2_score(y_train, pred_train), r2_score(y_val, pred_val)]\n",
    "rmse = [np.sqrt(mean_squared_error(y_train, pred_train)), np.sqrt(mean_squared_error(y_val, pred_val))]\n",
    "\n",
    "pd.DataFrame({'R-squared': np.round(rsquared, 3), 'RMSE': np.round(rmse, 3)},\n",
    "                  index=['train', 'val'])"
   ]
  },
  {
   "cell_type": "markdown",
   "metadata": {},
   "source": [
    "### LR on winsorized numerical features"
   ]
  },
  {
   "cell_type": "code",
   "execution_count": 52,
   "metadata": {},
   "outputs": [
    {
     "name": "stdout",
     "output_type": "stream",
     "text": [
      "LinearRegression\n",
      "       R-squared   RMSE\n",
      "train      0.245  3.069\n",
      "val        0.139  1.054\n"
     ]
    },
    {
     "data": {
      "text/plain": [
       "LinearRegression(copy_X=True, fit_intercept=True, n_jobs=1, normalize=False)"
      ]
     },
     "execution_count": 52,
     "metadata": {},
     "output_type": "execute_result"
    }
   ],
   "source": [
    "lr = LinearRegression()  \n",
    "udf.fit_eval_model(lr, X_train_wins, X_val_wins, y_train, y_val)"
   ]
  },
  {
   "cell_type": "markdown",
   "metadata": {},
   "source": [
    "### LR on scaled features"
   ]
  },
  {
   "cell_type": "code",
   "execution_count": 72,
   "metadata": {},
   "outputs": [
    {
     "name": "stdout",
     "output_type": "stream",
     "text": [
      "LinearRegression\n",
      "       R-squared   RMSE\n",
      "train      0.470  2.570\n",
      "val        0.212  1.009\n"
     ]
    },
    {
     "data": {
      "text/plain": [
       "LinearRegression(copy_X=True, fit_intercept=True, n_jobs=1, normalize=False)"
      ]
     },
     "execution_count": 72,
     "metadata": {},
     "output_type": "execute_result"
    }
   ],
   "source": [
    "# standardized lagged sales features\n",
    "lr = LinearRegression()  \n",
    "udf.fit_eval_model(lr, X_train_std, X_val_std, y_train, y_val)"
   ]
  },
  {
   "cell_type": "code",
   "execution_count": 73,
   "metadata": {},
   "outputs": [
    {
     "data": {
      "text/html": [
       "<div>\n",
       "<style scoped>\n",
       "    .dataframe tbody tr th:only-of-type {\n",
       "        vertical-align: middle;\n",
       "    }\n",
       "\n",
       "    .dataframe tbody tr th {\n",
       "        vertical-align: top;\n",
       "    }\n",
       "\n",
       "    .dataframe thead th {\n",
       "        text-align: right;\n",
       "    }\n",
       "</style>\n",
       "<table border=\"1\" class=\"dataframe\">\n",
       "  <thead>\n",
       "    <tr style=\"text-align: right;\">\n",
       "      <th></th>\n",
       "      <th>features</th>\n",
       "      <th>coef</th>\n",
       "    </tr>\n",
       "  </thead>\n",
       "  <tbody>\n",
       "    <tr>\n",
       "      <th>0</th>\n",
       "      <td>date_block_num</td>\n",
       "      <td>-0.000175</td>\n",
       "    </tr>\n",
       "    <tr>\n",
       "      <th>1</th>\n",
       "      <td>target_lag_1</td>\n",
       "      <td>1.266130</td>\n",
       "    </tr>\n",
       "    <tr>\n",
       "      <th>2</th>\n",
       "      <td>target_item_lag_1</td>\n",
       "      <td>0.176797</td>\n",
       "    </tr>\n",
       "    <tr>\n",
       "      <th>3</th>\n",
       "      <td>target_shop_lag_1</td>\n",
       "      <td>0.119876</td>\n",
       "    </tr>\n",
       "    <tr>\n",
       "      <th>4</th>\n",
       "      <td>target_lag_2</td>\n",
       "      <td>0.295771</td>\n",
       "    </tr>\n",
       "    <tr>\n",
       "      <th>5</th>\n",
       "      <td>target_item_lag_2</td>\n",
       "      <td>-0.055737</td>\n",
       "    </tr>\n",
       "    <tr>\n",
       "      <th>6</th>\n",
       "      <td>target_shop_lag_2</td>\n",
       "      <td>-0.049679</td>\n",
       "    </tr>\n",
       "    <tr>\n",
       "      <th>7</th>\n",
       "      <td>target_lag_3</td>\n",
       "      <td>0.305168</td>\n",
       "    </tr>\n",
       "    <tr>\n",
       "      <th>8</th>\n",
       "      <td>target_item_lag_3</td>\n",
       "      <td>0.063550</td>\n",
       "    </tr>\n",
       "    <tr>\n",
       "      <th>9</th>\n",
       "      <td>target_shop_lag_3</td>\n",
       "      <td>-0.035826</td>\n",
       "    </tr>\n",
       "    <tr>\n",
       "      <th>10</th>\n",
       "      <td>target_lag_6</td>\n",
       "      <td>0.478651</td>\n",
       "    </tr>\n",
       "    <tr>\n",
       "      <th>11</th>\n",
       "      <td>target_item_lag_6</td>\n",
       "      <td>-0.073619</td>\n",
       "    </tr>\n",
       "    <tr>\n",
       "      <th>12</th>\n",
       "      <td>target_shop_lag_6</td>\n",
       "      <td>-0.043714</td>\n",
       "    </tr>\n",
       "    <tr>\n",
       "      <th>13</th>\n",
       "      <td>target_lag_12</td>\n",
       "      <td>0.539410</td>\n",
       "    </tr>\n",
       "    <tr>\n",
       "      <th>14</th>\n",
       "      <td>target_item_lag_12</td>\n",
       "      <td>-0.050840</td>\n",
       "    </tr>\n",
       "    <tr>\n",
       "      <th>15</th>\n",
       "      <td>target_shop_lag_12</td>\n",
       "      <td>-0.036377</td>\n",
       "    </tr>\n",
       "    <tr>\n",
       "      <th>16</th>\n",
       "      <td>december</td>\n",
       "      <td>0.116368</td>\n",
       "    </tr>\n",
       "    <tr>\n",
       "      <th>17</th>\n",
       "      <td>Q1</td>\n",
       "      <td>-0.044258</td>\n",
       "    </tr>\n",
       "    <tr>\n",
       "      <th>18</th>\n",
       "      <td>Q4</td>\n",
       "      <td>0.034431</td>\n",
       "    </tr>\n",
       "    <tr>\n",
       "      <th>19</th>\n",
       "      <td>target_shop_zero</td>\n",
       "      <td>0.276009</td>\n",
       "    </tr>\n",
       "    <tr>\n",
       "      <th>20</th>\n",
       "      <td>intercept</td>\n",
       "      <td>0.271374</td>\n",
       "    </tr>\n",
       "  </tbody>\n",
       "</table>\n",
       "</div>"
      ],
      "text/plain": [
       "              features      coef\n",
       "0       date_block_num -0.000175\n",
       "1         target_lag_1  1.266130\n",
       "2    target_item_lag_1  0.176797\n",
       "3    target_shop_lag_1  0.119876\n",
       "4         target_lag_2  0.295771\n",
       "5    target_item_lag_2 -0.055737\n",
       "6    target_shop_lag_2 -0.049679\n",
       "7         target_lag_3  0.305168\n",
       "8    target_item_lag_3  0.063550\n",
       "9    target_shop_lag_3 -0.035826\n",
       "10        target_lag_6  0.478651\n",
       "11   target_item_lag_6 -0.073619\n",
       "12   target_shop_lag_6 -0.043714\n",
       "13       target_lag_12  0.539410\n",
       "14  target_item_lag_12 -0.050840\n",
       "15  target_shop_lag_12 -0.036377\n",
       "16            december  0.116368\n",
       "17                  Q1 -0.044258\n",
       "18                  Q4  0.034431\n",
       "19    target_shop_zero  0.276009\n",
       "20           intercept  0.271374"
      ]
     },
     "execution_count": 73,
     "metadata": {},
     "output_type": "execute_result"
    }
   ],
   "source": [
    "# standardized linear regression coefficients:\n",
    "pd.DataFrame({'features': X_train_std.columns, 'coef': lr.coef_}).append({'features': 'intercept', 'coef': lr.intercept_}, ignore_index=True)"
   ]
  },
  {
   "cell_type": "code",
   "execution_count": 78,
   "metadata": {},
   "outputs": [
    {
     "data": {
      "text/plain": [
       "target_lag_1          370.482347\n",
       "target_lag_2          383.467531\n",
       "target_lag_3          376.526817\n",
       "target_lag_6          366.303326\n",
       "target_lag_12         409.121527\n",
       "target_shop_lag_1       7.833245\n",
       "target_shop_lag_2       7.714899\n",
       "target_shop_lag_3       7.673416\n",
       "target_shop_lag_6       7.547444\n",
       "target_shop_lag_12      7.917369\n",
       "target_item_lag_1     124.464285\n",
       "target_item_lag_2     122.557040\n",
       "target_item_lag_3     119.854278\n",
       "target_item_lag_6     113.617597\n",
       "target_item_lag_12    125.146659\n",
       "dtype: float64"
      ]
     },
     "execution_count": 78,
     "metadata": {},
     "output_type": "execute_result"
    }
   ],
   "source": [
    "X_train_std[target_lags + shop_lags + item_lags].max()"
   ]
  },
  {
   "cell_type": "code",
   "execution_count": 70,
   "metadata": {},
   "outputs": [
    {
     "name": "stdout",
     "output_type": "stream",
     "text": [
      "LinearRegression\n",
      "       R-squared   RMSE\n",
      "train      0.470  2.570\n",
      "val        0.212  1.009\n"
     ]
    },
    {
     "data": {
      "text/plain": [
       "LinearRegression(copy_X=True, fit_intercept=True, n_jobs=1, normalize=True)"
      ]
     },
     "execution_count": 70,
     "metadata": {},
     "output_type": "execute_result"
    }
   ],
   "source": [
    "# normalizing all features\n",
    "lr = LinearRegression(normalize=True)  \n",
    "udf.fit_eval_model(lr, X_train_num, X_val_num, y_train, y_val)"
   ]
  },
  {
   "cell_type": "markdown",
   "metadata": {},
   "source": [
    "### New numerical features and hand-selection"
   ]
  },
  {
   "cell_type": "code",
   "execution_count": 118,
   "metadata": {},
   "outputs": [
    {
     "name": "stdout",
     "output_type": "stream",
     "text": [
      "LinearRegression\n",
      "       R-squared   RMSE\n",
      "train      0.458  2.599\n",
      "val        0.215  1.006\n"
     ]
    },
    {
     "data": {
      "text/plain": [
       "LinearRegression(copy_X=True, fit_intercept=True, n_jobs=1, normalize=True)"
      ]
     },
     "execution_count": 118,
     "metadata": {},
     "output_type": "execute_result"
    }
   ],
   "source": [
    "lr = LinearRegression(normalize=True)  \n",
    "udf.fit_eval_model(lr, X_train_sel, X_val_sel, y_train, y_val)"
   ]
  },
  {
   "cell_type": "code",
   "execution_count": 112,
   "metadata": {},
   "outputs": [
    {
     "data": {
      "text/html": [
       "<div>\n",
       "<style scoped>\n",
       "    .dataframe tbody tr th:only-of-type {\n",
       "        vertical-align: middle;\n",
       "    }\n",
       "\n",
       "    .dataframe tbody tr th {\n",
       "        vertical-align: top;\n",
       "    }\n",
       "\n",
       "    .dataframe thead th {\n",
       "        text-align: right;\n",
       "    }\n",
       "</style>\n",
       "<table border=\"1\" class=\"dataframe\">\n",
       "  <thead>\n",
       "    <tr style=\"text-align: right;\">\n",
       "      <th></th>\n",
       "      <th>features</th>\n",
       "      <th>coef</th>\n",
       "    </tr>\n",
       "  </thead>\n",
       "  <tbody>\n",
       "    <tr>\n",
       "      <th>0</th>\n",
       "      <td>date_block_num</td>\n",
       "      <td>1.795753e-04</td>\n",
       "    </tr>\n",
       "    <tr>\n",
       "      <th>1</th>\n",
       "      <td>target_lag_1</td>\n",
       "      <td>-3.356155e+08</td>\n",
       "    </tr>\n",
       "    <tr>\n",
       "      <th>2</th>\n",
       "      <td>target_item_lag_1</td>\n",
       "      <td>1.781720e-03</td>\n",
       "    </tr>\n",
       "    <tr>\n",
       "      <th>3</th>\n",
       "      <td>target_shop_lag_1</td>\n",
       "      <td>4.487324e-05</td>\n",
       "    </tr>\n",
       "    <tr>\n",
       "      <th>4</th>\n",
       "      <td>target_lag_2</td>\n",
       "      <td>-3.356155e+08</td>\n",
       "    </tr>\n",
       "    <tr>\n",
       "      <th>5</th>\n",
       "      <td>target_item_lag_2</td>\n",
       "      <td>-6.772389e-04</td>\n",
       "    </tr>\n",
       "    <tr>\n",
       "      <th>6</th>\n",
       "      <td>target_shop_lag_2</td>\n",
       "      <td>-1.905105e-05</td>\n",
       "    </tr>\n",
       "    <tr>\n",
       "      <th>7</th>\n",
       "      <td>target_lag_3</td>\n",
       "      <td>-3.356155e+08</td>\n",
       "    </tr>\n",
       "    <tr>\n",
       "      <th>8</th>\n",
       "      <td>target_item_lag_3</td>\n",
       "      <td>5.627330e-04</td>\n",
       "    </tr>\n",
       "    <tr>\n",
       "      <th>9</th>\n",
       "      <td>target_shop_lag_3</td>\n",
       "      <td>-1.116915e-05</td>\n",
       "    </tr>\n",
       "    <tr>\n",
       "      <th>10</th>\n",
       "      <td>target_lag_6</td>\n",
       "      <td>1.765477e-01</td>\n",
       "    </tr>\n",
       "    <tr>\n",
       "      <th>11</th>\n",
       "      <td>target_item_lag_6</td>\n",
       "      <td>-5.016746e-04</td>\n",
       "    </tr>\n",
       "    <tr>\n",
       "      <th>12</th>\n",
       "      <td>target_shop_lag_6</td>\n",
       "      <td>-1.768063e-05</td>\n",
       "    </tr>\n",
       "    <tr>\n",
       "      <th>13</th>\n",
       "      <td>december</td>\n",
       "      <td>1.332129e-01</td>\n",
       "    </tr>\n",
       "    <tr>\n",
       "      <th>14</th>\n",
       "      <td>Q1</td>\n",
       "      <td>-3.967438e-02</td>\n",
       "    </tr>\n",
       "    <tr>\n",
       "      <th>15</th>\n",
       "      <td>Q4</td>\n",
       "      <td>3.938218e-02</td>\n",
       "    </tr>\n",
       "    <tr>\n",
       "      <th>16</th>\n",
       "      <td>target_shop_zero</td>\n",
       "      <td>8.028577e-02</td>\n",
       "    </tr>\n",
       "    <tr>\n",
       "      <th>17</th>\n",
       "      <td>target_avg_3</td>\n",
       "      <td>3.356155e+08</td>\n",
       "    </tr>\n",
       "    <tr>\n",
       "      <th>18</th>\n",
       "      <td>target_item_zero</td>\n",
       "      <td>1.710462e-02</td>\n",
       "    </tr>\n",
       "    <tr>\n",
       "      <th>19</th>\n",
       "      <td>target_shop_recent_zero</td>\n",
       "      <td>3.517477e-01</td>\n",
       "    </tr>\n",
       "    <tr>\n",
       "      <th>20</th>\n",
       "      <td>target_item_recent_zero</td>\n",
       "      <td>-3.879185e-02</td>\n",
       "    </tr>\n",
       "    <tr>\n",
       "      <th>21</th>\n",
       "      <td>intercept</td>\n",
       "      <td>-5.051763e-03</td>\n",
       "    </tr>\n",
       "  </tbody>\n",
       "</table>\n",
       "</div>"
      ],
      "text/plain": [
       "                   features          coef\n",
       "0            date_block_num  1.795753e-04\n",
       "1              target_lag_1 -3.356155e+08\n",
       "2         target_item_lag_1  1.781720e-03\n",
       "3         target_shop_lag_1  4.487324e-05\n",
       "4              target_lag_2 -3.356155e+08\n",
       "5         target_item_lag_2 -6.772389e-04\n",
       "6         target_shop_lag_2 -1.905105e-05\n",
       "7              target_lag_3 -3.356155e+08\n",
       "8         target_item_lag_3  5.627330e-04\n",
       "9         target_shop_lag_3 -1.116915e-05\n",
       "10             target_lag_6  1.765477e-01\n",
       "11        target_item_lag_6 -5.016746e-04\n",
       "12        target_shop_lag_6 -1.768063e-05\n",
       "13                 december  1.332129e-01\n",
       "14                       Q1 -3.967438e-02\n",
       "15                       Q4  3.938218e-02\n",
       "16         target_shop_zero  8.028577e-02\n",
       "17             target_avg_3  3.356155e+08\n",
       "18         target_item_zero  1.710462e-02\n",
       "19  target_shop_recent_zero  3.517477e-01\n",
       "20  target_item_recent_zero -3.879185e-02\n",
       "21                intercept -5.051763e-03"
      ]
     },
     "execution_count": 112,
     "metadata": {},
     "output_type": "execute_result"
    }
   ],
   "source": [
    "# standardized linear regression coefficients:\n",
    "pd.DataFrame({'features': X_train_sel.columns, 'coef': lr.coef_}).append({'features': 'intercept', 'coef': lr.intercept_}, ignore_index=True)"
   ]
  },
  {
   "cell_type": "code",
   "execution_count": 87,
   "metadata": {},
   "outputs": [
    {
     "name": "stdout",
     "output_type": "stream",
     "text": [
      "LinearRegression\n",
      "       R-squared   RMSE\n",
      "train      0.458  2.600\n",
      "val        0.216  1.006\n"
     ]
    },
    {
     "data": {
      "text/plain": [
       "LinearRegression(copy_X=True, fit_intercept=True, n_jobs=1, normalize=True)"
      ]
     },
     "execution_count": 87,
     "metadata": {},
     "output_type": "execute_result"
    }
   ],
   "source": [
    "lr = LinearRegression(normalize=True)  \n",
    "udf.fit_eval_model(lr, X_train_sel, X_val_sel, y_train, y_val)"
   ]
  },
  {
   "cell_type": "markdown",
   "metadata": {},
   "source": [
    "## Re-train and make submission"
   ]
  },
  {
   "cell_type": "code",
   "execution_count": 17,
   "metadata": {},
   "outputs": [
    {
     "name": "stdout",
     "output_type": "stream",
     "text": [
      "Train data: date_block_num 12 to 33\n",
      "Test data: date_block_num 34\n",
      "target values in test data are clipped to [0, 20]\n"
     ]
    },
    {
     "name": "stderr",
     "output_type": "stream",
     "text": [
      "/home/johanna/Dropbox/Code/Coursera_Kaggle_Project/Build_data_grid.py:129: SettingWithCopyWarning: \n",
      "A value is trying to be set on a copy of a slice from a DataFrame.\n",
      "Try using .loc[row_indexer,col_indexer] = value instead\n",
      "\n",
      "See the caveats in the documentation: http://pandas.pydata.org/pandas-docs/stable/indexing.html#indexing-view-versus-copy\n",
      "  df_test[label] = df_test[label].clip(0, 20)\n"
     ]
    }
   ],
   "source": [
    "all_train, all_test = train_data, val_data = grid.train_test_split_by_month(all_sales, 34)"
   ]
  },
  {
   "cell_type": "code",
   "execution_count": 18,
   "metadata": {},
   "outputs": [],
   "source": [
    "lr = LinearRegression()\n",
    "\n",
    "lr.fit(all_train[lag_cols], all_train['target'])\n",
    "pred_test = lr.predict(all_test[lag_cols].values)\n",
    "\n",
    "# truncate predictions to [0, 20] as for test data\n",
    "pred_test = np.clip(pred_test, 0, 20)"
   ]
  },
  {
   "cell_type": "code",
   "execution_count": 19,
   "metadata": {},
   "outputs": [],
   "source": [
    "pred_submit = all_test[['item_id', 'shop_id']].copy()\n",
    "pred_submit['target'] = pred_test"
   ]
  },
  {
   "cell_type": "code",
   "execution_count": 20,
   "metadata": {},
   "outputs": [
    {
     "data": {
      "text/plain": [
       "(214200, 3)"
      ]
     },
     "execution_count": 20,
     "metadata": {},
     "output_type": "execute_result"
    }
   ],
   "source": [
    "pred_submit.shape"
   ]
  },
  {
   "cell_type": "code",
   "execution_count": null,
   "metadata": {},
   "outputs": [],
   "source": [
    "# create submission file with IDs from test data\n",
    "submit = (pd.merge(test_data, pred_submit, how='left', on=['shop_id', 'item_id'])\n",
    "              .rename(columns={'target': 'item_cnt_month'})\n",
    "                  .drop(columns=['shop_id', 'item_id'])\n",
    "          )"
   ]
  },
  {
   "cell_type": "code",
   "execution_count": null,
   "metadata": {},
   "outputs": [],
   "source": [
    "submit.shape"
   ]
  },
  {
   "cell_type": "code",
   "execution_count": null,
   "metadata": {},
   "outputs": [],
   "source": [
    "# submit.to_csv('submission_linreg_monthly_lagged_sales.csv', index=False)\n",
    "# yields public leaderboard score of 1.08009"
   ]
  },
  {
   "cell_type": "markdown",
   "metadata": {},
   "source": [
    "## Adding shop and item static information\n",
    "After computing the lags, add in additional information on shops and items, after computing the lagged sales data for more efficient computation. "
   ]
  },
  {
   "cell_type": "code",
   "execution_count": 2,
   "metadata": {},
   "outputs": [],
   "source": [
    "items_data = udf.merge_items_data()\n",
    "shops_data = udf.clean_shops_data()"
   ]
  },
  {
   "cell_type": "code",
   "execution_count": 25,
   "metadata": {},
   "outputs": [],
   "source": [
    "item_cols = ['item_id', 'item_category_id', 'item_category_group']\n",
    "shop_cols = ['shop_id', 'shop_city']\n",
    "\n",
    "all_data = (all_sales.merge(items_data[item_cols], how='left', on='item_id')\n",
    "                .merge(shops_data[shop_cols], how='left', on='shop_id')\n",
    "               )"
   ]
  },
  {
   "cell_type": "code",
   "execution_count": null,
   "metadata": {},
   "outputs": [],
   "source": [
    "all_data.info()"
   ]
  },
  {
   "cell_type": "code",
   "execution_count": 27,
   "metadata": {},
   "outputs": [
    {
     "name": "stdout",
     "output_type": "stream",
     "text": [
      "Train data: date_block_num 12 to 32\n",
      "Test data: date_block_num 33\n",
      "target values in test data are clipped to [0, 20]\n"
     ]
    },
    {
     "name": "stderr",
     "output_type": "stream",
     "text": [
      "/home/johanna/Dropbox/Code/Coursera_Kaggle_Project/Build_data_grid.py:131: SettingWithCopyWarning: \n",
      "A value is trying to be set on a copy of a slice from a DataFrame.\n",
      "Try using .loc[row_indexer,col_indexer] = value instead\n",
      "\n",
      "See the caveats in the documentation: http://pandas.pydata.org/pandas-docs/stable/indexing.html#indexing-view-versus-copy\n",
      "  df_test[label] = df_test[label].clip(0, 20)\n"
     ]
    }
   ],
   "source": [
    "train_data, val_data = grid.train_test_split_by_month(all_data, 33)"
   ]
  },
  {
   "cell_type": "code",
   "execution_count": 29,
   "metadata": {},
   "outputs": [
    {
     "data": {
      "text/plain": [
       "date_block_num            int64\n",
       "item_id                   int64\n",
       "shop_id                   int64\n",
       "target                  float64\n",
       "target_item             float64\n",
       "target_shop             float64\n",
       "target_lag_1              int64\n",
       "target_item_lag_1         int64\n",
       "target_shop_lag_1         int64\n",
       "target_lag_2              int64\n",
       "target_item_lag_2         int64\n",
       "target_shop_lag_2         int64\n",
       "target_lag_3              int64\n",
       "target_item_lag_3         int64\n",
       "target_shop_lag_3         int64\n",
       "target_lag_4              int64\n",
       "target_item_lag_4         int64\n",
       "target_shop_lag_4         int64\n",
       "target_lag_5              int64\n",
       "target_item_lag_5         int64\n",
       "target_shop_lag_5         int64\n",
       "target_lag_12             int64\n",
       "target_item_lag_12        int64\n",
       "target_shop_lag_12        int64\n",
       "item_category_id          int64\n",
       "item_category_group    category\n",
       "shop_city              category\n",
       "dtype: object"
      ]
     },
     "execution_count": 29,
     "metadata": {},
     "output_type": "execute_result"
    }
   ],
   "source": [
    "train_data.dtypes"
   ]
  },
  {
   "cell_type": "code",
   "execution_count": 38,
   "metadata": {},
   "outputs": [
    {
     "data": {
      "text/plain": [
       "(6186922, 20)"
      ]
     },
     "execution_count": 38,
     "metadata": {},
     "output_type": "execute_result"
    }
   ],
   "source": [
    "X_train.shape"
   ]
  },
  {
   "cell_type": "code",
   "execution_count": null,
   "metadata": {},
   "outputs": [],
   "source": []
  },
  {
   "cell_type": "code",
   "execution_count": 39,
   "metadata": {},
   "outputs": [
    {
     "name": "stdout",
     "output_type": "stream",
     "text": [
      "in sample R-squared: 0.4229816294327552\n",
      "in sample RMSE: 2.682711639932309\n",
      "val set R-squared: 0.2000043088920217\n",
      "val set  RMSE: 1.016204995494643\n"
     ]
    }
   ],
   "source": [
    "# increase regularization\n",
    "features = lag_cols + ['item_id', 'shop_id', 'item_category_id']\n",
    "X_train, y_train = train_data[features], train_data['target']\n",
    "X_val, y_val = val_data[features], val_data['target']\n",
    "\n",
    "lgb_params = {\n",
    "               'feature_fraction': 0.75,\n",
    "               'metric': 'rmse',\n",
    "               'nthread':1, \n",
    "               'min_data_in_leaf': 2**8, \n",
    "               'bagging_fraction': 0.6, \n",
    "               'learning_rate': 0.03, \n",
    "               'objective': 'mse', \n",
    "               'bagging_seed': 2**7, \n",
    "               'num_leaves': 2**7,\n",
    "               'bagging_freq':1,\n",
    "               'verbose':0 \n",
    "              }\n",
    "\n",
    "model = lgb.train(lgb_params, lgb.Dataset(X_train, label=y_train), 100)\n",
    "\n",
    "pred_train = model.predict(X_train)\n",
    "pred_val = model.predict(X_val)\n",
    "# truncate predictions\n",
    "pred_val = np.clip(pred_val, 0, 20)\n",
    "\n",
    "print('in sample R-squared:', r2_score(y_train, pred_train))\n",
    "print('in sample RMSE:', np.sqrt(mean_squared_error(y_train, pred_train)))\n",
    "print('val set R-squared:', r2_score(y_val, pred_val))\n",
    "print('val set  RMSE:', np.sqrt(mean_squared_error(y_val, pred_val)))"
   ]
  },
  {
   "cell_type": "code",
   "execution_count": 31,
   "metadata": {},
   "outputs": [
    {
     "name": "stdout",
     "output_type": "stream",
     "text": [
      "in sample R-squared: 0.5054331141392824\n",
      "in sample RMSE: 2.483657414388694\n",
      "val set R-squared: 0.08951233577745954\n",
      "val set  RMSE: 1.0841129560797282\n"
     ]
    }
   ],
   "source": [
    "features = lag_cols + ['item_id', 'shop_id', 'item_category_id']\n",
    "X_train, y_train = train_data[features], train_data['target']\n",
    "X_val, y_val = val_data[features], val_data['target']\n",
    "\n",
    "lgb_params = {\n",
    "               'feature_fraction': 0.75,\n",
    "               'metric': 'rmse',\n",
    "               'nthread':1, \n",
    "               'min_data_in_leaf': 2**7, \n",
    "               'bagging_fraction': 0.75, \n",
    "               'learning_rate': 0.03, \n",
    "               'objective': 'mse', \n",
    "               'bagging_seed': 2**7, \n",
    "               'num_leaves': 2**7,\n",
    "               'bagging_freq':1,\n",
    "               'verbose':0 \n",
    "              }\n",
    "\n",
    "model = lgb.train(lgb_params, lgb.Dataset(X_train, label=y_train), 100)\n",
    "\n",
    "pred_train = model.predict(X_train)\n",
    "pred_val = model.predict(X_val)\n",
    "# truncate predictions\n",
    "pred_val = np.clip(pred_val, 0, 20)\n",
    "\n",
    "print('in sample R-squared:', r2_score(y_train, pred_train))\n",
    "print('in sample RMSE:', np.sqrt(mean_squared_error(y_train, pred_train)))\n",
    "print('val set R-squared:', r2_score(y_val, pred_val))\n",
    "print('val set  RMSE:', np.sqrt(mean_squared_error(y_val, pred_val)))"
   ]
  },
  {
   "cell_type": "markdown",
   "metadata": {},
   "source": [
    "Observations from trying different models:\n",
    "- lightGBM performs worse when including item and shop and category ids, both in terms of speed and predictive power. it overfits a lot. try increasing regularization parameters!\n"
   ]
  },
  {
   "cell_type": "code",
   "execution_count": 32,
   "metadata": {},
   "outputs": [
    {
     "data": {
      "text/plain": [
       "16561"
      ]
     },
     "execution_count": 32,
     "metadata": {},
     "output_type": "execute_result"
    }
   ],
   "source": [
    "train_data['item_id'].nunique()"
   ]
  },
  {
   "cell_type": "code",
   "execution_count": 33,
   "metadata": {},
   "outputs": [
    {
     "data": {
      "text/plain": [
       "54"
      ]
     },
     "execution_count": 33,
     "metadata": {},
     "output_type": "execute_result"
    }
   ],
   "source": [
    "train_data['shop_id'].nunique()"
   ]
  },
  {
   "cell_type": "code",
   "execution_count": 34,
   "metadata": {},
   "outputs": [
    {
     "data": {
      "text/plain": [
       "79"
      ]
     },
     "execution_count": 34,
     "metadata": {},
     "output_type": "execute_result"
    }
   ],
   "source": [
    "train_data['item_category_id'].nunique()"
   ]
  },
  {
   "cell_type": "code",
   "execution_count": 37,
   "metadata": {},
   "outputs": [
    {
     "name": "stdout",
     "output_type": "stream",
     "text": [
      "in sample R-squared: 0.4941174925636759\n",
      "in sample RMSE: 2.5119095949630457\n",
      "val set R-squared: 0.2860374065293274\n",
      "val set  RMSE: 0.9600088370415591\n"
     ]
    }
   ],
   "source": [
    "features = lag_cols + ['shop_id', 'item_category_id']\n",
    "X_train, y_train = train_data[features], train_data['target']\n",
    "X_val, y_val = val_data[features], val_data['target']\n",
    "\n",
    "lgb_params = {\n",
    "               'feature_fraction': 0.75,\n",
    "               'metric': 'rmse',\n",
    "               'nthread':1, \n",
    "               'min_data_in_leaf': 2**7, \n",
    "               'bagging_fraction': 0.75, \n",
    "               'learning_rate': 0.03, \n",
    "               'objective': 'mse', \n",
    "               'bagging_seed': 2**7, \n",
    "               'num_leaves': 2**7,\n",
    "               'bagging_freq':1,\n",
    "               'verbose':0 \n",
    "              }\n",
    "\n",
    "model = lgb.train(lgb_params, lgb.Dataset(X_train, label=y_train), 100)\n",
    "\n",
    "pred_train = model.predict(X_train)\n",
    "pred_val = model.predict(X_val)\n",
    "# truncate predictions\n",
    "pred_val = np.clip(pred_val, 0, 20)\n",
    "\n",
    "print('in sample R-squared:', r2_score(y_train, pred_train))\n",
    "print('in sample RMSE:', np.sqrt(mean_squared_error(y_train, pred_train)))\n",
    "print('val set R-squared:', r2_score(y_val, pred_val))\n",
    "print('val set  RMSE:', np.sqrt(mean_squared_error(y_val, pred_val)))"
   ]
  },
  {
   "cell_type": "code",
   "execution_count": null,
   "metadata": {},
   "outputs": [],
   "source": []
  },
  {
   "cell_type": "code",
   "execution_count": null,
   "metadata": {},
   "outputs": [],
   "source": [
    "cat_cols = ['item_id', 'shop_id', 'item_category_id']"
   ]
  },
  {
   "cell_type": "code",
   "execution_count": 14,
   "metadata": {},
   "outputs": [
    {
     "name": "stdout",
     "output_type": "stream",
     "text": [
      "<class 'pandas.core.frame.DataFrame'>\n",
      "Int64Index: 6639294 entries, 0 to 6639293\n",
      "Data columns (total 27 columns):\n",
      "date_block_num         int64\n",
      "item_id                int64\n",
      "shop_id                int64\n",
      "target                 float64\n",
      "target_item            float64\n",
      "target_shop            float64\n",
      "target_lag_1           int64\n",
      "target_item_lag_1      int64\n",
      "target_shop_lag_1      int64\n",
      "target_lag_2           int64\n",
      "target_item_lag_2      int64\n",
      "target_shop_lag_2      int64\n",
      "target_lag_3           int64\n",
      "target_item_lag_3      int64\n",
      "target_shop_lag_3      int64\n",
      "target_lag_4           int64\n",
      "target_item_lag_4      int64\n",
      "target_shop_lag_4      int64\n",
      "target_lag_5           int64\n",
      "target_item_lag_5      int64\n",
      "target_shop_lag_5      int64\n",
      "target_lag_12          int64\n",
      "target_item_lag_12     int64\n",
      "target_shop_lag_12     int64\n",
      "item_category_id       int64\n",
      "item_category_group    category\n",
      "shop_city              category\n",
      "dtypes: category(2), float64(3), int64(22)\n",
      "memory usage: 1.3 GB\n"
     ]
    }
   ],
   "source": [
    "all_data.info()"
   ]
  },
  {
   "cell_type": "code",
   "execution_count": null,
   "metadata": {},
   "outputs": [],
   "source": []
  },
  {
   "cell_type": "code",
   "execution_count": null,
   "metadata": {},
   "outputs": [],
   "source": [
    "lgb.Dataset()"
   ]
  },
  {
   "cell_type": "code",
   "execution_count": 1,
   "metadata": {},
   "outputs": [
    {
     "ename": "NameError",
     "evalue": "name 'all_sales' is not defined",
     "output_type": "error",
     "traceback": [
      "\u001b[0;31m---------------------------------------------------------------------------\u001b[0m",
      "\u001b[0;31mNameError\u001b[0m                                 Traceback (most recent call last)",
      "\u001b[0;32m<ipython-input-1-e41c32544751>\u001b[0m in \u001b[0;36m<module>\u001b[0;34m()\u001b[0m\n\u001b[0;32m----> 1\u001b[0;31m \u001b[0mdata_nontree\u001b[0m \u001b[0;34m=\u001b[0m \u001b[0mall_sales\u001b[0m\u001b[0;34m.\u001b[0m\u001b[0mcopy\u001b[0m\u001b[0;34m(\u001b[0m\u001b[0;34m)\u001b[0m\u001b[0;34m\u001b[0m\u001b[0m\n\u001b[0m",
      "\u001b[0;31mNameError\u001b[0m: name 'all_sales' is not defined"
     ]
    }
   ],
   "source": [
    "data_nontree = all_sales.copy()"
   ]
  },
  {
   "cell_type": "code",
   "execution_count": null,
   "metadata": {},
   "outputs": [],
   "source": [
    "shop_dummies = pd.get_dummies(data_nontree['shop_id'].astype('category'), prefix='shop_id', drop_first=True, dtype=int)\n",
    "shop_cols = list(shop_dummies.columns)\n",
    "\n",
    "data_nontree = pd.concat([data_nontree, shop_dummies], axis=1)\n",
    "\n",
    "del shop_dummies\n",
    "gc.collect()"
   ]
  },
  {
   "cell_type": "code",
   "execution_count": null,
   "metadata": {},
   "outputs": [],
   "source": [
    "data_nontree = grid.downcast_dtypes(data_nontree)"
   ]
  },
  {
   "cell_type": "code",
   "execution_count": 10,
   "metadata": {},
   "outputs": [
    {
     "name": "stdout",
     "output_type": "stream",
     "text": [
      "Train data: date_block_num 12 to 32\n",
      "Test data: date_block_num 33\n",
      "target values in test data are clipped to [0, 20]\n"
     ]
    },
    {
     "name": "stderr",
     "output_type": "stream",
     "text": [
      "/home/johanna/Dropbox/Code/Coursera_Kaggle_Project/Build_data_grid.py:129: SettingWithCopyWarning: \n",
      "A value is trying to be set on a copy of a slice from a DataFrame.\n",
      "Try using .loc[row_indexer,col_indexer] = value instead\n",
      "\n",
      "See the caveats in the documentation: http://pandas.pydata.org/pandas-docs/stable/indexing.html#indexing-view-versus-copy\n",
      "  df_test[label] = df_test[label].clip(0, 20)\n"
     ]
    }
   ],
   "source": [
    "train_data, val_data = grid.train_test_split_by_month(all_sales, 33)"
   ]
  }
 ],
 "metadata": {
  "kernelspec": {
   "display_name": "Python 3",
   "language": "python",
   "name": "python3"
  },
  "language_info": {
   "codemirror_mode": {
    "name": "ipython",
    "version": 3
   },
   "file_extension": ".py",
   "mimetype": "text/x-python",
   "name": "python",
   "nbconvert_exporter": "python",
   "pygments_lexer": "ipython3",
   "version": "3.6.5"
  }
 },
 "nbformat": 4,
 "nbformat_minor": 2
}
