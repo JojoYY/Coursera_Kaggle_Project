{
 "cells": [
  {
   "cell_type": "code",
   "execution_count": 1,
   "metadata": {},
   "outputs": [],
   "source": [
    "import numpy as np\n",
    "import pandas as pd\n",
    "import matplotlib.pyplot as plt\n",
    "import seaborn as sns\n",
    "\n",
    "import training_data_cleaning_joining as clean\n",
    "\n",
    "%matplotlib inline"
   ]
  },
  {
   "cell_type": "code",
   "execution_count": 2,
   "metadata": {},
   "outputs": [],
   "source": [
    "all_train = clean.merge_all_train_data()\n",
    "\n",
    "test_data = clean.load_test_data()\n",
    "sample_submission = clean.load_submission_file()"
   ]
  },
  {
   "cell_type": "markdown",
   "metadata": {},
   "source": [
    "# Using monthly aggregated sales"
   ]
  },
  {
   "cell_type": "code",
   "execution_count": 3,
   "metadata": {},
   "outputs": [
    {
     "data": {
      "text/html": [
       "<div>\n",
       "<style scoped>\n",
       "    .dataframe tbody tr th:only-of-type {\n",
       "        vertical-align: middle;\n",
       "    }\n",
       "\n",
       "    .dataframe tbody tr th {\n",
       "        vertical-align: top;\n",
       "    }\n",
       "\n",
       "    .dataframe thead th {\n",
       "        text-align: right;\n",
       "    }\n",
       "</style>\n",
       "<table border=\"1\" class=\"dataframe\">\n",
       "  <thead>\n",
       "    <tr style=\"text-align: right;\">\n",
       "      <th></th>\n",
       "      <th>0</th>\n",
       "      <th>1</th>\n",
       "      <th>2</th>\n",
       "      <th>3</th>\n",
       "      <th>4</th>\n",
       "    </tr>\n",
       "  </thead>\n",
       "  <tbody>\n",
       "    <tr>\n",
       "      <th>date</th>\n",
       "      <td>2013-01-02 00:00:00</td>\n",
       "      <td>2013-01-02 00:00:00</td>\n",
       "      <td>2013-01-03 00:00:00</td>\n",
       "      <td>2013-01-20 00:00:00</td>\n",
       "      <td>2013-01-23 00:00:00</td>\n",
       "    </tr>\n",
       "    <tr>\n",
       "      <th>date_block_num</th>\n",
       "      <td>0</td>\n",
       "      <td>0</td>\n",
       "      <td>0</td>\n",
       "      <td>0</td>\n",
       "      <td>0</td>\n",
       "    </tr>\n",
       "    <tr>\n",
       "      <th>year</th>\n",
       "      <td>2013</td>\n",
       "      <td>2013</td>\n",
       "      <td>2013</td>\n",
       "      <td>2013</td>\n",
       "      <td>2013</td>\n",
       "    </tr>\n",
       "    <tr>\n",
       "      <th>month</th>\n",
       "      <td>1</td>\n",
       "      <td>1</td>\n",
       "      <td>1</td>\n",
       "      <td>1</td>\n",
       "      <td>1</td>\n",
       "    </tr>\n",
       "    <tr>\n",
       "      <th>day_of_month</th>\n",
       "      <td>2</td>\n",
       "      <td>2</td>\n",
       "      <td>3</td>\n",
       "      <td>20</td>\n",
       "      <td>23</td>\n",
       "    </tr>\n",
       "    <tr>\n",
       "      <th>month_year</th>\n",
       "      <td>2013-01</td>\n",
       "      <td>2013-01</td>\n",
       "      <td>2013-01</td>\n",
       "      <td>2013-01</td>\n",
       "      <td>2013-01</td>\n",
       "    </tr>\n",
       "    <tr>\n",
       "      <th>shop_id</th>\n",
       "      <td>59</td>\n",
       "      <td>25</td>\n",
       "      <td>25</td>\n",
       "      <td>25</td>\n",
       "      <td>25</td>\n",
       "    </tr>\n",
       "    <tr>\n",
       "      <th>shop_name</th>\n",
       "      <td>Ярославль ТЦ \"Альтаир\"</td>\n",
       "      <td>Москва ТРК \"Атриум\"</td>\n",
       "      <td>Москва ТРК \"Атриум\"</td>\n",
       "      <td>Москва ТРК \"Атриум\"</td>\n",
       "      <td>Москва ТРК \"Атриум\"</td>\n",
       "    </tr>\n",
       "    <tr>\n",
       "      <th>shop_name_eng</th>\n",
       "      <td>yaroslavl shopping center \"altair\"</td>\n",
       "      <td>moscow trk \"atrium\"</td>\n",
       "      <td>moscow trk \"atrium\"</td>\n",
       "      <td>moscow trk \"atrium\"</td>\n",
       "      <td>moscow trk \"atrium\"</td>\n",
       "    </tr>\n",
       "    <tr>\n",
       "      <th>shop_city</th>\n",
       "      <td>yaroslavl</td>\n",
       "      <td>moscow</td>\n",
       "      <td>moscow</td>\n",
       "      <td>moscow</td>\n",
       "      <td>moscow</td>\n",
       "    </tr>\n",
       "    <tr>\n",
       "      <th>item_category_group</th>\n",
       "      <td>Cinema</td>\n",
       "      <td>Cinema</td>\n",
       "      <td>Cinema</td>\n",
       "      <td>Cinema</td>\n",
       "      <td>Cinema</td>\n",
       "    </tr>\n",
       "    <tr>\n",
       "      <th>item_category_id</th>\n",
       "      <td>37</td>\n",
       "      <td>37</td>\n",
       "      <td>37</td>\n",
       "      <td>37</td>\n",
       "      <td>37</td>\n",
       "    </tr>\n",
       "    <tr>\n",
       "      <th>item_category_name_eng</th>\n",
       "      <td>Cinema - Blu-Ray</td>\n",
       "      <td>Cinema - Blu-Ray</td>\n",
       "      <td>Cinema - Blu-Ray</td>\n",
       "      <td>Cinema - Blu-Ray</td>\n",
       "      <td>Cinema - Blu-Ray</td>\n",
       "    </tr>\n",
       "    <tr>\n",
       "      <th>item_id</th>\n",
       "      <td>22154</td>\n",
       "      <td>22154</td>\n",
       "      <td>22154</td>\n",
       "      <td>22154</td>\n",
       "      <td>22154</td>\n",
       "    </tr>\n",
       "    <tr>\n",
       "      <th>item_name_proc</th>\n",
       "      <td>ЯВЛЕНИЕ 2012 (BD)</td>\n",
       "      <td>ЯВЛЕНИЕ 2012 (BD)</td>\n",
       "      <td>ЯВЛЕНИЕ 2012 (BD)</td>\n",
       "      <td>ЯВЛЕНИЕ 2012 (BD)</td>\n",
       "      <td>ЯВЛЕНИЕ 2012 (BD)</td>\n",
       "    </tr>\n",
       "    <tr>\n",
       "      <th>item_price</th>\n",
       "      <td>999</td>\n",
       "      <td>999</td>\n",
       "      <td>999</td>\n",
       "      <td>999</td>\n",
       "      <td>999</td>\n",
       "    </tr>\n",
       "    <tr>\n",
       "      <th>item_cnt_day</th>\n",
       "      <td>1</td>\n",
       "      <td>1</td>\n",
       "      <td>1</td>\n",
       "      <td>1</td>\n",
       "      <td>1</td>\n",
       "    </tr>\n",
       "  </tbody>\n",
       "</table>\n",
       "</div>"
      ],
      "text/plain": [
       "                                                         0  \\\n",
       "date                                   2013-01-02 00:00:00   \n",
       "date_block_num                                           0   \n",
       "year                                                  2013   \n",
       "month                                                    1   \n",
       "day_of_month                                             2   \n",
       "month_year                                         2013-01   \n",
       "shop_id                                                 59   \n",
       "shop_name                           Ярославль ТЦ \"Альтаир\"   \n",
       "shop_name_eng           yaroslavl shopping center \"altair\"   \n",
       "shop_city                                        yaroslavl   \n",
       "item_category_group                                 Cinema   \n",
       "item_category_id                                        37   \n",
       "item_category_name_eng                    Cinema - Blu-Ray   \n",
       "item_id                                              22154   \n",
       "item_name_proc                           ЯВЛЕНИЕ 2012 (BD)   \n",
       "item_price                                             999   \n",
       "item_cnt_day                                             1   \n",
       "\n",
       "                                          1                    2  \\\n",
       "date                    2013-01-02 00:00:00  2013-01-03 00:00:00   \n",
       "date_block_num                            0                    0   \n",
       "year                                   2013                 2013   \n",
       "month                                     1                    1   \n",
       "day_of_month                              2                    3   \n",
       "month_year                          2013-01              2013-01   \n",
       "shop_id                                  25                   25   \n",
       "shop_name               Москва ТРК \"Атриум\"  Москва ТРК \"Атриум\"   \n",
       "shop_name_eng           moscow trk \"atrium\"  moscow trk \"atrium\"   \n",
       "shop_city                            moscow               moscow   \n",
       "item_category_group                  Cinema               Cinema   \n",
       "item_category_id                         37                   37   \n",
       "item_category_name_eng     Cinema - Blu-Ray     Cinema - Blu-Ray   \n",
       "item_id                               22154                22154   \n",
       "item_name_proc            ЯВЛЕНИЕ 2012 (BD)    ЯВЛЕНИЕ 2012 (BD)   \n",
       "item_price                              999                  999   \n",
       "item_cnt_day                              1                    1   \n",
       "\n",
       "                                          3                    4  \n",
       "date                    2013-01-20 00:00:00  2013-01-23 00:00:00  \n",
       "date_block_num                            0                    0  \n",
       "year                                   2013                 2013  \n",
       "month                                     1                    1  \n",
       "day_of_month                             20                   23  \n",
       "month_year                          2013-01              2013-01  \n",
       "shop_id                                  25                   25  \n",
       "shop_name               Москва ТРК \"Атриум\"  Москва ТРК \"Атриум\"  \n",
       "shop_name_eng           moscow trk \"atrium\"  moscow trk \"atrium\"  \n",
       "shop_city                            moscow               moscow  \n",
       "item_category_group                  Cinema               Cinema  \n",
       "item_category_id                         37                   37  \n",
       "item_category_name_eng     Cinema - Blu-Ray     Cinema - Blu-Ray  \n",
       "item_id                               22154                22154  \n",
       "item_name_proc            ЯВЛЕНИЕ 2012 (BD)    ЯВЛЕНИЕ 2012 (BD)  \n",
       "item_price                              999                  999  \n",
       "item_cnt_day                              1                    1  "
      ]
     },
     "execution_count": 3,
     "metadata": {},
     "output_type": "execute_result"
    }
   ],
   "source": [
    "all_train.head().T"
   ]
  },
  {
   "cell_type": "code",
   "execution_count": 4,
   "metadata": {},
   "outputs": [],
   "source": [
    "sales_by_month = all_train.copy().groupby(['date_block_num', 'shop_id', 'item_id'])['item_cnt_day'].sum().reset_index()\n",
    "sales_by_month.rename(columns={'item_cnt_day':'item_cnt_month'}, inplace=True)"
   ]
  },
  {
   "cell_type": "code",
   "execution_count": 5,
   "metadata": {},
   "outputs": [
    {
     "data": {
      "text/plain": [
       "60"
      ]
     },
     "execution_count": 5,
     "metadata": {},
     "output_type": "execute_result"
    }
   ],
   "source": [
    "sales_by_month['shop_id'].nunique()"
   ]
  },
  {
   "cell_type": "code",
   "execution_count": 6,
   "metadata": {},
   "outputs": [
    {
     "data": {
      "text/plain": [
       "21807"
      ]
     },
     "execution_count": 6,
     "metadata": {},
     "output_type": "execute_result"
    }
   ],
   "source": [
    "sales_by_month['item_id'].nunique()"
   ]
  },
  {
   "cell_type": "markdown",
   "metadata": {},
   "source": [
    "## Predict using last month sales"
   ]
  },
  {
   "cell_type": "code",
   "execution_count": 7,
   "metadata": {},
   "outputs": [],
   "source": [
    "sales_last_month = sales_by_month[sales_by_month['date_block_num']==33].reset_index().copy()\n",
    "sales_last_month.drop(columns=['index', 'date_block_num'], inplace=True)"
   ]
  },
  {
   "cell_type": "code",
   "execution_count": 8,
   "metadata": {},
   "outputs": [
    {
     "data": {
      "text/html": [
       "<div>\n",
       "<style scoped>\n",
       "    .dataframe tbody tr th:only-of-type {\n",
       "        vertical-align: middle;\n",
       "    }\n",
       "\n",
       "    .dataframe tbody tr th {\n",
       "        vertical-align: top;\n",
       "    }\n",
       "\n",
       "    .dataframe thead th {\n",
       "        text-align: right;\n",
       "    }\n",
       "</style>\n",
       "<table border=\"1\" class=\"dataframe\">\n",
       "  <thead>\n",
       "    <tr style=\"text-align: right;\">\n",
       "      <th></th>\n",
       "      <th>shop_id</th>\n",
       "      <th>item_id</th>\n",
       "      <th>item_cnt_month</th>\n",
       "    </tr>\n",
       "  </thead>\n",
       "  <tbody>\n",
       "    <tr>\n",
       "      <th>0</th>\n",
       "      <td>2</td>\n",
       "      <td>31</td>\n",
       "      <td>1</td>\n",
       "    </tr>\n",
       "    <tr>\n",
       "      <th>1</th>\n",
       "      <td>2</td>\n",
       "      <td>486</td>\n",
       "      <td>3</td>\n",
       "    </tr>\n",
       "    <tr>\n",
       "      <th>2</th>\n",
       "      <td>2</td>\n",
       "      <td>787</td>\n",
       "      <td>1</td>\n",
       "    </tr>\n",
       "    <tr>\n",
       "      <th>3</th>\n",
       "      <td>2</td>\n",
       "      <td>794</td>\n",
       "      <td>1</td>\n",
       "    </tr>\n",
       "    <tr>\n",
       "      <th>4</th>\n",
       "      <td>2</td>\n",
       "      <td>968</td>\n",
       "      <td>1</td>\n",
       "    </tr>\n",
       "  </tbody>\n",
       "</table>\n",
       "</div>"
      ],
      "text/plain": [
       "   shop_id  item_id  item_cnt_month\n",
       "0        2       31               1\n",
       "1        2      486               3\n",
       "2        2      787               1\n",
       "3        2      794               1\n",
       "4        2      968               1"
      ]
     },
     "execution_count": 8,
     "metadata": {},
     "output_type": "execute_result"
    }
   ],
   "source": [
    "sales_last_month.head()"
   ]
  },
  {
   "cell_type": "code",
   "execution_count": 9,
   "metadata": {},
   "outputs": [
    {
     "name": "stdout",
     "output_type": "stream",
     "text": [
      "number of shops with sales in last month: 44\n",
      "number of items sold in last month: 5413\n",
      "number of shop-item-combinations: 31531, out of 238172 possible\n"
     ]
    }
   ],
   "source": [
    "print('number of shops with sales in last month:', sales_last_month['shop_id'].nunique())\n",
    "print('number of items sold in last month:', sales_last_month['item_id'].nunique())\n",
    "print('number of shop-item-combinations: %d, out of %d possible' %(\n",
    "    len(sales_last_month), sales_last_month['shop_id'].nunique()*sales_last_month['item_id'].nunique()))"
   ]
  },
  {
   "cell_type": "code",
   "execution_count": 10,
   "metadata": {},
   "outputs": [],
   "source": [
    "# make grid dataframe with only shop_ids and item_ids in the test data, with each item_id occuring in all shop_ids.\n",
    "submit = pd.merge(test_data, sales_last_month, how='left', on=['shop_id', 'item_id'])\n",
    "\n",
    "# set item_cnt to zero for items not sold in shop\n",
    "submit.fillna(0, inplace=True)"
   ]
  },
  {
   "cell_type": "code",
   "execution_count": 11,
   "metadata": {},
   "outputs": [
    {
     "data": {
      "text/html": [
       "<div>\n",
       "<style scoped>\n",
       "    .dataframe tbody tr th:only-of-type {\n",
       "        vertical-align: middle;\n",
       "    }\n",
       "\n",
       "    .dataframe tbody tr th {\n",
       "        vertical-align: top;\n",
       "    }\n",
       "\n",
       "    .dataframe thead th {\n",
       "        text-align: right;\n",
       "    }\n",
       "</style>\n",
       "<table border=\"1\" class=\"dataframe\">\n",
       "  <thead>\n",
       "    <tr style=\"text-align: right;\">\n",
       "      <th></th>\n",
       "      <th>ID</th>\n",
       "      <th>shop_id</th>\n",
       "      <th>item_id</th>\n",
       "      <th>item_cnt_month</th>\n",
       "    </tr>\n",
       "  </thead>\n",
       "  <tbody>\n",
       "    <tr>\n",
       "      <th>0</th>\n",
       "      <td>0</td>\n",
       "      <td>5</td>\n",
       "      <td>5037</td>\n",
       "      <td>0.0</td>\n",
       "    </tr>\n",
       "    <tr>\n",
       "      <th>1</th>\n",
       "      <td>1</td>\n",
       "      <td>5</td>\n",
       "      <td>5320</td>\n",
       "      <td>0.0</td>\n",
       "    </tr>\n",
       "    <tr>\n",
       "      <th>2</th>\n",
       "      <td>2</td>\n",
       "      <td>5</td>\n",
       "      <td>5233</td>\n",
       "      <td>1.0</td>\n",
       "    </tr>\n",
       "    <tr>\n",
       "      <th>3</th>\n",
       "      <td>3</td>\n",
       "      <td>5</td>\n",
       "      <td>5232</td>\n",
       "      <td>0.0</td>\n",
       "    </tr>\n",
       "    <tr>\n",
       "      <th>4</th>\n",
       "      <td>4</td>\n",
       "      <td>5</td>\n",
       "      <td>5268</td>\n",
       "      <td>0.0</td>\n",
       "    </tr>\n",
       "  </tbody>\n",
       "</table>\n",
       "</div>"
      ],
      "text/plain": [
       "   ID  shop_id  item_id  item_cnt_month\n",
       "0   0        5     5037             0.0\n",
       "1   1        5     5320             0.0\n",
       "2   2        5     5233             1.0\n",
       "3   3        5     5232             0.0\n",
       "4   4        5     5268             0.0"
      ]
     },
     "execution_count": 11,
     "metadata": {},
     "output_type": "execute_result"
    }
   ],
   "source": [
    "submit.head()"
   ]
  },
  {
   "cell_type": "code",
   "execution_count": 12,
   "metadata": {},
   "outputs": [
    {
     "name": "stdout",
     "output_type": "stream",
     "text": [
      "predicted item_cnt_month > 20: 0.09%\n",
      "predicted item_cnt_month < 0: 0.0037%\n"
     ]
    }
   ],
   "source": [
    "print('predicted item_cnt_month > 20: %.2f%%'\n",
    "      %np.round(100 * submit[submit['item_cnt_month']>20].shape[0]/len(submit), 2))\n",
    "\n",
    "print('predicted item_cnt_month < 0: %.4f%%'\n",
    "      %np.round(100 * submit[submit['item_cnt_month']<0].shape[0]/len(submit), 4))"
   ]
  },
  {
   "cell_type": "code",
   "execution_count": 13,
   "metadata": {},
   "outputs": [],
   "source": [
    "# truncate predicted item_cnt_month to between 0 and 20 to match test data\n",
    "submit.loc[submit['item_cnt_month']>20, 'item_cnt_month'] = 20\n",
    "submit.loc[submit['item_cnt_month']<0, 'item_cnt_month'] = 0"
   ]
  },
  {
   "cell_type": "code",
   "execution_count": 14,
   "metadata": {},
   "outputs": [
    {
     "data": {
      "text/plain": [
       "count    214200.000000\n",
       "mean          0.255649\n",
       "std           1.089856\n",
       "min           0.000000\n",
       "25%           0.000000\n",
       "50%           0.000000\n",
       "75%           0.000000\n",
       "max          20.000000\n",
       "Name: item_cnt_month, dtype: float64"
      ]
     },
     "execution_count": 14,
     "metadata": {},
     "output_type": "execute_result"
    }
   ],
   "source": [
    "# sanity check\n",
    "submit['item_cnt_month'].describe()"
   ]
  },
  {
   "cell_type": "code",
   "execution_count": 15,
   "metadata": {
    "scrolled": true
   },
   "outputs": [],
   "source": [
    "# submit[['ID','item_cnt_month']].to_csv('submission_last_month_sales.csv', index=False)"
   ]
  }
 ],
 "metadata": {
  "kernelspec": {
   "display_name": "Python 3",
   "language": "python",
   "name": "python3"
  },
  "language_info": {
   "codemirror_mode": {
    "name": "ipython",
    "version": 3
   },
   "file_extension": ".py",
   "mimetype": "text/x-python",
   "name": "python",
   "nbconvert_exporter": "python",
   "pygments_lexer": "ipython3",
   "version": "3.6.5"
  }
 },
 "nbformat": 4,
 "nbformat_minor": 2
}
